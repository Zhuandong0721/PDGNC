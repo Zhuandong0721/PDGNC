{
 "cells": [
  {
   "cell_type": "markdown",
   "metadata": {},
   "source": [
    "# Finding Strongly-Connected Components (SCCs) in Interaction Contribution\n",
    "This notebook computes SCCs from the interaction contributions $E^I$ in the article. It requires a successful computation of LRP for all genes using:\n",
    "```\n",
    "python lrp.py -m <path-to-EMOGI-model> --all\n",
    "```\n",
    "The notebook features several analyses of the SCCs like their correlation with betweenness, which features are mainly altered and also writes the SCCs to file as gml which can be read by Cytoscape.\n",
    "It also estimates a threshold for the edges that maximizes the number of SCCs and does pathway & GO enrichment analysis."
   ]
  },
  {
   "cell_type": "markdown",
   "metadata": {},
   "source": [
    "## Imports"
   ]
  },
  {
   "cell_type": "code",
   "execution_count": 1,
   "metadata": {},
   "outputs": [],
   "source": [
    "# data science & classics\n",
    "import pandas as pd\n",
    "import numpy as np\n",
    "import h5py\n",
    "import networkx as nx\n",
    "import os, sys\n",
    "import subprocess\n",
    "import scipy\n",
    "\n",
    "# clustering & embedding\n",
    "from sklearn.cluster import SpectralBiclustering\n",
    "from sklearn.decomposition import PCA\n",
    "from sklearn.manifold import TSNE\n",
    "from scipy.cluster import hierarchy\n",
    "import umap\n",
    "import sklearn\n",
    "from sklearn import preprocessing\n",
    "\n",
    "# other modules of mine\n",
    "sys.path.append(os.path.abspath('../EMOGI'))\n",
    "import gcnIO, postprocessing, utils\n",
    "sys.path.append(os.path.abspath('../pancancer/preprocessing'))\n",
    "import preprocessing_utils as pre_utils\n",
    "\n",
    "# GO enrichment analysis\n",
    "from goatools.base import download_go_basic_obo\n",
    "from goatools.base import download_ncbi_associations\n",
    "from goatools.obo_parser import GODag\n",
    "from goatools.anno.genetogo_reader import Gene2GoReader\n",
    "from goatools.test_data.genes_NCBI_9606_ProteinCoding import GENEID2NT as GeneID2nt_human\n",
    "from goatools.godag_plot import plot_gos, plot_results, plot_goid2goobj\n",
    "from goatools.goea.go_enrichment_ns import GOEnrichmentStudyNS\n",
    "\n",
    "sys.path.append(os.path.abspath('../pancancer'))\n",
    "import preprocessing_utils as ut\n",
    "\n",
    "# plotting\n",
    "import matplotlib.pyplot as plt\n",
    "import matplotlib.gridspec as gridspec\n",
    "import seaborn as sns\n",
    "plt.rc('font', family='Arial')\n",
    "%matplotlib inline"
   ]
  },
  {
   "cell_type": "markdown",
   "metadata": {},
   "source": [
    "## Parameters:\n",
    "\n",
    "* `compute_optimal_cutoff`: Whether to compute the cutoff for the number of SCCs"
   ]
  },
  {
   "cell_type": "code",
   "execution_count": 2,
   "metadata": {},
   "outputs": [],
   "source": [
    "compute_optimal_cutoff = True"
   ]
  },
  {
   "cell_type": "markdown",
   "metadata": {},
   "source": [
    "## Relevant Paths\n",
    "* `achilles_data_path`: Path to the achilles CRISPRi gene effect csv file that can be downloaded [here](https://depmap.org/portal/download/)\n",
    "* `model_dir`: Path to the training directory where both, the model and the LRP contributions are stored."
   ]
  },
  {
   "cell_type": "code",
   "execution_count": 3,
   "metadata": {},
   "outputs": [],
   "source": [
    "#model_dir = '../data/GCN/training/ctrl_CPDB_multiomics_rev1/'\n",
    "model_dir = '../data/GCN/training/Rev1_CNA_separated_all_networks/CPDB/'\n",
    "#model_dir = '../data/GCN/training/final_TCGA_all_networks/CPDB/multiomics/'\n",
    "\n",
    "achilles_data_path = '../data/pancancer/Achilles/Achilles_gene_effect.csv'\n",
    "ncg_cancer_genes_path = '../data/pancancer/NCG/cancergenes_list.txt'\n",
    "oncokb_path = '../data/pancancer/oncoKB/cancerGeneList.txt'\n",
    "cgc_path = '../data/pancancer/cosmic/cancer_gene_census.csv'\n",
    "ongene_path = '../data/pancancer/ongene_tsgene/Human_Oncogenes.txt'\n",
    "tsgene_path = '../data/pancancer/ongene_tsgene/Human_TSGs.txt'\n",
    "driverdb_path = '../data/pancancer/driverdb/{}_download_tab.txt' # needs formatting for evidence type\n",
    "baileyetal_path = '../data/pancancer/comprehensive_characterization_of_cancer_driver_genes_and_mutations/comprehensive_characterization_cancer_genes.csv'"
   ]
  },
  {
   "cell_type": "markdown",
   "metadata": {},
   "source": [
    "## Functions"
   ]
  },
  {
   "cell_type": "code",
   "execution_count": 4,
   "metadata": {},
   "outputs": [],
   "source": [
    "def get_pathway_enrichment(genes, universe, cluster_idx, out_dir, clean_up=True):\n",
    "    # write cluster information to disk\n",
    "    genes.set_index('ID').to_csv(os.path.join(out_dir, 'cluster_{}.tsv'.format(cluster_idx)), sep='\\t')\n",
    "    universe.set_index('ID').to_csv(os.path.join(out_dir, 'universe_cluster_{}.tsv'.format(cluster_idx)), sep='\\t')\n",
    "\n",
    "    # formulate command to hand to R script\n",
    "    cmd = 'Rscript KEGG.R {} {} {} {}'.format(os.path.join(out_dir, 'cluster_{}.tsv'.format(cluster_idx)),\n",
    "                                              os.path.join(out_dir, 'universe_cluster_{}.tsv'.format(cluster_idx)),\n",
    "                                              os.path.join(out_dir, 'cluster_{}_pathways.txt'.format(cluster_idx)),\n",
    "                                              genes.shape[0]\n",
    "                                          )\n",
    "    res = subprocess.call(cmd, shell=True)\n",
    "    # read pathways and return\n",
    "    top_pathways = pd.read_csv(os.path.join(model_dir, 'cluster_{}_pathways.txt'.format(cluster_idx)),\n",
    "                               sep='\\t')[['Pvalue', 'Count', 'Size', 'Term']].head(5)\n",
    "    \n",
    "    if clean_up:\n",
    "        os.remove(os.path.join(out_dir, 'cluster_{}.tsv'.format(cluster_idx)))\n",
    "        os.remove(os.path.join(out_dir, 'universe_cluster_{}.tsv'.format(cluster_idx)))\n",
    "\n",
    "    return top_pathways\n",
    "\n",
    "\n",
    "def plot_representative(ax, rep, rep_std, xlabels, title=None):\n",
    "    ax.bar(x=np.arange(len(xlabels)), height=rep.values, tick_label=xlabels)#, yerr=rep_std.values)\n",
    "    #ax.spines['right'].set_visible(False)\n",
    "    #ax.spines['top'].set_visible(False)\n",
    "    #ax.spines['bottom'].set_visible(False)\n",
    "    ax.tick_params(axis='both', labelsize=16)\n",
    "    for tick in ax.get_xticklabels():\n",
    "        tick.set_rotation(90)\n",
    "    if not title is None:\n",
    "        ax.set_title(title, fontsize=18)\n",
    "    ax.set_ylabel('Feature\\nContribution', fontsize=18)\n",
    "    utils.colorize_by_omics(ax, xlabels)\n",
    "\n",
    "\n",
    "def plot_representative_heatmap(ax, rep, xlabels, title=None):\n",
    "    vmax = rep.max()\n",
    "    vmin = rep.min()\n",
    "    print (\"Max and min \", vmax, vmin)\n",
    "    rep = rep.reshape(16, 3, order='F')\n",
    "    inner = gridspec.GridSpecFromSubplotSpec(3, 1, hspace=0, subplot_spec=ax)\n",
    "    omics = ['Mutation', 'Methylation', 'Expression']\n",
    "    cmaps = [sns.color_palette(\"Reds\"), sns.color_palette(\"Blues\"), sns.color_palette(\"Greens\")]\n",
    "\n",
    "    for c in range(3):\n",
    "        ax = plt.Subplot(fig, inner[c])\n",
    "        xticklabels = False\n",
    "        if c == 2:\n",
    "            xticklabels = [i.split(':')[1] for i in xlabels[:16]]\n",
    "        sns.heatmap(rep[:, c].reshape(1, -1), ax=ax, xticklabels=xticklabels,\n",
    "                    cbar=False, cmap=cmaps[c],\n",
    "                    cbar_kws={'use_gridspec': False, 'orientation': 'vertical'},\n",
    "                    vmax=vmax, vmin=vmin)\n",
    "        ax.set_yticklabels([omics[c]], rotation=0, fontsize=10)\n",
    "        if not title is None and c == 0:\n",
    "            ax.set_title(title, fontsize=16)\n",
    "        fig.add_subplot(ax)\n",
    "    plt.subplots_adjust(bottom=0.05, hspace=0.05, wspace=0)\n",
    "\n",
    "\n",
    "def plot_pathway_information(ax, pathways):\n",
    "    for i in range(pathways.shape[0]):\n",
    "        ax.text(0, 0.9-i*0.2, '{0:.0E}  {1}  {2}  {3}'.format(pathways.iloc[i]['Pvalue'],\n",
    "                                                              pathways.iloc[i]['Count'],\n",
    "                                                              pathways.iloc[i]['Size'],\n",
    "                                                              pathways.iloc[i]['Term']\n",
    "                                                             ), fontsize=12\n",
    "               )\n",
    "        ax.get_xaxis().set_visible(False)\n",
    "        ax.get_yaxis().set_visible(False)\n",
    "        ax.spines['right'].set_visible(False)\n",
    "        ax.spines['top'].set_visible(False)\n",
    "        ax.spines['left'].set_visible(False)\n",
    "        ax.spines['bottom'].set_visible(False)"
   ]
  },
  {
   "cell_type": "markdown",
   "metadata": {},
   "source": [
    "### Load PPI Edge Contributions"
   ]
  },
  {
   "cell_type": "code",
   "execution_count": 5,
   "metadata": {},
   "outputs": [
    {
     "name": "stdout",
     "output_type": "stream",
     "text": [
      "Loaded and added neighbor contributions with support 0\n",
      "Loaded and added neighbor contributions with support 1\n"
     ]
    },
    {
     "data": {
      "text/plain": [
       "(-218.03097329998323, 103.74528174965478)"
      ]
     },
     "execution_count": 5,
     "metadata": {},
     "output_type": "execute_result"
    }
   ],
   "source": [
    "lrp_neighbor_matrix = np.load(os.path.join(model_dir, 'lrp_sigmoid', 'support_0_mean_sum.npy'))\n",
    "count = 1\n",
    "for i in range(5):\n",
    "    p = os.path.join(model_dir, 'lrp_sigmoid', 'support_{}_mean_sum.npy'.format(i))\n",
    "    if os.path.isfile(p):\n",
    "        lrp_neighbor_matrix += np.load(p)\n",
    "        count += 1\n",
    "        print (\"Loaded and added neighbor contributions with support {}\".format(i))\n",
    "lrp_neighbor_matrix = lrp_neighbor_matrix / float(count)\n",
    "lrp_neighbor_matrix.min(), lrp_neighbor_matrix.max()"
   ]
  },
  {
   "cell_type": "markdown",
   "metadata": {},
   "source": [
    "### Load Feature LRP Results & EMOGI Predictions"
   ]
  },
  {
   "cell_type": "code",
   "execution_count": 6,
   "metadata": {},
   "outputs": [],
   "source": [
    "# get the relevant data from the input container\n",
    "args, _ = gcnIO.load_hyper_params(model_dir)\n",
    "with h5py.File(os.path.join(model_dir, args['data']), 'r') as f:\n",
    "    node_names = f['gene_names'][:]\n",
    "    feature_names = f['feature_names'][:]\n",
    "    adjacency = f['network'][:]\n",
    "    features = f['features'][:]\n",
    "\n",
    "# Load the LRP feature results for all genes\n",
    "feature_contributions = np.load(os.path.join(model_dir, 'lrp_sigmoid', 'feat_mean_all.npy'))\n",
    "# replace 0 values with small random ones to prevent numerical issues\n",
    "feat_contrib_df = pd.DataFrame(feature_contributions, index=node_names[:feature_contributions.shape[0], 1], columns=feature_names)\n",
    "zero_rows = feat_contrib_df[(feat_contrib_df == 0).all(axis=1)]\n",
    "feat_contrib_df.loc[(feat_contrib_df == 0).all(axis=1)] = np.random.randn(*zero_rows.shape)*0.00001\n",
    "nodes = pd.DataFrame(node_names, columns=['ID', 'Name'])\n",
    "\n",
    "# get the predictions of the model\n",
    "pred = postprocessing.load_predictions(model_dir)"
   ]
  },
  {
   "cell_type": "code",
   "execution_count": 7,
   "metadata": {},
   "outputs": [
    {
     "data": {
      "text/plain": [
       "517956"
      ]
     },
     "execution_count": 7,
     "metadata": {},
     "output_type": "execute_result"
    }
   ],
   "source": [
    "(lrp_neighbor_matrix != 0).sum()"
   ]
  },
  {
   "cell_type": "code",
   "execution_count": 8,
   "metadata": {},
   "outputs": [
    {
     "data": {
      "text/plain": [
       "1596"
      ]
     },
     "execution_count": 8,
     "metadata": {},
     "output_type": "execute_result"
    }
   ],
   "source": [
    "(lrp_neighbor_matrix != 0).sum(axis=0).max()"
   ]
  },
  {
   "cell_type": "code",
   "execution_count": 9,
   "metadata": {},
   "outputs": [
    {
     "data": {
      "text/plain": [
       "[('CDH15', 'CDH7', {'weight': 9.537505127050592}),\n",
       " ('GUCY1A1', 'TP53', {'weight': 6.890360786120053}),\n",
       " ('OGA', 'TP53', {'weight': 6.0373488112385525}),\n",
       " ('VLDLR', 'LRPAP1', {'weight': 5.877348341065435}),\n",
       " ('TOP1MT', 'TP53', {'weight': 5.094309990544176}),\n",
       " ('CRHBP', 'CCNB2', {'weight': 4.718621684697742}),\n",
       " ('TCP11', 'NPFFR1', {'weight': 4.628199249894048}),\n",
       " ('ETHE1', 'TP53', {'weight': 4.127754622315327}),\n",
       " ('IDI1', 'PPP1R15A', {'weight': 3.8594021163870007}),\n",
       " ('NOTUM', 'WNT7A', {'weight': 3.4059993846735908})]"
      ]
     },
     "execution_count": 9,
     "metadata": {},
     "output_type": "execute_result"
    }
   ],
   "source": [
    "lrp_neighbor_matrix_abs = lrp_neighbor_matrix.copy()\n",
    "#lrp_neighbor_matrix_abs = np.abs(lrp_neighbor_matrix_abs)\n",
    "lrp_neighbor_matrix_abs[lrp_neighbor_matrix_abs < 0] = 0\n",
    "\n",
    "# normalize\n",
    "lrp_df = pd.DataFrame(lrp_neighbor_matrix_abs, index=node_names[:, 1], columns=node_names[:, 1])\n",
    "#lrp_df = lrp_df.rank(axis=1, method='dense') - 1 # for computational efficiency (few edges because most entries are 0)\n",
    "#degrees = pd.DataFrame(adjacency, index=node_names[:, 1]).sum(axis=1)\n",
    "#assert ((degrees.index == lrp_df.index).all())\n",
    "#lrp_df = lrp_df.div(degrees, axis=0)\n",
    "#lrp_df = lrp_df.div(lrp_df.sum(axis=1), axis=0)\n",
    "lrp_df.fillna(0, inplace=True) # some genes have 0 neighbor contribution in total. They are nan after normalization\n",
    "#pred_sameindex = pred.set_index('Name').reindex(lrp_df.index)['Prob_pos']\n",
    "#lrp_df = lrp_df.mul(pred_sameindex, axis=0)\n",
    "# compute graph\n",
    "C_abs = nx.from_pandas_adjacency(lrp_df,\n",
    "                                 create_using=nx.MultiDiGraph)\n",
    "C_abs.remove_edges_from(list(nx.selfloop_edges(C_abs)))\n",
    "\n",
    "sorted(C_abs.edges(data=True), key=lambda x: x[2]['weight'], reverse=True)[:10]"
   ]
  },
  {
   "cell_type": "code",
   "execution_count": 10,
   "metadata": {},
   "outputs": [
    {
     "data": {
      "text/plain": [
       "(0.03854833861149874,\n",
       " 0.016738891936620377,\n",
       " 9.537505127050592,\n",
       " 4.3897644511995774e-08)"
      ]
     },
     "execution_count": 10,
     "metadata": {},
     "output_type": "execute_result"
    },
    {
     "data": {
      "image/png": "[encoded data removed]",
      "text/plain": [
       "<Figure size 432x288 with 1 Axes>"
      ]
     },
     "metadata": {
      "needs_background": "light"
     },
     "output_type": "display_data"
    }
   ],
   "source": [
    "edge_weights = [i[2]['weight'] for i in C_abs.edges(data=True)]\n",
    "\n",
    "sns.distplot(edge_weights, hist=True)\n",
    "np.mean(edge_weights), np.median(edge_weights), np.max(edge_weights), np.min(edge_weights)"
   ]
  },
  {
   "cell_type": "markdown",
   "metadata": {},
   "source": [
    "### Compute Optimal Threshold\n",
    "This only executes if the flag is set earlier because it is time-consuming"
   ]
  },
  {
   "cell_type": "code",
   "execution_count": 11,
   "metadata": {},
   "outputs": [
    {
     "name": "stdout",
     "output_type": "stream",
     "text": [
      "Reading: ../data/GCN/training/final_TCGA_all_networks/CPDB/multiomics/SCCs/thr_019_noneg/lrp_neighbors_new_comp_10_thr_0.19.gml\n",
      "Reading: ../data/GCN/training/final_TCGA_all_networks/CPDB/multiomics/SCCs/thr_019_noneg/lrp_neighbors_new_comp_9_thr_0.19.gml\n",
      "Reading: ../data/GCN/training/final_TCGA_all_networks/CPDB/multiomics/SCCs/thr_019_noneg/lrp_neighbors_new_comp_8_thr_0.19.gml\n",
      "Reading: ../data/GCN/training/final_TCGA_all_networks/CPDB/multiomics/SCCs/thr_019_noneg/lrp_neighbors_new_comp_7_thr_0.19.gml\n",
      "Reading: ../data/GCN/training/final_TCGA_all_networks/CPDB/multiomics/SCCs/thr_019_noneg/lrp_neighbors_new_comp_6_thr_0.19.gml\n",
      "Reading: ../data/GCN/training/final_TCGA_all_networks/CPDB/multiomics/SCCs/thr_019_noneg/lrp_neighbors_new_comp_1_thr_0.19.gml\n",
      "Reading: ../data/GCN/training/final_TCGA_all_networks/CPDB/multiomics/SCCs/thr_019_noneg/lrp_neighbors_new_comp_2_thr_0.19.gml\n",
      "Reading: ../data/GCN/training/final_TCGA_all_networks/CPDB/multiomics/SCCs/thr_019_noneg/lrp_neighbors_new_comp_3_thr_0.19.gml\n",
      "Reading: ../data/GCN/training/final_TCGA_all_networks/CPDB/multiomics/SCCs/thr_019_noneg/lrp_neighbors_new_comp_4_thr_0.19.gml\n",
      "Reading: ../data/GCN/training/final_TCGA_all_networks/CPDB/multiomics/SCCs/thr_019_noneg/lrp_neighbors_new_comp_5_thr_0.19.gml\n"
     ]
    },
    {
     "data": {
      "text/plain": [
       "128"
      ]
     },
     "execution_count": 11,
     "metadata": {},
     "output_type": "execute_result"
    }
   ],
   "source": [
    "old_modules_dir = '../data/GCN/training/final_TCGA_all_networks/CPDB/multiomics/SCCs/thr_019_noneg/'\n",
    "all_genes_in_modules = []\n",
    "for gml in os.listdir(old_modules_dir):\n",
    "    if gml.endswith('.gml') and not 'nonzero' in gml:\n",
    "        print ('Reading: {}'.format(os.path.join(old_modules_dir, gml)))\n",
    "        module = nx.read_gml(os.path.join(old_modules_dir, gml))\n",
    "        all_genes_in_modules += [n for n in module.nodes()]\n",
    "len(all_genes_in_modules)"
   ]
  },
  {
   "cell_type": "code",
   "execution_count": 10,
   "metadata": {},
   "outputs": [],
   "source": [
    "tfs = pd.read_excel('../data/pancancer/lambert_transcriptionfactors/tfs_human.xlsx', sheet_name='Table S1. Related to Figure 1B')"
   ]
  },
  {
   "cell_type": "code",
   "execution_count": 11,
   "metadata": {},
   "outputs": [],
   "source": [
    "tfs.dropna(subset=['Is TF?'], inplace=True)\n",
    "tfs = tfs[tfs['Is TF?'] == 'Yes']"
   ]
  },
  {
   "cell_type": "code",
   "execution_count": 12,
   "metadata": {},
   "outputs": [
    {
     "ename": "NameError",
     "evalue": "name 'all_genes_in_modules' is not defined",
     "output_type": "error",
     "traceback": [
      "\u001b[0;31m---------------------------------------------------------------------------\u001b[0m",
      "\u001b[0;31mNameError\u001b[0m                                 Traceback (most recent call last)",
      "\u001b[0;32m<ipython-input-12-1ec163f90dc1>\u001b[0m in \u001b[0;36m<module>\u001b[0;34m\u001b[0m\n\u001b[0;32m----> 1\u001b[0;31m \u001b[0mtfs\u001b[0m\u001b[0;34m[\u001b[0m\u001b[0mtfs\u001b[0m\u001b[0;34m[\u001b[0m\u001b[0;34m'Unnamed: 1'\u001b[0m\u001b[0;34m]\u001b[0m\u001b[0;34m.\u001b[0m\u001b[0misin\u001b[0m\u001b[0;34m(\u001b[0m\u001b[0mall_genes_in_modules\u001b[0m\u001b[0;34m)\u001b[0m\u001b[0;34m]\u001b[0m\u001b[0;34m\u001b[0m\u001b[0;34m\u001b[0m\u001b[0m\n\u001b[0m",
      "\u001b[0;31mNameError\u001b[0m: name 'all_genes_in_modules' is not defined"
     ]
    }
   ],
   "source": [
    "tfs[tfs['Unnamed: 1'].isin(all_genes_in_modules)]"
   ]
  },
  {
   "cell_type": "code",
   "execution_count": 70,
   "metadata": {},
   "outputs": [
    {
     "name": "stdout",
     "output_type": "stream",
     "text": [
      "[4, 3, 6, 8, 9, 9, 7, 5, 5, 5, 4]\n"
     ]
    },
    {
     "data": {
      "image/png": "[encoded data removed]",
      "text/plain": [
       "<Figure size 1008x576 with 1 Axes>"
      ]
     },
     "metadata": {
      "needs_background": "light"
     },
     "output_type": "display_data"
    }
   ],
   "source": [
    "def get_overlap_old(modules):\n",
    "    total_overlap = 0\n",
    "    for m in modules:\n",
    "        total_overlap += len([n for n in m if n in all_genes_in_modules])\n",
    "    return total_overlap\n",
    "\n",
    "def get_number_of_modules(threshold):\n",
    "    to_remove = []\n",
    "    for u, v, weight in C_abs.edges(data='weight'):\n",
    "        if weight < threshold:\n",
    "            to_remove.append((u, v))\n",
    "    C_abs_copy = C_abs.copy()\n",
    "    C_abs_copy.remove_edges_from(to_remove)\n",
    "    modules = [c for c in sorted(nx.strongly_connected_components(C_abs_copy), key=len, reverse=True) if len(c) >= 5]\n",
    "    module_sizes = [len(m) for m in modules]\n",
    "    return len(module_sizes), get_overlap_old(modules)\n",
    "\n",
    "if compute_optimal_cutoff:\n",
    "    thresholds = np.linspace(.1, .2, 11) #np.arange(.1, .2, )\n",
    "    number_of_modules = []\n",
    "    for thr in thresholds:\n",
    "        number_of_modules.append(get_number_of_modules(thr))\n",
    "    overlap = [i[1] for i in number_of_modules]\n",
    "    number_of_modules = [i[0] for i in number_of_modules]\n",
    "    \n",
    "    fig = plt.figure(figsize=(14, 8))\n",
    "    #plt.subplot(2, 1, 1)\n",
    "    plt.bar(x=list(range(len(number_of_modules))), height=number_of_modules)\n",
    "    _ = plt.xticks(ticks=list(range(len(number_of_modules))), labels=['{0:.3f}'.format(i) for i in thresholds], fontsize=15)\n",
    "    plt.xlabel('Thresholds for Edge Weight', fontsize=20)\n",
    "    plt.ylabel('Number of Modules of Size $\\leq$ 5', fontsize=20)\n",
    "    print (number_of_modules)\n",
    "    plt.gca().tick_params(axis='y', which='major', labelsize=20)\n",
    "    plt.gca().tick_params(axis='x', rotation=90)\n",
    "    #plt.subplot(2, 1, 2)\n",
    "    #plt.bar(x=list(range(len(number_of_modules))), height=overlap)\n",
    "    #_ = plt.xticks(ticks=list(range(len(number_of_modules))), labels=['{0:.3f}'.format(i) for i in thresholds], fontsize=15)\n",
    "    #plt.xlabel('Thresholds for Edge Weight', fontsize=20)\n",
    "    #plt.ylabel('Number of Genes Overlapping', fontsize=20)\n",
    "    #print (overlap)\n",
    "    #plt.gca().tick_params(axis='y', which='major', labelsize=20)\n",
    "    #plt.gca().tick_params(axis='x', rotation=90)\n",
    "    plt.tight_layout()\n",
    "    fig.savefig(os.path.join(model_dir, 'SCCs', 'module_sizes_posonly_finegrained.svg'))\n",
    "    "
   ]
  },
  {
   "cell_type": "markdown",
   "metadata": {},
   "source": [
    "### Compute the SCCs"
   ]
  },
  {
   "cell_type": "code",
   "execution_count": 14,
   "metadata": {},
   "outputs": [],
   "source": [
    "# normalization upon summation (same as previous submission)\n",
    "#min_edge_weight = 0.1339 0.145 (0.24 for abs)\n",
    "\n",
    "# NO NORM = OLD METHOD\n",
    "# .112 for summed, ranked and row-normalized \n",
    "# .089 for summed and row-normalized (no ranking)\n",
    "# 0.27 for nothing\n",
    "\n",
    "# NOSUM\n",
    "# .115 for non-sum, ranked and row normalized\n",
    "# 0.063 for non-sum, row-normalized\n",
    "# 0.042 for non-sum, nothing\n",
    "# .039 for non-sum, row-normalized and scaled by EMOGI score\n",
    "\n",
    "# .707 for ranked non-sum with wrong (column) normalization\n",
    "\n",
    "# CTRL\n",
    "# 0.0373 for nothing\n",
    "# .067 for row-normalization\n",
    "# .111 for ranking + row-normalization\n",
    "\n",
    "# NOSUM + MASK=1\n",
    "# 0.061 for nothing\n",
    "# 0.065 for row-normalization\n",
    "# 0.112 for ranking and row-normalization\n",
    "min_edge_weight = 0.14\n",
    "\n",
    "G = C_abs.copy()\n",
    "edge_weights = nx.get_edge_attributes(G,'weight')\n",
    "G.remove_edges_from((e for e, w in edge_weights.items() if w <= min_edge_weight))\n",
    "\n",
    "#nw_thr = np.where(lrp_neighbor_matrix_abs <= min_edge_weight, 0, lrp_neighbor_matrix)\n",
    "#nw_thr_df = pd.DataFrame(data=nw_thr, index=node_names[:, 1], columns=node_names[:, 1])\n",
    "#G = nx.from_pandas_adjacency(nw_thr_df, create_using=nx.MultiDiGraph)"
   ]
  },
  {
   "cell_type": "code",
   "execution_count": 15,
   "metadata": {},
   "outputs": [
    {
     "name": "stdout",
     "output_type": "stream",
     "text": [
      "[149, 16, 9, 8, 6, 5, 5, 5, 5, 4, 4, 4, 4, 4, 4, 4, 3, 3, 3, 3, 3, 3, 3, 3, 3, 3, 3, 3, 3, 3, 3, 3, 3, 3, 3, 3, 3, 3, 3, 3, 3, 3, 3, 3, 3, 2, 2, 2, 2, 2, 2, 2, 2, 2, 2, 2, 2, 2, 2, 2, 2, 2, 2, 2, 2, 2, 2, 2, 2, 2, 2, 2, 2, 2, 2, 2, 2, 2, 2, 2, 2, 2, 2, 2, 2, 2, 2, 2, 2, 2, 2, 2, 2, 2, 2, 2, 2, 2, 2, 2, 2, 2, 2, 2, 2, 2, 2, 2, 2, 2, 2, 2, 2, 2, 2, 2, 2, 2, 2, 2, 2, 2, 2, 2, 2, 2, 2, 2, 2, 2, 2, 2, 2, 2, 2, 2, 2, 2, 2, 2, 2, 2, 2, 2, 2, 2, 2, 2, 2, 2, 2, 2, 2, 2, 2, 2, 2, 2, 2, 2, 2, 2, 2, 2, 2, 2, 2, 2, 2, 2, 2, 2, 2, 2, 2, 2, 2, 2, 2, 2, 2, 2, 2, 2, 2, 2, 2, 2, 2, 2, 2, 2, 2, 2, 2, 2, 2, 2, 2, 2, 2, 2, 2, 2, 2, 2, 2, 2, 2, 2, 2, 2, 2, 2, 2, 2, 2, 2, 2, 2, 2, 2]\n",
      "149\n",
      "9\n"
     ]
    }
   ],
   "source": [
    "\"\"\"\n",
    "nx.set_node_attributes(G=G, values=pred.set_index('Name')['Prob_pos'].to_dict(), name='OutputProb')\n",
    "#nx.set_node_attributes(G=G, values=pred.set_index('Name')['label'].to_dict(), name='KnownCancerGene')\n",
    "nx.set_node_attributes(G=G, values=pred.set_index('Name')['Pred_Cancer_Gene'].to_dict(), name='PredictedCancerGene')\n",
    "nx.set_node_attributes(G=G, values=pred.set_index('Name')['essentiality'].to_dict(), name='Essentiality')\n",
    "nx.set_node_attributes(G=G, values=pred.set_index('Name')['DatabaseKnowledge'].to_dict(), name='DatabaseKnowledge')\n",
    "\n",
    "nx.set_node_attributes(G=G, values=pred.set_index('Name')['CGC'].to_dict(), name='CGC')\n",
    "nx.set_node_attributes(G=G, values=pred.set_index('Name')['Bailey'].to_dict(), name='BaileyEtAl')\n",
    "nx.set_node_attributes(G=G, values=pred.set_index('Name')['NCGCandidates'].to_dict(), name='NCGCandidates')\n",
    "nx.set_node_attributes(G=G, values=pred.set_index('Name')['OncoKB'].to_dict(), name='OncoKB')\n",
    "nx.set_node_attributes(G=G, values=pred.set_index('Name')['DriverDB'].to_dict(), name='DriverDB')\n",
    "nx.set_node_attributes(G=G, values=pred.set_index('Name')['ONGene_TSGene'].to_dict(), name='ONGeneTSGene')\n",
    "\"\"\"\n",
    "print ([len(c) for c in sorted(nx.strongly_connected_components(G), key=len, reverse=True) if len(c) > 1])\n",
    "print (len(max(nx.strongly_connected_components(G), key=len)))\n",
    "nodes_component = list(max(nx.strongly_connected_components(G), key=len))\n",
    "x = pd.DataFrame(nodes_component, columns=['Name'])\n",
    "all_components = [list(c) for c in sorted(nx.strongly_connected_components(G), key=len, reverse=True) if len(c) > 1]\n",
    "all_components_larger5 = [list(c) for c in sorted(nx.strongly_connected_components(G), key=len, reverse=True) if len(c) >= 5]\n",
    "print (len(all_components_larger5))"
   ]
  },
  {
   "cell_type": "code",
   "execution_count": 16,
   "metadata": {},
   "outputs": [
    {
     "data": {
      "text/plain": [
       "45"
      ]
     },
     "execution_count": 16,
     "metadata": {},
     "output_type": "execute_result"
    }
   ],
   "source": [
    "len([len(i) for i in all_components if len(i) > 2])"
   ]
  },
  {
   "cell_type": "code",
   "execution_count": 17,
   "metadata": {},
   "outputs": [
    {
     "ename": "NameError",
     "evalue": "name 'all_genes_in_modules' is not defined",
     "output_type": "error",
     "traceback": [
      "\u001b[0;31m---------------------------------------------------------------------------\u001b[0m",
      "\u001b[0;31mNameError\u001b[0m                                 Traceback (most recent call last)",
      "\u001b[0;32m<ipython-input-17-6d97c13d9bc8>\u001b[0m in \u001b[0;36m<module>\u001b[0;34m\u001b[0m\n\u001b[1;32m      1\u001b[0m \u001b[0mflat_list\u001b[0m \u001b[0;34m=\u001b[0m \u001b[0;34m[\u001b[0m\u001b[0mgene\u001b[0m \u001b[0;32mfor\u001b[0m \u001b[0mscc\u001b[0m \u001b[0;32min\u001b[0m \u001b[0mall_components\u001b[0m \u001b[0;32mfor\u001b[0m \u001b[0mgene\u001b[0m \u001b[0;32min\u001b[0m \u001b[0mscc\u001b[0m \u001b[0;32mif\u001b[0m \u001b[0mlen\u001b[0m\u001b[0;34m(\u001b[0m\u001b[0mscc\u001b[0m\u001b[0;34m)\u001b[0m \u001b[0;34m>\u001b[0m \u001b[0;36m5\u001b[0m\u001b[0;34m]\u001b[0m\u001b[0;34m\u001b[0m\u001b[0;34m\u001b[0m\u001b[0m\n\u001b[0;32m----> 2\u001b[0;31m \u001b[0mlen\u001b[0m\u001b[0;34m(\u001b[0m\u001b[0;34m[\u001b[0m\u001b[0mi\u001b[0m \u001b[0;32mfor\u001b[0m \u001b[0mi\u001b[0m \u001b[0;32min\u001b[0m \u001b[0mflat_list\u001b[0m \u001b[0;32mif\u001b[0m \u001b[0mi\u001b[0m \u001b[0;32min\u001b[0m \u001b[0mall_genes_in_modules\u001b[0m\u001b[0;34m]\u001b[0m\u001b[0;34m)\u001b[0m\u001b[0;34m\u001b[0m\u001b[0;34m\u001b[0m\u001b[0m\n\u001b[0m\u001b[1;32m      3\u001b[0m \u001b[0;31m#[i for i in all_components[0] if i in ['CCNB1', 'CCNB2', 'CCNC', 'CDK1', 'CKS1B', 'MED12L', 'ERBB2', 'NUP93']]\u001b[0m\u001b[0;34m\u001b[0m\u001b[0;34m\u001b[0m\u001b[0;34m\u001b[0m\u001b[0m\n\u001b[1;32m      4\u001b[0m \u001b[0mlen\u001b[0m\u001b[0;34m(\u001b[0m\u001b[0;34m[\u001b[0m\u001b[0mi\u001b[0m \u001b[0;32mfor\u001b[0m \u001b[0mi\u001b[0m \u001b[0;32min\u001b[0m \u001b[0mflat_list\u001b[0m \u001b[0;32mif\u001b[0m \u001b[0mi\u001b[0m \u001b[0;32min\u001b[0m \u001b[0mall_genes_in_modules\u001b[0m\u001b[0;34m]\u001b[0m\u001b[0;34m)\u001b[0m\u001b[0;34m\u001b[0m\u001b[0;34m\u001b[0m\u001b[0m\n",
      "\u001b[0;32m<ipython-input-17-6d97c13d9bc8>\u001b[0m in \u001b[0;36m<listcomp>\u001b[0;34m(.0)\u001b[0m\n\u001b[1;32m      1\u001b[0m \u001b[0mflat_list\u001b[0m \u001b[0;34m=\u001b[0m \u001b[0;34m[\u001b[0m\u001b[0mgene\u001b[0m \u001b[0;32mfor\u001b[0m \u001b[0mscc\u001b[0m \u001b[0;32min\u001b[0m \u001b[0mall_components\u001b[0m \u001b[0;32mfor\u001b[0m \u001b[0mgene\u001b[0m \u001b[0;32min\u001b[0m \u001b[0mscc\u001b[0m \u001b[0;32mif\u001b[0m \u001b[0mlen\u001b[0m\u001b[0;34m(\u001b[0m\u001b[0mscc\u001b[0m\u001b[0;34m)\u001b[0m \u001b[0;34m>\u001b[0m \u001b[0;36m5\u001b[0m\u001b[0;34m]\u001b[0m\u001b[0;34m\u001b[0m\u001b[0;34m\u001b[0m\u001b[0m\n\u001b[0;32m----> 2\u001b[0;31m \u001b[0mlen\u001b[0m\u001b[0;34m(\u001b[0m\u001b[0;34m[\u001b[0m\u001b[0mi\u001b[0m \u001b[0;32mfor\u001b[0m \u001b[0mi\u001b[0m \u001b[0;32min\u001b[0m \u001b[0mflat_list\u001b[0m \u001b[0;32mif\u001b[0m \u001b[0mi\u001b[0m \u001b[0;32min\u001b[0m \u001b[0mall_genes_in_modules\u001b[0m\u001b[0;34m]\u001b[0m\u001b[0;34m)\u001b[0m\u001b[0;34m\u001b[0m\u001b[0;34m\u001b[0m\u001b[0m\n\u001b[0m\u001b[1;32m      3\u001b[0m \u001b[0;31m#[i for i in all_components[0] if i in ['CCNB1', 'CCNB2', 'CCNC', 'CDK1', 'CKS1B', 'MED12L', 'ERBB2', 'NUP93']]\u001b[0m\u001b[0;34m\u001b[0m\u001b[0;34m\u001b[0m\u001b[0;34m\u001b[0m\u001b[0m\n\u001b[1;32m      4\u001b[0m \u001b[0mlen\u001b[0m\u001b[0;34m(\u001b[0m\u001b[0;34m[\u001b[0m\u001b[0mi\u001b[0m \u001b[0;32mfor\u001b[0m \u001b[0mi\u001b[0m \u001b[0;32min\u001b[0m \u001b[0mflat_list\u001b[0m \u001b[0;32mif\u001b[0m \u001b[0mi\u001b[0m \u001b[0;32min\u001b[0m \u001b[0mall_genes_in_modules\u001b[0m\u001b[0;34m]\u001b[0m\u001b[0;34m)\u001b[0m\u001b[0;34m\u001b[0m\u001b[0;34m\u001b[0m\u001b[0m\n",
      "\u001b[0;31mNameError\u001b[0m: name 'all_genes_in_modules' is not defined"
     ]
    }
   ],
   "source": [
    "flat_list = [gene for scc in all_components for gene in scc if len(scc) > 5]\n",
    "len([i for i in flat_list if i in all_genes_in_modules])\n",
    "#[i for i in all_components[0] if i in ['CCNB1', 'CCNB2', 'CCNC', 'CDK1', 'CKS1B', 'MED12L', 'ERBB2', 'NUP93']]\n",
    "len([i for i in flat_list if i in all_genes_in_modules])"
   ]
  },
  {
   "cell_type": "code",
   "execution_count": 38,
   "metadata": {},
   "outputs": [
    {
     "name": "stdout",
     "output_type": "stream",
     "text": [
      "Module lrp_neighbors_new_comp_10_thr_0.19.gml: Overlap: 0\n",
      "Module lrp_neighbors_new_comp_9_thr_0.19.gml: Overlap: 0\n",
      "Module lrp_neighbors_new_comp_8_thr_0.19.gml: Overlap: 0\n",
      "Module lrp_neighbors_new_comp_7_thr_0.19.gml: Overlap: 4\n",
      "Module lrp_neighbors_new_comp_6_thr_0.19.gml: Overlap: 0\n",
      "Module lrp_neighbors_new_comp_1_thr_0.19.gml: Overlap: 2\n",
      "Module lrp_neighbors_new_comp_2_thr_0.19.gml: Overlap: 5\n",
      "Module lrp_neighbors_new_comp_3_thr_0.19.gml: Overlap: 3\n",
      "Module lrp_neighbors_new_comp_4_thr_0.19.gml: Overlap: 1\n",
      "Module lrp_neighbors_new_comp_5_thr_0.19.gml: Overlap: 2\n"
     ]
    },
    {
     "data": {
      "text/plain": [
       "17"
      ]
     },
     "execution_count": 38,
     "metadata": {},
     "output_type": "execute_result"
    }
   ],
   "source": [
    "old_modules_dir = '../data/GCN/training/final_TCGA_all_networks/CPDB/multiomics/SCCs/thr_019_noneg/'\n",
    "all_genes_in_modules = []\n",
    "for gml in os.listdir(old_modules_dir):\n",
    "    if gml.endswith('.gml') and not 'nonzero' in gml:\n",
    "        module = nx.read_gml(os.path.join(old_modules_dir, gml))\n",
    "        print (\"Module {}: Overlap: {}\".format(gml, len([n for n in module.nodes() if n in flat_list])))\n",
    "        all_genes_in_modules += [n for n in module.nodes() if n in flat_list]\n",
    "len(all_genes_in_modules)"
   ]
  },
  {
   "cell_type": "code",
   "execution_count": 27,
   "metadata": {},
   "outputs": [
    {
     "name": "stdout",
     "output_type": "stream",
     "text": [
      "3\n",
      "96        MITF\n",
      "2032    KCNIP3\n",
      "2711     SMAD1\n",
      "Name: Unnamed: 1, dtype: object\n",
      "2\n",
      "128     NPAS3\n",
      "2663     TP53\n",
      "Name: Unnamed: 1, dtype: object\n",
      "0\n",
      "0\n",
      "0\n",
      "0\n",
      "0\n",
      "0\n",
      "0\n"
     ]
    }
   ],
   "source": [
    "for comp in all_components_larger5:\n",
    "    print (len(tfs[tfs['Unnamed: 1'].isin(comp)]))\n",
    "    if len(tfs[tfs['Unnamed: 1'].isin(comp)]) > 0:\n",
    "        print (tfs[tfs['Unnamed: 1'].isin(comp)]['Unnamed: 1'])"
   ]
  },
  {
   "cell_type": "code",
   "execution_count": 39,
   "metadata": {},
   "outputs": [
    {
     "name": "stdout",
     "output_type": "stream",
     "text": [
      "['HGS']\n",
      "0\n",
      "['CCNB2']\n",
      "4\n",
      "['STMN3']\n",
      "158\n"
     ]
    }
   ],
   "source": [
    "module = nx.read_gml(os.path.join(old_modules_dir, 'lrp_neighbors_new_comp_1_thr_0.19.gml'))\n",
    "n = 0\n",
    "for c in all_components:\n",
    "    overlap = [n for n in module.nodes() if n in c]\n",
    "    if len(overlap) > 0:\n",
    "        print (overlap)\n",
    "        print (n)\n",
    "    n += 1"
   ]
  },
  {
   "cell_type": "code",
   "execution_count": 24,
   "metadata": {},
   "outputs": [
    {
     "data": {
      "image/png": "[encoded data removed]",
      "text/plain": [
       "<Figure size 1008x720 with 1 Axes>"
      ]
     },
     "metadata": {},
     "output_type": "display_data"
    }
   ],
   "source": [
    "fig = plt.figure(figsize=(14, 10))\n",
    "M = nx.subgraph(G, all_components[8])\n",
    "nx.draw(M, with_labels=True, node_color='gray', alpha=.8, node_size=1, font_size=12, arrowsize=1)"
   ]
  },
  {
   "cell_type": "markdown",
   "metadata": {},
   "source": [
    "### Are the SCCs Enriched with Essential Genes?"
   ]
  },
  {
   "cell_type": "code",
   "execution_count": 43,
   "metadata": {},
   "outputs": [
    {
     "data": {
      "text/plain": [
       "(56.73557692307692, 1.0, 88.13831134957896, 2.0)"
      ]
     },
     "execution_count": 43,
     "metadata": {},
     "output_type": "execute_result"
    },
    {
     "data": {
      "image/png": "[encoded data removed]",
      "text/plain": [
       "<Figure size 432x288 with 1 Axes>"
      ]
     },
     "metadata": {
      "needs_background": "light"
     },
     "output_type": "display_data"
    }
   ],
   "source": [
    "pred['Pred_Cancer_Gene'] = False\n",
    "#pred.loc[pred.Prob_pos >= 0.89, 'Pred_Cancer_Gene'] = True\n",
    "#pred.loc[pred.Prob_pos >= 0.802, 'Pred_Cancer_Gene'] = True\n",
    "\n",
    "# get essentiality from Achilles data\n",
    "essential_genes = pd.read_csv(achilles_data_path).T\n",
    "essential_genes.columns = essential_genes.loc['Unnamed: 0']\n",
    "essential_genes.drop('Unnamed: 0', inplace=True)\n",
    "essential_genes['Name'] = [i.split('(')[0].strip() for i in essential_genes.index]\n",
    "essential_genes.set_index('Name', inplace=True)\n",
    "essentiality = (essential_genes < -0.5).sum(axis=1)\n",
    "\n",
    "# join essentiality with the predictions\n",
    "pred = pred.join(essentiality.rename('essentiality'), on='Name', how='left')\n",
    "pred.essentiality.fillna(0, inplace=True)\n",
    "pred.essentiality = pred.essentiality.astype('int32')\n",
    "\n",
    "# get all genes somewhere in the 10 largest SCCs\n",
    "all_genes_in_sccs = []\n",
    "for i in range(len(all_components_larger5)):\n",
    "    all_genes_in_sccs += all_components[i]\n",
    "\n",
    "l1 = pred[pred.Name.isin(all_genes_in_sccs)].essentiality\n",
    "l2 = pred[~pred.Name.isin(all_genes_in_sccs)].essentiality\n",
    "_ = plt.boxplot([l1, l2], showfliers=False, labels=['Genes in SCCs', 'Other Genes'])\n",
    "_ = plt.xticks([1,2], ['Genes in SCCs', 'Other Genes'], fontsize=15)\n",
    "plt.ylabel('# of tumor cell lines\\nin which the gene is essential', fontsize=16)\n",
    "l1.mean(), l1.median(), l2.mean(), l2.median()"
   ]
  },
  {
   "cell_type": "code",
   "execution_count": 44,
   "metadata": {},
   "outputs": [
    {
     "data": {
      "text/plain": [
       "Text(0, 0.5, 'Average Essentiality')"
      ]
     },
     "execution_count": 44,
     "metadata": {},
     "output_type": "execute_result"
    },
    {
     "data": {
      "image/png": "[encoded data removed]",
      "text/plain": [
       "<Figure size 576x360 with 1 Axes>"
      ]
     },
     "metadata": {
      "needs_background": "light"
     },
     "output_type": "display_data"
    }
   ],
   "source": [
    "essentiality_for_sccs = []\n",
    "essentiality_err = []\n",
    "for i in range(len(all_components_larger5)):\n",
    "    mean_ess = pred[pred.Name.isin(all_components[i])].essentiality\n",
    "    essentiality_for_sccs.append(mean_ess)\n",
    "    essentiality_err.append(mean_ess.std())\n",
    "fig = plt.figure(figsize=(8, 5))\n",
    "_ = plt.boxplot(essentiality_for_sccs, showfliers=False)\n",
    "_ = plt.xticks(ticks=np.arange(1, len(all_components_larger5)+1), labels=['SCC {}'.format(j+1) for j in range(len(all_components_larger5))], fontsize=15, rotation=90)\n",
    "plt.ylabel('Average Essentiality', fontsize=20)"
   ]
  },
  {
   "cell_type": "code",
   "execution_count": 45,
   "metadata": {},
   "outputs": [
    {
     "data": {
      "text/plain": [
       "3764"
      ]
     },
     "execution_count": 45,
     "metadata": {},
     "output_type": "execute_result"
    }
   ],
   "source": [
    "pred.Pred_Cancer_Gene.sum()"
   ]
  },
  {
   "cell_type": "code",
   "execution_count": 46,
   "metadata": {},
   "outputs": [
    {
     "data": {
      "text/plain": [
       "[]"
      ]
     },
     "execution_count": 46,
     "metadata": {},
     "output_type": "execute_result"
    }
   ],
   "source": [
    "ips = [i for i in C_abs.out_edges('CCNB1', data=True)]\n",
    "[i for i in ips if i[2]['weight'] > .8]#i[1].startswith('CC')]"
   ]
  },
  {
   "cell_type": "markdown",
   "metadata": {},
   "source": [
    "### Add Database Knowledge to SCCs"
   ]
  },
  {
   "cell_type": "code",
   "execution_count": 47,
   "metadata": {},
   "outputs": [
    {
     "data": {
      "text/html": [
       "<div>\n",
       "<style scoped>\n",
       "    .dataframe tbody tr th:only-of-type {\n",
       "        vertical-align: middle;\n",
       "    }\n",
       "\n",
       "    .dataframe tbody tr th {\n",
       "        vertical-align: top;\n",
       "    }\n",
       "\n",
       "    .dataframe thead th {\n",
       "        text-align: right;\n",
       "    }\n",
       "</style>\n",
       "<table border=\"1\" class=\"dataframe\">\n",
       "  <thead>\n",
       "    <tr style=\"text-align: right;\">\n",
       "      <th></th>\n",
       "      <th>Name</th>\n",
       "      <th>label</th>\n",
       "      <th>Num_Pos</th>\n",
       "      <th>Prob_pos</th>\n",
       "      <th>Std_Pred</th>\n",
       "      <th>NCG_Known_Cancer_Gene</th>\n",
       "      <th>NCG_Candidate_Cancer_Gene</th>\n",
       "      <th>OncoKB_Cancer_Gene</th>\n",
       "      <th>Bailey_et_al_Cancer_Gene</th>\n",
       "      <th>ONGene_Oncogene</th>\n",
       "      <th>Pred_Cancer_Gene</th>\n",
       "      <th>essentiality</th>\n",
       "      <th>DatabaseKnowledge</th>\n",
       "    </tr>\n",
       "    <tr>\n",
       "      <th>ID</th>\n",
       "      <th></th>\n",
       "      <th></th>\n",
       "      <th></th>\n",
       "      <th></th>\n",
       "      <th></th>\n",
       "      <th></th>\n",
       "      <th></th>\n",
       "      <th></th>\n",
       "      <th></th>\n",
       "      <th></th>\n",
       "      <th></th>\n",
       "      <th></th>\n",
       "      <th></th>\n",
       "    </tr>\n",
       "  </thead>\n",
       "  <tbody>\n",
       "    <tr>\n",
       "      <th>ENSG00000100393</th>\n",
       "      <td>EP300</td>\n",
       "      <td>True</td>\n",
       "      <td>10</td>\n",
       "      <td>1.000</td>\n",
       "      <td>0.000</td>\n",
       "      <td>True</td>\n",
       "      <td>False</td>\n",
       "      <td>True</td>\n",
       "      <td>True</td>\n",
       "      <td>False</td>\n",
       "      <td>True</td>\n",
       "      <td>266</td>\n",
       "      <td>CGC</td>\n",
       "    </tr>\n",
       "    <tr>\n",
       "      <th>ENSG00000133703</th>\n",
       "      <td>KRAS</td>\n",
       "      <td>True</td>\n",
       "      <td>10</td>\n",
       "      <td>1.000</td>\n",
       "      <td>0.000</td>\n",
       "      <td>True</td>\n",
       "      <td>False</td>\n",
       "      <td>True</td>\n",
       "      <td>True</td>\n",
       "      <td>True</td>\n",
       "      <td>True</td>\n",
       "      <td>247</td>\n",
       "      <td>CGC</td>\n",
       "    </tr>\n",
       "    <tr>\n",
       "      <th>ENSG00000155657</th>\n",
       "      <td>TTN</td>\n",
       "      <td>False</td>\n",
       "      <td>10</td>\n",
       "      <td>1.000</td>\n",
       "      <td>0.000</td>\n",
       "      <td>False</td>\n",
       "      <td>True</td>\n",
       "      <td>False</td>\n",
       "      <td>False</td>\n",
       "      <td>False</td>\n",
       "      <td>True</td>\n",
       "      <td>8</td>\n",
       "      <td>DriverDB</td>\n",
       "    </tr>\n",
       "    <tr>\n",
       "      <th>ENSG00000284792</th>\n",
       "      <td>PTEN</td>\n",
       "      <td>True</td>\n",
       "      <td>10</td>\n",
       "      <td>1.000</td>\n",
       "      <td>0.000</td>\n",
       "      <td>True</td>\n",
       "      <td>False</td>\n",
       "      <td>True</td>\n",
       "      <td>True</td>\n",
       "      <td>False</td>\n",
       "      <td>True</td>\n",
       "      <td>2</td>\n",
       "      <td>CGC</td>\n",
       "    </tr>\n",
       "    <tr>\n",
       "      <th>ENSG00000039068</th>\n",
       "      <td>CDH1</td>\n",
       "      <td>True</td>\n",
       "      <td>10</td>\n",
       "      <td>1.000</td>\n",
       "      <td>0.000</td>\n",
       "      <td>True</td>\n",
       "      <td>False</td>\n",
       "      <td>True</td>\n",
       "      <td>True</td>\n",
       "      <td>True</td>\n",
       "      <td>True</td>\n",
       "      <td>34</td>\n",
       "      <td>CGC</td>\n",
       "    </tr>\n",
       "  </tbody>\n",
       "</table>\n",
       "</div>"
      ],
      "text/plain": [
       "                  Name  label  Num_Pos  Prob_pos  Std_Pred  \\\n",
       "ID                                                           \n",
       "ENSG00000100393  EP300   True       10     1.000     0.000   \n",
       "ENSG00000133703   KRAS   True       10     1.000     0.000   \n",
       "ENSG00000155657    TTN  False       10     1.000     0.000   \n",
       "ENSG00000284792   PTEN   True       10     1.000     0.000   \n",
       "ENSG00000039068   CDH1   True       10     1.000     0.000   \n",
       "\n",
       "                 NCG_Known_Cancer_Gene  NCG_Candidate_Cancer_Gene  \\\n",
       "ID                                                                  \n",
       "ENSG00000100393                   True                      False   \n",
       "ENSG00000133703                   True                      False   \n",
       "ENSG00000155657                  False                       True   \n",
       "ENSG00000284792                   True                      False   \n",
       "ENSG00000039068                   True                      False   \n",
       "\n",
       "                 OncoKB_Cancer_Gene  Bailey_et_al_Cancer_Gene  \\\n",
       "ID                                                              \n",
       "ENSG00000100393                True                      True   \n",
       "ENSG00000133703                True                      True   \n",
       "ENSG00000155657               False                     False   \n",
       "ENSG00000284792                True                      True   \n",
       "ENSG00000039068                True                      True   \n",
       "\n",
       "                 ONGene_Oncogene  Pred_Cancer_Gene  essentiality  \\\n",
       "ID                                                                 \n",
       "ENSG00000100393            False              True           266   \n",
       "ENSG00000133703             True              True           247   \n",
       "ENSG00000155657            False              True             8   \n",
       "ENSG00000284792            False              True             2   \n",
       "ENSG00000039068             True              True            34   \n",
       "\n",
       "                DatabaseKnowledge  \n",
       "ID                                 \n",
       "ENSG00000100393               CGC  \n",
       "ENSG00000133703               CGC  \n",
       "ENSG00000155657          DriverDB  \n",
       "ENSG00000284792               CGC  \n",
       "ENSG00000039068               CGC  "
      ]
     },
     "execution_count": 47,
     "metadata": {},
     "output_type": "execute_result"
    }
   ],
   "source": [
    "# get the NCG cancer genes\n",
    "known_cancer_genes = []\n",
    "candidate_cancer_genes = []\n",
    "n = 0\n",
    "with open(ncg_cancer_genes_path, 'r') as f:\n",
    "    for line in f.readlines():\n",
    "        n += 1\n",
    "        if n == 1:\n",
    "            continue\n",
    "        l = line.strip().split('\\t')\n",
    "        if len(l) == 2:\n",
    "            known_cancer_genes.append(l[0])\n",
    "            candidate_cancer_genes.append(l[1])\n",
    "        else:\n",
    "            candidate_cancer_genes.append(l[0])\n",
    "\n",
    "oncokb_genes = pd.read_csv(oncokb_path, sep='\\t')\n",
    "# remove low confidence genes\n",
    "oncokb_no_ncg_highconf = oncokb_genes[oncokb_genes['# of occurrence within resources (Column D-J)'] >= 3]\n",
    "\n",
    "# comprehensive characterization paper genes\n",
    "cancer_genes_paper = pd.read_csv(baileyetal_path, sep='\\t', header=3)\n",
    "cancer_genes_paper = pd.Series(cancer_genes_paper.Gene.unique())\n",
    "\n",
    "# driverDB\n",
    "driverdb_genes = []\n",
    "thresholds_study = {'mutation': 25, 'CNV': 5, 'methylation': 2}\n",
    "for evidence in ['mutation', 'CNV', 'methylation']:\n",
    "    driverdb_data = pd.read_csv(driverdb_path.format(evidence), sep='\\t')\n",
    "    all_driver_genes = []\n",
    "    for index, row in driverdb_data.iterrows():\n",
    "        all_driver_genes += [i.strip() for i in row.driver_gene.split(',') if not i.strip() == '']\n",
    "    study_counts = pd.Series(all_driver_genes).value_counts()\n",
    "    driverdb_genes += list(study_counts[study_counts > thresholds_study[evidence]].index)\n",
    "driverdb_genes = pd.Series(list(set(driverdb_genes)))\n",
    "\n",
    "# OnGene + TSGene\n",
    "oncogenes = pd.read_csv(ongene_path, sep='\\t')\n",
    "tsgs = pd.read_csv(tsgene_path, sep='\\t')\n",
    "cancer_genes = list(set(list(oncogenes.OncogeneName) + list(tsgs.GeneSymbol)))\n",
    "\n",
    "# COSMIC CGC\n",
    "cgc = pd.read_csv(cgc_path)\n",
    "cgc = list(set(cgc['Gene Symbol']))\n",
    "\n",
    "pred['DatabaseKnowledge'] = \"None\"\n",
    "pred.loc[pred.Name.isin(candidate_cancer_genes), 'DatabaseKnowledge'] = \"NCGCandidates\"\n",
    "pred.loc[pred.Name.isin(oncokb_genes['Hugo Symbol']), 'DatabaseKnowledge'] = \"OncoKB\"\n",
    "pred.loc[pred.Name.isin(driverdb_genes), 'DatabaseKnowledge'] = \"DriverDB\"\n",
    "pred.loc[pred.Name.isin(cancer_genes), 'DatabaseKnowledge'] = \"ONGeneTSGene\"\n",
    "pred.loc[pred.Name.isin(cancer_genes_paper), 'DatabaseKnowledge'] = \"Bailey\"\n",
    "pred.loc[pred.Name.isin(cgc), 'DatabaseKnowledge'] = \"CGC\"\n",
    "\"\"\"\n",
    "pred['CGC'] = False\n",
    "pred.loc[pred.Name.isin(cgc), 'CGC'] = True\n",
    "pred['Bailey'] = False\n",
    "pred.loc[pred.Name.isin(cancer_genes_paper), 'Bailey'] = True\n",
    "pred['NCGCandidates'] = False\n",
    "pred.loc[pred.Name.isin(candidate_cancer_genes), 'NCGCandidates'] = True\n",
    "pred['OncoKB'] = False\n",
    "pred.loc[pred.Name.isin(oncokb_genes['Hugo Symbol']), 'OncoKB'] = True\n",
    "pred['DriverDB'] = False\n",
    "pred.loc[pred.Name.isin(driverdb_genes), 'DriverDB'] = True\n",
    "pred['ONGene_TSGene'] = False\n",
    "pred.loc[pred.Name.isin(cancer_genes), 'ONGene_TSGene'] = True\n",
    "\"\"\"\n",
    "nx.set_node_attributes(G=G, values=pred.set_index('Name')['Prob_pos'].to_dict(), name='OutputProb')\n",
    "nx.set_node_attributes(G=G, values=pred.set_index('Name')['Pred_Cancer_Gene'].to_dict(), name='PredictedCancerGene')\n",
    "nx.set_node_attributes(G=G, values=pred.set_index('Name')['essentiality'].to_dict(), name='Essentiality')\n",
    "nx.set_node_attributes(G=G, values=pred.set_index('Name')['DatabaseKnowledge'].to_dict(), name='DatabaseKnowledge')\n",
    "\n",
    "pred.head()"
   ]
  },
  {
   "cell_type": "code",
   "execution_count": 48,
   "metadata": {},
   "outputs": [
    {
     "name": "stdout",
     "output_type": "stream",
     "text": [
      "80 149\n",
      "15 16\n",
      "5 9\n",
      "3 8\n",
      "4 6\n",
      "0 5\n",
      "0 5\n",
      "3 5\n",
      "3 5\n"
     ]
    }
   ],
   "source": [
    "for i in range(len(all_components_larger5)):\n",
    "    print (pred[pred.Name.isin(all_components_larger5[i])].Pred_Cancer_Gene.sum(), len(all_components_larger5[i]))"
   ]
  },
  {
   "cell_type": "code",
   "execution_count": 49,
   "metadata": {},
   "outputs": [
    {
     "name": "stdout",
     "output_type": "stream",
     "text": [
      "All SCCs (> 2) contain 323 genes in total\n",
      "The first 9 SCCs (>=5) contain 208 genes in total\n"
     ]
    }
   ],
   "source": [
    "all_components_larger2 = [i for i in all_components if len(i) > 2]\n",
    "flat_list = [gene for scc in all_components_larger2 for gene in scc]\n",
    "print (\"All SCCs (> 2) contain {} genes in total\".format(len(set(flat_list))))\n",
    "print (\"The first {} SCCs (>=5) contain {} genes in total\".format(len(all_components_larger5), len(set(all_genes_in_sccs))))"
   ]
  },
  {
   "cell_type": "code",
   "execution_count": 22,
   "metadata": {},
   "outputs": [
    {
     "data": {
      "text/plain": [
       "3.0495495495495497"
      ]
     },
     "execution_count": 22,
     "metadata": {},
     "output_type": "execute_result"
    }
   ],
   "source": [
    "np.array([len(i) for i in all_components]).mean()"
   ]
  },
  {
   "cell_type": "markdown",
   "metadata": {},
   "source": [
    "### Write SCCs to Disk"
   ]
  },
  {
   "cell_type": "code",
   "execution_count": 13,
   "metadata": {},
   "outputs": [],
   "source": [
    "d_name = 'thr_{}_noneg'.format(min_edge_weight)\n",
    "d_name = d_name.replace('.', '')"
   ]
  },
  {
   "cell_type": "code",
   "execution_count": 52,
   "metadata": {},
   "outputs": [
    {
     "name": "stdout",
     "output_type": "stream",
     "text": [
      "Graph written to: ../data/GCN/training/Rev1_CNA_separated_all_networks/CPDB/SCCs/thr_014_noneg/lrp_neighbors_new_comp_1_thr_0.14.gml\n",
      "Graph written to: ../data/GCN/training/Rev1_CNA_separated_all_networks/CPDB/SCCs/thr_014_noneg/lrp_neighbors_new_comp_2_thr_0.14.gml\n",
      "Graph written to: ../data/GCN/training/Rev1_CNA_separated_all_networks/CPDB/SCCs/thr_014_noneg/lrp_neighbors_new_comp_3_thr_0.14.gml\n",
      "Graph written to: ../data/GCN/training/Rev1_CNA_separated_all_networks/CPDB/SCCs/thr_014_noneg/lrp_neighbors_new_comp_4_thr_0.14.gml\n",
      "Graph written to: ../data/GCN/training/Rev1_CNA_separated_all_networks/CPDB/SCCs/thr_014_noneg/lrp_neighbors_new_comp_5_thr_0.14.gml\n",
      "Graph written to: ../data/GCN/training/Rev1_CNA_separated_all_networks/CPDB/SCCs/thr_014_noneg/lrp_neighbors_new_comp_6_thr_0.14.gml\n",
      "Graph written to: ../data/GCN/training/Rev1_CNA_separated_all_networks/CPDB/SCCs/thr_014_noneg/lrp_neighbors_new_comp_7_thr_0.14.gml\n",
      "Graph written to: ../data/GCN/training/Rev1_CNA_separated_all_networks/CPDB/SCCs/thr_014_noneg/lrp_neighbors_new_comp_8_thr_0.14.gml\n",
      "Graph written to: ../data/GCN/training/Rev1_CNA_separated_all_networks/CPDB/SCCs/thr_014_noneg/lrp_neighbors_new_comp_9_thr_0.14.gml\n"
     ]
    }
   ],
   "source": [
    "if not os.path.isdir(os.path.join(model_dir, 'SCCs', d_name)):\n",
    "    os.mkdir(os.path.join(model_dir, 'SCCs', d_name))\n",
    "\n",
    "node_names_df = pd.DataFrame(node_names, columns=['ID', 'Name']).set_index('ID')\n",
    "for i in range(len(all_components_larger5)):\n",
    "    fname = os.path.join(model_dir, 'SCCs', d_name,\n",
    "                         'lrp_neighbors_new_comp_{}_thr_{}.gml'.format(i+1, min_edge_weight))\n",
    "    comp = all_components[i]\n",
    "    nx.write_gml(G.subgraph(comp), path=fname)\n",
    "    fname_nodes = os.path.join(model_dir, 'SCCs', d_name, 'lrp_neighbors_new_comp_{}_thr_{}_nodes.csv'.format(i+1, min_edge_weight))\n",
    "    nodes[nodes.Name.isin(comp)].to_csv(fname_nodes, sep='\\t')\n",
    "    print (\"Graph written to: {}\".format(fname))"
   ]
  },
  {
   "cell_type": "markdown",
   "metadata": {},
   "source": [
    "### Which Omics Levels are Important in SCCs"
   ]
  },
  {
   "cell_type": "code",
   "execution_count": 53,
   "metadata": {},
   "outputs": [
    {
     "data": {
      "image/png": "[encoded data removed]",
      "text/plain": [
       "<Figure size 720x576 with 1 Axes>"
      ]
     },
     "metadata": {
      "needs_background": "light"
     },
     "output_type": "display_data"
    }
   ],
   "source": [
    "# group the feature contributions by omics level\n",
    "contrib_df_copy = feat_contrib_df.copy()\n",
    "contrib_df_copy[contrib_df_copy < 0] = 0\n",
    "contrib_df_copy.loc['Omics_Type', :] = [i[0] for i in feat_contrib_df.columns.str.split(':')]\n",
    "omics_contributions = contrib_df_copy.T.groupby('Omics_Type').sum().T\n",
    "\n",
    "# turn that into probabilities\n",
    "def minmax(x):\n",
    "    return x / x.sum(axis=0)\n",
    "omics_contributions_probs = omics_contributions.apply(minmax, axis=1)\n",
    "\n",
    "#compute a stacked barplot from that\n",
    "stacked_barplot_vals = {}\n",
    "groups = list(range(len(all_components_larger5)))\n",
    "for omics in ['MF', 'CNA', 'METH', 'GE']:\n",
    "    omics_vals = []\n",
    "    for scc in all_components_larger5:\n",
    "        omics_vals.append(omics_contributions_probs.loc[omics_contributions_probs.index.isin(scc), omics].mean())\n",
    "    stacked_barplot_vals[omics] = omics_vals\n",
    "\n",
    "df = pd.DataFrame(stacked_barplot_vals)\n",
    "totals = [i+j+k+l for i,j,k,l in zip(df['MF'], df['CNA'], df['METH'], df['GE'])]\n",
    "mutation_bars = [i / j * 100 for i,j in zip(df['MF'], totals)]\n",
    "cna_bars = [i / j * 100 for i,j in zip(df['CNA'], totals)]\n",
    "methylation_bars = [i / j * 100 for i,j in zip(df['METH'], totals)]\n",
    "expression_bars = [i / j * 100 for i,j in zip(df['GE'], totals)]\n",
    "\n",
    "fig = plt.figure(figsize=(10, 8))\n",
    "plt.bar(groups, mutation_bars, color='darkred', label='Mutation Frequency')\n",
    "plt.bar(groups, cna_bars, bottom=mutation_bars, color='purple', label='Copy Number Changes')\n",
    "plt.bar(groups, methylation_bars, bottom=[i+j for i,j in zip(mutation_bars, cna_bars)],\n",
    "                                          color='darkblue', label='DNA Methylation')\n",
    "plt.bar(groups, expression_bars, bottom=[i+j+k for i,j,k in zip(mutation_bars, cna_bars, methylation_bars)],\n",
    "        color='darkgreen', label='Gene Expression')\n",
    "\n",
    "plt.legend(loc='upper left', ncol=1, fontsize=20)\n",
    "plt.ylabel('Percent Feature Contribution', fontsize=20)\n",
    "_ = plt.xticks(groups, ['SCC {}'.format(i+1) for i in range(len(all_components_larger5))], fontsize=15, rotation=90)\n",
    "plt.gca().tick_params(axis='both', which='major', labelsize=20)\n",
    "fig.savefig(os.path.join(model_dir, 'SCCs', d_name, 'omics_contributions_sccs.svg'))"
   ]
  },
  {
   "cell_type": "markdown",
   "metadata": {},
   "source": [
    "### Which Features are Most Altered in Each SCC\n",
    "This can also be used to compute the feature contribution averages per SCC and determine if any of the SCCs is specific for a tissue or cancer type."
   ]
  },
  {
   "cell_type": "code",
   "execution_count": 54,
   "metadata": {},
   "outputs": [
    {
     "data": {
      "image/png": "[encoded data removed]",
      "text/plain": [
       "<Figure size 432x288 with 1 Axes>"
      ]
     },
     "metadata": {
      "needs_background": "light"
     },
     "output_type": "display_data"
    }
   ],
   "source": [
    "lrp_I = pd.DataFrame(lrp_neighbor_matrix, index=node_names[:, 1], columns=node_names[:, 1])\n",
    "feat_importance_sccs = []\n",
    "for i in range(len(all_components)):\n",
    "    v = feat_contrib_df[feat_contrib_df.index.isin(all_components[i])].sum(axis=1).mean()\n",
    "    feat_importance_sccs.append(v)\n",
    "_ = plt.hist(feat_importance_sccs, bins=np.linspace(-10, 10, 100))"
   ]
  },
  {
   "cell_type": "markdown",
   "metadata": {},
   "source": [
    "## Input Omics Features for the Modules"
   ]
  },
  {
   "cell_type": "code",
   "execution_count": 55,
   "metadata": {},
   "outputs": [
    {
     "data": {
      "image/png": "[encoded data removed]",
      "text/plain": [
       "<Figure size 864x1512 with 9 Axes>"
      ]
     },
     "metadata": {
      "needs_background": "light"
     },
     "output_type": "display_data"
    }
   ],
   "source": [
    "features_df = pd.DataFrame(features, index=node_names[:, 1], columns=feature_names)\n",
    "\n",
    "n_to_plot = len(all_components_larger5)\n",
    "feat_contrib_capped = feat_contrib_df.copy()\n",
    "feat_contrib_capped[feat_contrib_capped < 0] = 0\n",
    "fig = plt.figure(figsize=(12, n_to_plot*2+3), frameon=False)\n",
    "outer_grid = gridspec.GridSpec(nrows=n_to_plot, ncols=1, figure=fig)\n",
    "\n",
    "for scc_no in range(n_to_plot):\n",
    "    # compute the representative for that SCC\n",
    "    #representative = feat_contrib_capped[feat_contrib_capped.index.isin(all_components[scc_no])]\n",
    "    representative = features_df[features_df.index.isin(all_components[scc_no])]\n",
    "    # plot barplot for representative\n",
    "    #utils.lrp_heatmap_plot(fig, outer_grid[scc_no], representative.mean(axis=0).values,\n",
    "    #                    title='SCC {0} (#Genes: {1})'.format(scc_no+1, representative.shape[0]),\n",
    "    #                    xlabels=representative.columns\n",
    "    #        )\n",
    "    utils.lrp_barplot(fig, outer_grid[scc_no], representative.mean(axis=0).values,\n",
    "                      title='SCC {0} (#Genes: {1})'.format(scc_no+1, representative.shape[0]),\n",
    "                      xlabels=representative.columns\n",
    "                     )\n",
    "fig.tight_layout()\n",
    "fig.savefig(os.path.join(model_dir, 'SCCs', d_name, 'representatives_sccs_input_bars.pdf'))"
   ]
  },
  {
   "cell_type": "markdown",
   "metadata": {},
   "source": [
    "### Are Some SCCs Enriched With Cancer Genes"
   ]
  },
  {
   "cell_type": "code",
   "execution_count": 56,
   "metadata": {},
   "outputs": [
    {
     "data": {
      "text/plain": [
       "Text(0, 0.5, '# of Known Cancer Genes')"
      ]
     },
     "execution_count": 56,
     "metadata": {},
     "output_type": "execute_result"
    },
    {
     "data": {
      "image/png": "[encoded data removed]",
      "text/plain": [
       "<Figure size 432x288 with 1 Axes>"
      ]
     },
     "metadata": {
      "needs_background": "light"
     },
     "output_type": "display_data"
    }
   ],
   "source": [
    "sum_known_comp = []\n",
    "for i in range(len(all_components_larger5)):\n",
    "    comp_stats = pred[pred.Name.isin(all_components[i])].label\n",
    "    sum_known_comp.append(comp_stats.mean())\n",
    "\n",
    "plt.bar(x=np.arange(len(all_components_larger5)), height=sum_known_comp)\n",
    "_ = plt.xticks(ticks=np.arange(len(all_components_larger5)), labels=['SCC {}'.format(j+1) for j in range(len(all_components_larger5))], fontsize=10, rotation=90)\n",
    "plt.ylabel('# of Known Cancer Genes')"
   ]
  },
  {
   "cell_type": "code",
   "execution_count": 57,
   "metadata": {},
   "outputs": [
    {
     "data": {
      "text/html": [
       "<div>\n",
       "<style scoped>\n",
       "    .dataframe tbody tr th:only-of-type {\n",
       "        vertical-align: middle;\n",
       "    }\n",
       "\n",
       "    .dataframe tbody tr th {\n",
       "        vertical-align: top;\n",
       "    }\n",
       "\n",
       "    .dataframe thead th {\n",
       "        text-align: right;\n",
       "    }\n",
       "</style>\n",
       "<table border=\"1\" class=\"dataframe\">\n",
       "  <thead>\n",
       "    <tr style=\"text-align: right;\">\n",
       "      <th></th>\n",
       "      <th>Name</th>\n",
       "      <th>label</th>\n",
       "      <th>Num_Pos</th>\n",
       "      <th>Prob_pos</th>\n",
       "      <th>Std_Pred</th>\n",
       "      <th>NCG_Known_Cancer_Gene</th>\n",
       "      <th>NCG_Candidate_Cancer_Gene</th>\n",
       "      <th>OncoKB_Cancer_Gene</th>\n",
       "      <th>Bailey_et_al_Cancer_Gene</th>\n",
       "      <th>ONGene_Oncogene</th>\n",
       "      <th>Pred_Cancer_Gene</th>\n",
       "      <th>essentiality</th>\n",
       "      <th>DatabaseKnowledge</th>\n",
       "    </tr>\n",
       "    <tr>\n",
       "      <th>ID</th>\n",
       "      <th></th>\n",
       "      <th></th>\n",
       "      <th></th>\n",
       "      <th></th>\n",
       "      <th></th>\n",
       "      <th></th>\n",
       "      <th></th>\n",
       "      <th></th>\n",
       "      <th></th>\n",
       "      <th></th>\n",
       "      <th></th>\n",
       "      <th></th>\n",
       "      <th></th>\n",
       "    </tr>\n",
       "  </thead>\n",
       "  <tbody>\n",
       "    <tr>\n",
       "      <th>ENSG00000152467</th>\n",
       "      <td>ZSCAN1</td>\n",
       "      <td>False</td>\n",
       "      <td>10</td>\n",
       "      <td>0.964</td>\n",
       "      <td>0.026</td>\n",
       "      <td>False</td>\n",
       "      <td>False</td>\n",
       "      <td>False</td>\n",
       "      <td>False</td>\n",
       "      <td>False</td>\n",
       "      <td>True</td>\n",
       "      <td>0</td>\n",
       "      <td>DriverDB</td>\n",
       "    </tr>\n",
       "    <tr>\n",
       "      <th>ENSG00000215421</th>\n",
       "      <td>ZNF407</td>\n",
       "      <td>False</td>\n",
       "      <td>10</td>\n",
       "      <td>0.865</td>\n",
       "      <td>0.141</td>\n",
       "      <td>False</td>\n",
       "      <td>False</td>\n",
       "      <td>False</td>\n",
       "      <td>False</td>\n",
       "      <td>False</td>\n",
       "      <td>True</td>\n",
       "      <td>563</td>\n",
       "      <td>None</td>\n",
       "    </tr>\n",
       "    <tr>\n",
       "      <th>ENSG00000165583</th>\n",
       "      <td>SSX5</td>\n",
       "      <td>False</td>\n",
       "      <td>0</td>\n",
       "      <td>0.265</td>\n",
       "      <td>0.132</td>\n",
       "      <td>False</td>\n",
       "      <td>False</td>\n",
       "      <td>False</td>\n",
       "      <td>False</td>\n",
       "      <td>False</td>\n",
       "      <td>False</td>\n",
       "      <td>5</td>\n",
       "      <td>None</td>\n",
       "    </tr>\n",
       "  </tbody>\n",
       "</table>\n",
       "</div>"
      ],
      "text/plain": [
       "                   Name  label  Num_Pos  Prob_pos  Std_Pred  \\\n",
       "ID                                                            \n",
       "ENSG00000152467  ZSCAN1  False       10     0.964     0.026   \n",
       "ENSG00000215421  ZNF407  False       10     0.865     0.141   \n",
       "ENSG00000165583    SSX5  False        0     0.265     0.132   \n",
       "\n",
       "                 NCG_Known_Cancer_Gene  NCG_Candidate_Cancer_Gene  \\\n",
       "ID                                                                  \n",
       "ENSG00000152467                  False                      False   \n",
       "ENSG00000215421                  False                      False   \n",
       "ENSG00000165583                  False                      False   \n",
       "\n",
       "                 OncoKB_Cancer_Gene  Bailey_et_al_Cancer_Gene  \\\n",
       "ID                                                              \n",
       "ENSG00000152467               False                     False   \n",
       "ENSG00000215421               False                     False   \n",
       "ENSG00000165583               False                     False   \n",
       "\n",
       "                 ONGene_Oncogene  Pred_Cancer_Gene  essentiality  \\\n",
       "ID                                                                 \n",
       "ENSG00000152467            False              True             0   \n",
       "ENSG00000215421            False              True           563   \n",
       "ENSG00000165583            False             False             5   \n",
       "\n",
       "                DatabaseKnowledge  \n",
       "ID                                 \n",
       "ENSG00000152467          DriverDB  \n",
       "ENSG00000215421              None  \n",
       "ENSG00000165583              None  "
      ]
     },
     "execution_count": 57,
     "metadata": {},
     "output_type": "execute_result"
    }
   ],
   "source": [
    "pred[pred.Name.isin(all_components[21])]"
   ]
  },
  {
   "cell_type": "code",
   "execution_count": 58,
   "metadata": {},
   "outputs": [
    {
     "data": {
      "text/plain": [
       "9"
      ]
     },
     "execution_count": 58,
     "metadata": {},
     "output_type": "execute_result"
    }
   ],
   "source": [
    "len(all_components_larger5)"
   ]
  },
  {
   "cell_type": "markdown",
   "metadata": {},
   "source": [
    "## Run Pathway/Enrichment Analyses for SCCs"
   ]
  },
  {
   "cell_type": "markdown",
   "metadata": {},
   "source": [
    "### KEGG Pathway Analysis"
   ]
  },
  {
   "cell_type": "code",
   "execution_count": 14,
   "metadata": {},
   "outputs": [
    {
     "name": "stdout",
     "output_type": "stream",
     "text": [
      "0\n",
      "1\n",
      "2\n",
      "3\n",
      "4\n",
      "5\n",
      "6\n",
      "7\n",
      "8\n"
     ]
    }
   ],
   "source": [
    "pathway_sccs = []\n",
    "for i in range(len(all_components_larger5)):\n",
    "    print (i)\n",
    "    pathway_sccs.append(get_pathway_enrichment(nodes[nodes.Name.isin(all_components[i])], nodes, i, model_dir))"
   ]
  },
  {
   "cell_type": "code",
   "execution_count": 15,
   "metadata": {},
   "outputs": [
    {
     "name": "stdout",
     "output_type": "stream",
     "text": [
      "Moved pathway analysis to: ../data/GCN/training/Rev1_CNA_separated_all_networks/CPDB/SCCs/thr_014_noneg\n"
     ]
    }
   ],
   "source": [
    "import shutil\n",
    "for i in range(len(all_components_larger5)):\n",
    "    shutil.move(os.path.join(model_dir, 'cluster_{}_pathways.txt'.format(i)),\n",
    "                os.path.join(model_dir, 'SCCs', d_name, 'SCC_{}_pathways_withgenes.txt'.format(i+1)))\n",
    "print (\"Moved pathway analysis to: {}\".format(os.path.join(model_dir, 'SCCs', d_name)))"
   ]
  },
  {
   "cell_type": "markdown",
   "metadata": {},
   "source": [
    "### GO Enrichment Analysis"
   ]
  },
  {
   "cell_type": "code",
   "execution_count": 21,
   "metadata": {},
   "outputs": [
    {
     "name": "stdout",
     "output_type": "stream",
     "text": [
      "  EXISTS: go-basic.obo\n",
      "  EXISTS: gene2go\n",
      "go-basic.obo: fmt(1.2) rel(2020-07-16) 47,259 GO Terms\n",
      "HMS:0:00:06.730617 338,121 annotations READ: gene2go \n",
      "1 taxids stored: 9606\n",
      "BP 18,597 annotated human genes\n",
      "CC 19,414 annotated human genes\n",
      "MF 18,162 annotated human genes\n",
      "\n",
      "Load BP Gene Ontology Analysis ...\n",
      "fisher module not installed.  Falling back on scipy.stats.fisher_exact\n",
      " 81% 16,864 of 20,913 population items found in association\n",
      "\n",
      "Load CC Gene Ontology Analysis ...\n",
      "fisher module not installed.  Falling back on scipy.stats.fisher_exact\n",
      " 85% 17,853 of 20,913 population items found in association\n",
      "\n",
      "Load MF Gene Ontology Analysis ...\n",
      "fisher module not installed.  Falling back on scipy.stats.fisher_exact\n",
      " 83% 17,359 of 20,913 population items found in association\n"
     ]
    }
   ],
   "source": [
    "# Get the data\n",
    "obo_fname = download_go_basic_obo()\n",
    "fin_gene2go = download_ncbi_associations()\n",
    "obodag = GODag(\"go-basic.obo\")\n",
    "\n",
    "# Read NCBI's gene2go. Store annotations in a list of namedtuples\n",
    "objanno = Gene2GoReader(fin_gene2go, taxids=[9606])\n",
    "\n",
    "# Get namespace2association where:\n",
    "#    namespace is:\n",
    "#        BP: biological_process               \n",
    "#        MF: molecular_function\n",
    "#        CC: cellular_component\n",
    "#    assocation is a dict:\n",
    "#        key: NCBI GeneID\n",
    "#        value: A set of GO IDs associated with that gene\n",
    "ns2assoc = objanno.get_ns2assc()\n",
    "\n",
    "for nspc, id2gos in ns2assoc.items():\n",
    "    print(\"{NS} {N:,} annotated human genes\".format(NS=nspc, N=len(id2gos)))\n",
    "\n",
    "goeaobj = GOEnrichmentStudyNS(\n",
    "        GeneID2nt_human.keys(), # List of human protein-coding genes\n",
    "        ns2assoc, # geneid/GO associations\n",
    "        obodag, # Ontologies\n",
    "        propagate_counts = False,\n",
    "        alpha = 0.01, # default significance cut-off\n",
    "        methods = ['fdr_bh']) # defult multipletest correction method"
   ]
  },
  {
   "cell_type": "code",
   "execution_count": 23,
   "metadata": {},
   "outputs": [
    {
     "name": "stdout",
     "output_type": "stream",
     "text": [
      "querying 1-149...done.\n",
      "Finished.\n",
      "1 input query terms found dup hits:\n",
      "\t[('IGKV3-20', 3)]\n",
      "\n",
      "Run BP Gene Ontology Analysis: current study set of 149 IDs ...\n",
      " 98%    145 of    148 study items found in association\n",
      " 99%    148 of    149 study items found in population(20913)\n",
      "Calculating 12,274 uncorrected p-values using fisher_scipy_stats\n",
      "  12,274 GO terms are associated with 16,864 of 20,913 population items\n",
      "   1,660 GO terms are associated with    145 of    149 study items\n",
      "  METHOD fdr_bh:\n",
      "      18 GO terms found significant (< 0.01=alpha) ( 18 enriched +   0 purified): statsmodels fdr_bh\n",
      "      65 study items associated with significant GO IDs (enriched)\n",
      "       0 study items associated with significant GO IDs (purified)\n",
      "\n",
      "Run CC Gene Ontology Analysis: current study set of 149 IDs ...\n",
      "100%    148 of    148 study items found in association\n",
      " 99%    148 of    149 study items found in population(20913)\n",
      "Calculating 1,754 uncorrected p-values using fisher_scipy_stats\n",
      "   1,754 GO terms are associated with 17,853 of 20,913 population items\n",
      "     321 GO terms are associated with    148 of    149 study items\n",
      "  METHOD fdr_bh:\n",
      "      30 GO terms found significant (< 0.01=alpha) ( 30 enriched +   0 purified): statsmodels fdr_bh\n",
      "     134 study items associated with significant GO IDs (enriched)\n",
      "       0 study items associated with significant GO IDs (purified)\n",
      "\n",
      "Run MF Gene Ontology Analysis: current study set of 149 IDs ...\n",
      " 99%    146 of    148 study items found in association\n",
      " 99%    148 of    149 study items found in population(20913)\n",
      "Calculating 4,239 uncorrected p-values using fisher_scipy_stats\n",
      "   4,239 GO terms are associated with 17,359 of 20,913 population items\n",
      "     368 GO terms are associated with    146 of    149 study items\n",
      "  METHOD fdr_bh:\n",
      "      14 GO terms found significant (< 0.01=alpha) ( 14 enriched +   0 purified): statsmodels fdr_bh\n",
      "     129 study items associated with significant GO IDs (enriched)\n",
      "       0 study items associated with significant GO IDs (purified)\n",
      "    109 items WROTE: ../data/GCN/training/Rev1_CNA_separated_all_networks/CPDB/SCCs/thr_014_noneg/SCC_1_goenrichment_0.01.xlsx\n",
      "querying 1-16...done.\n",
      "Finished.\n",
      "\n",
      "Run BP Gene Ontology Analysis: current study set of 16 IDs ...\n",
      "100%     16 of     16 study items found in association\n",
      "100%     16 of     16 study items found in population(20913)\n",
      "Calculating 12,274 uncorrected p-values using fisher_scipy_stats\n",
      "  12,274 GO terms are associated with 16,864 of 20,913 population items\n",
      "     262 GO terms are associated with     16 of     16 study items\n",
      "  METHOD fdr_bh:\n",
      "       0 GO terms found significant (< 0.01=alpha) (  0 enriched +   0 purified): statsmodels fdr_bh\n",
      "       0 study items associated with significant GO IDs (enriched)\n",
      "       0 study items associated with significant GO IDs (purified)\n",
      "\n",
      "Run CC Gene Ontology Analysis: current study set of 16 IDs ...\n",
      "100%     16 of     16 study items found in association\n",
      "100%     16 of     16 study items found in population(20913)\n",
      "Calculating 1,754 uncorrected p-values using fisher_scipy_stats\n",
      "   1,754 GO terms are associated with 17,853 of 20,913 population items\n",
      "      68 GO terms are associated with     16 of     16 study items\n",
      "  METHOD fdr_bh:\n",
      "       0 GO terms found significant (< 0.01=alpha) (  0 enriched +   0 purified): statsmodels fdr_bh\n",
      "       0 study items associated with significant GO IDs (enriched)\n",
      "       0 study items associated with significant GO IDs (purified)\n",
      "\n",
      "Run MF Gene Ontology Analysis: current study set of 16 IDs ...\n",
      " 94%     15 of     16 study items found in association\n",
      "100%     16 of     16 study items found in population(20913)\n",
      "Calculating 4,239 uncorrected p-values using fisher_scipy_stats\n",
      "   4,239 GO terms are associated with 17,359 of 20,913 population items\n",
      "      89 GO terms are associated with     15 of     16 study items\n",
      "  METHOD fdr_bh:\n",
      "       0 GO terms found significant (< 0.01=alpha) (  0 enriched +   0 purified): statsmodels fdr_bh\n",
      "       0 study items associated with significant GO IDs (enriched)\n",
      "       0 study items associated with significant GO IDs (purified)\n",
      "      0 items. NOT WRITING ../data/GCN/training/Rev1_CNA_separated_all_networks/CPDB/SCCs/thr_014_noneg/SCC_2_goenrichment_0.01.xlsx\n",
      "querying 1-9...done.\n",
      "Finished.\n",
      "\n",
      "Run BP Gene Ontology Analysis: current study set of 9 IDs ...\n",
      "100%      9 of      9 study items found in association\n",
      "100%      9 of      9 study items found in population(20913)\n",
      "Calculating 12,274 uncorrected p-values using fisher_scipy_stats\n",
      "  12,274 GO terms are associated with 16,864 of 20,913 population items\n",
      "      85 GO terms are associated with      9 of      9 study items\n",
      "  METHOD fdr_bh:\n",
      "      10 GO terms found significant (< 0.01=alpha) ( 10 enriched +   0 purified): statsmodels fdr_bh\n",
      "       6 study items associated with significant GO IDs (enriched)\n",
      "       0 study items associated with significant GO IDs (purified)\n",
      "\n",
      "Run CC Gene Ontology Analysis: current study set of 9 IDs ...\n",
      "100%      9 of      9 study items found in association\n",
      "100%      9 of      9 study items found in population(20913)\n",
      "Calculating 1,754 uncorrected p-values using fisher_scipy_stats\n",
      "   1,754 GO terms are associated with 17,853 of 20,913 population items\n",
      "      36 GO terms are associated with      9 of      9 study items\n",
      "  METHOD fdr_bh:\n",
      "       5 GO terms found significant (< 0.01=alpha) (  5 enriched +   0 purified): statsmodels fdr_bh\n",
      "       7 study items associated with significant GO IDs (enriched)\n",
      "       0 study items associated with significant GO IDs (purified)\n",
      "\n",
      "Run MF Gene Ontology Analysis: current study set of 9 IDs ...\n",
      "100%      9 of      9 study items found in association\n",
      "100%      9 of      9 study items found in population(20913)\n",
      "Calculating 4,239 uncorrected p-values using fisher_scipy_stats\n",
      "   4,239 GO terms are associated with 17,359 of 20,913 population items\n",
      "      14 GO terms are associated with      9 of      9 study items\n",
      "  METHOD fdr_bh:\n",
      "       1 GO terms found significant (< 0.01=alpha) (  1 enriched +   0 purified): statsmodels fdr_bh\n",
      "       4 study items associated with significant GO IDs (enriched)\n",
      "       0 study items associated with significant GO IDs (purified)\n",
      "     22 items WROTE: ../data/GCN/training/Rev1_CNA_separated_all_networks/CPDB/SCCs/thr_014_noneg/SCC_3_goenrichment_0.01.xlsx\n",
      "querying 1-8...done.\n",
      "Finished.\n",
      "\n",
      "Run BP Gene Ontology Analysis: current study set of 8 IDs ...\n",
      "100%      8 of      8 study items found in association\n",
      "100%      8 of      8 study items found in population(20913)\n",
      "Calculating 12,274 uncorrected p-values using fisher_scipy_stats\n",
      "  12,274 GO terms are associated with 16,864 of 20,913 population items\n",
      "      49 GO terms are associated with      8 of      8 study items\n",
      "  METHOD fdr_bh:\n",
      "       0 GO terms found significant (< 0.01=alpha) (  0 enriched +   0 purified): statsmodels fdr_bh\n",
      "       0 study items associated with significant GO IDs (enriched)\n",
      "       0 study items associated with significant GO IDs (purified)\n",
      "\n",
      "Run CC Gene Ontology Analysis: current study set of 8 IDs ...\n",
      "100%      8 of      8 study items found in association\n",
      "100%      8 of      8 study items found in population(20913)\n",
      "Calculating 1,754 uncorrected p-values using fisher_scipy_stats\n",
      "   1,754 GO terms are associated with 17,853 of 20,913 population items\n",
      "      29 GO terms are associated with      8 of      8 study items\n",
      "  METHOD fdr_bh:\n",
      "       0 GO terms found significant (< 0.01=alpha) (  0 enriched +   0 purified): statsmodels fdr_bh\n",
      "       0 study items associated with significant GO IDs (enriched)\n",
      "       0 study items associated with significant GO IDs (purified)\n",
      "\n",
      "Run MF Gene Ontology Analysis: current study set of 8 IDs ...\n",
      "100%      8 of      8 study items found in association\n",
      "100%      8 of      8 study items found in population(20913)\n",
      "Calculating 4,239 uncorrected p-values using fisher_scipy_stats\n",
      "   4,239 GO terms are associated with 17,359 of 20,913 population items\n",
      "      28 GO terms are associated with      8 of      8 study items\n",
      "  METHOD fdr_bh:\n",
      "       0 GO terms found significant (< 0.01=alpha) (  0 enriched +   0 purified): statsmodels fdr_bh\n",
      "       0 study items associated with significant GO IDs (enriched)\n",
      "       0 study items associated with significant GO IDs (purified)\n",
      "      0 items. NOT WRITING ../data/GCN/training/Rev1_CNA_separated_all_networks/CPDB/SCCs/thr_014_noneg/SCC_4_goenrichment_0.01.xlsx\n",
      "querying 1-6...done.\n",
      "Finished.\n",
      "\n",
      "Run BP Gene Ontology Analysis: current study set of 6 IDs ...\n",
      "100%      6 of      6 study items found in association\n",
      "100%      6 of      6 study items found in population(20913)\n",
      "Calculating 12,274 uncorrected p-values using fisher_scipy_stats\n",
      "  12,274 GO terms are associated with 16,864 of 20,913 population items\n",
      "      84 GO terms are associated with      6 of      6 study items\n",
      "  METHOD fdr_bh:\n",
      "       1 GO terms found significant (< 0.01=alpha) (  1 enriched +   0 purified): statsmodels fdr_bh\n",
      "       2 study items associated with significant GO IDs (enriched)\n",
      "       0 study items associated with significant GO IDs (purified)\n",
      "\n",
      "Run CC Gene Ontology Analysis: current study set of 6 IDs ...\n",
      "100%      6 of      6 study items found in association\n",
      "100%      6 of      6 study items found in population(20913)\n",
      "Calculating 1,754 uncorrected p-values using fisher_scipy_stats\n",
      "   1,754 GO terms are associated with 17,853 of 20,913 population items\n",
      "      42 GO terms are associated with      6 of      6 study items\n",
      "  METHOD fdr_bh:\n",
      "       0 GO terms found significant (< 0.01=alpha) (  0 enriched +   0 purified): statsmodels fdr_bh\n",
      "       0 study items associated with significant GO IDs (enriched)\n",
      "       0 study items associated with significant GO IDs (purified)\n",
      "\n",
      "Run MF Gene Ontology Analysis: current study set of 6 IDs ...\n",
      "100%      6 of      6 study items found in association\n",
      "100%      6 of      6 study items found in population(20913)\n",
      "Calculating 4,239 uncorrected p-values using fisher_scipy_stats\n",
      "   4,239 GO terms are associated with 17,359 of 20,913 population items\n",
      "      23 GO terms are associated with      6 of      6 study items\n",
      "  METHOD fdr_bh:\n",
      "       1 GO terms found significant (< 0.01=alpha) (  1 enriched +   0 purified): statsmodels fdr_bh\n",
      "       2 study items associated with significant GO IDs (enriched)\n",
      "       0 study items associated with significant GO IDs (purified)\n",
      "      3 items WROTE: ../data/GCN/training/Rev1_CNA_separated_all_networks/CPDB/SCCs/thr_014_noneg/SCC_5_goenrichment_0.01.xlsx\n",
      "querying 1-5...done.\n",
      "Finished.\n",
      "\n",
      "Run BP Gene Ontology Analysis: current study set of 5 IDs ...\n",
      "100%      5 of      5 study items found in association\n",
      "100%      5 of      5 study items found in population(20913)\n",
      "Calculating 12,274 uncorrected p-values using fisher_scipy_stats\n",
      "  12,274 GO terms are associated with 16,864 of 20,913 population items\n",
      "      43 GO terms are associated with      5 of      5 study items\n",
      "  METHOD fdr_bh:\n",
      "       2 GO terms found significant (< 0.01=alpha) (  2 enriched +   0 purified): statsmodels fdr_bh\n",
      "       5 study items associated with significant GO IDs (enriched)\n",
      "       0 study items associated with significant GO IDs (purified)\n",
      "\n",
      "Run CC Gene Ontology Analysis: current study set of 5 IDs ...\n",
      "100%      5 of      5 study items found in association\n",
      "100%      5 of      5 study items found in population(20913)\n",
      "Calculating 1,754 uncorrected p-values using fisher_scipy_stats\n",
      "   1,754 GO terms are associated with 17,853 of 20,913 population items\n",
      "      29 GO terms are associated with      5 of      5 study items\n",
      "  METHOD fdr_bh:\n",
      "       0 GO terms found significant (< 0.01=alpha) (  0 enriched +   0 purified): statsmodels fdr_bh\n",
      "       0 study items associated with significant GO IDs (enriched)\n",
      "       0 study items associated with significant GO IDs (purified)\n",
      "\n",
      "Run MF Gene Ontology Analysis: current study set of 5 IDs ...\n",
      "100%      5 of      5 study items found in association\n",
      "100%      5 of      5 study items found in population(20913)\n",
      "Calculating 4,239 uncorrected p-values using fisher_scipy_stats\n",
      "   4,239 GO terms are associated with 17,359 of 20,913 population items\n",
      "      17 GO terms are associated with      5 of      5 study items\n",
      "  METHOD fdr_bh:\n",
      "       5 GO terms found significant (< 0.01=alpha) (  5 enriched +   0 purified): statsmodels fdr_bh\n",
      "       5 study items associated with significant GO IDs (enriched)\n",
      "       0 study items associated with significant GO IDs (purified)\n",
      "      9 items WROTE: ../data/GCN/training/Rev1_CNA_separated_all_networks/CPDB/SCCs/thr_014_noneg/SCC_6_goenrichment_0.01.xlsx\n",
      "querying 1-5...done.\n",
      "Finished.\n",
      "\n",
      "Run BP Gene Ontology Analysis: current study set of 5 IDs ...\n",
      "100%      5 of      5 study items found in association\n",
      "100%      5 of      5 study items found in population(20913)\n",
      "Calculating 12,274 uncorrected p-values using fisher_scipy_stats\n",
      "  12,274 GO terms are associated with 16,864 of 20,913 population items\n",
      "      49 GO terms are associated with      5 of      5 study items\n",
      "  METHOD fdr_bh:\n",
      "       0 GO terms found significant (< 0.01=alpha) (  0 enriched +   0 purified): statsmodels fdr_bh\n",
      "       0 study items associated with significant GO IDs (enriched)\n",
      "       0 study items associated with significant GO IDs (purified)\n",
      "\n",
      "Run CC Gene Ontology Analysis: current study set of 5 IDs ...\n",
      "100%      5 of      5 study items found in association\n",
      "100%      5 of      5 study items found in population(20913)\n",
      "Calculating 1,754 uncorrected p-values using fisher_scipy_stats\n",
      "   1,754 GO terms are associated with 17,853 of 20,913 population items\n",
      "      45 GO terms are associated with      5 of      5 study items\n",
      "  METHOD fdr_bh:\n",
      "       0 GO terms found significant (< 0.01=alpha) (  0 enriched +   0 purified): statsmodels fdr_bh\n",
      "       0 study items associated with significant GO IDs (enriched)\n",
      "       0 study items associated with significant GO IDs (purified)\n",
      "\n",
      "Run MF Gene Ontology Analysis: current study set of 5 IDs ...\n",
      "100%      5 of      5 study items found in association\n",
      "100%      5 of      5 study items found in population(20913)\n",
      "Calculating 4,239 uncorrected p-values using fisher_scipy_stats\n",
      "   4,239 GO terms are associated with 17,359 of 20,913 population items\n",
      "      23 GO terms are associated with      5 of      5 study items\n",
      "  METHOD fdr_bh:\n",
      "       1 GO terms found significant (< 0.01=alpha) (  1 enriched +   0 purified): statsmodels fdr_bh\n",
      "       2 study items associated with significant GO IDs (enriched)\n",
      "       0 study items associated with significant GO IDs (purified)\n",
      "      5 items WROTE: ../data/GCN/training/Rev1_CNA_separated_all_networks/CPDB/SCCs/thr_014_noneg/SCC_7_goenrichment_0.01.xlsx\n",
      "querying 1-5...done.\n",
      "Finished.\n",
      "\n",
      "Run BP Gene Ontology Analysis: current study set of 5 IDs ...\n",
      "100%      5 of      5 study items found in association\n",
      "100%      5 of      5 study items found in population(20913)\n",
      "Calculating 12,274 uncorrected p-values using fisher_scipy_stats\n",
      "  12,274 GO terms are associated with 16,864 of 20,913 population items\n",
      "      62 GO terms are associated with      5 of      5 study items\n",
      "  METHOD fdr_bh:\n",
      "       0 GO terms found significant (< 0.01=alpha) (  0 enriched +   0 purified): statsmodels fdr_bh\n",
      "       0 study items associated with significant GO IDs (enriched)\n",
      "       0 study items associated with significant GO IDs (purified)\n",
      "\n",
      "Run CC Gene Ontology Analysis: current study set of 5 IDs ...\n",
      "100%      5 of      5 study items found in association\n",
      "100%      5 of      5 study items found in population(20913)\n",
      "Calculating 1,754 uncorrected p-values using fisher_scipy_stats\n",
      "   1,754 GO terms are associated with 17,853 of 20,913 population items\n",
      "      22 GO terms are associated with      5 of      5 study items\n",
      "  METHOD fdr_bh:\n",
      "       1 GO terms found significant (< 0.01=alpha) (  1 enriched +   0 purified): statsmodels fdr_bh\n",
      "       3 study items associated with significant GO IDs (enriched)\n",
      "       0 study items associated with significant GO IDs (purified)\n",
      "\n",
      "Run MF Gene Ontology Analysis: current study set of 5 IDs ...\n",
      "100%      5 of      5 study items found in association\n",
      "100%      5 of      5 study items found in population(20913)\n",
      "Calculating 4,239 uncorrected p-values using fisher_scipy_stats\n",
      "   4,239 GO terms are associated with 17,359 of 20,913 population items\n",
      "      26 GO terms are associated with      5 of      5 study items\n",
      "  METHOD fdr_bh:\n",
      "       0 GO terms found significant (< 0.01=alpha) (  0 enriched +   0 purified): statsmodels fdr_bh\n",
      "       0 study items associated with significant GO IDs (enriched)\n",
      "       0 study items associated with significant GO IDs (purified)\n",
      "      1 items WROTE: ../data/GCN/training/Rev1_CNA_separated_all_networks/CPDB/SCCs/thr_014_noneg/SCC_8_goenrichment_0.01.xlsx\n",
      "querying 1-5...done.\n",
      "Finished.\n",
      "\n",
      "Run BP Gene Ontology Analysis: current study set of 5 IDs ...\n",
      "100%      5 of      5 study items found in association\n",
      "100%      5 of      5 study items found in population(20913)\n",
      "Calculating 12,274 uncorrected p-values using fisher_scipy_stats\n",
      "  12,274 GO terms are associated with 16,864 of 20,913 population items\n",
      "      82 GO terms are associated with      5 of      5 study items\n",
      "  METHOD fdr_bh:\n",
      "       0 GO terms found significant (< 0.01=alpha) (  0 enriched +   0 purified): statsmodels fdr_bh\n",
      "       0 study items associated with significant GO IDs (enriched)\n",
      "       0 study items associated with significant GO IDs (purified)\n",
      "\n",
      "Run CC Gene Ontology Analysis: current study set of 5 IDs ...\n",
      "100%      5 of      5 study items found in association\n",
      "100%      5 of      5 study items found in population(20913)\n",
      "Calculating 1,754 uncorrected p-values using fisher_scipy_stats\n",
      "   1,754 GO terms are associated with 17,853 of 20,913 population items\n",
      "      31 GO terms are associated with      5 of      5 study items\n",
      "  METHOD fdr_bh:\n",
      "       0 GO terms found significant (< 0.01=alpha) (  0 enriched +   0 purified): statsmodels fdr_bh\n",
      "       0 study items associated with significant GO IDs (enriched)\n",
      "       0 study items associated with significant GO IDs (purified)\n",
      "\n",
      "Run MF Gene Ontology Analysis: current study set of 5 IDs ...\n",
      "100%      5 of      5 study items found in association\n",
      "100%      5 of      5 study items found in population(20913)\n",
      "Calculating 4,239 uncorrected p-values using fisher_scipy_stats\n",
      "   4,239 GO terms are associated with 17,359 of 20,913 population items\n",
      "      18 GO terms are associated with      5 of      5 study items\n",
      "  METHOD fdr_bh:\n",
      "       0 GO terms found significant (< 0.01=alpha) (  0 enriched +   0 purified): statsmodels fdr_bh\n",
      "       0 study items associated with significant GO IDs (enriched)\n",
      "       0 study items associated with significant GO IDs (purified)\n",
      "      0 items. NOT WRITING ../data/GCN/training/Rev1_CNA_separated_all_networks/CPDB/SCCs/thr_014_noneg/SCC_9_goenrichment_0.01.xlsx\n"
     ]
    }
   ],
   "source": [
    "for comp in range(len(all_components_larger5)):\n",
    "    geneids_study = [int(i) for i in list(ut.get_entrez_from_symbol(all_components[comp]).index) if not i is None]\n",
    "    goea_results_all = goeaobj.run_study(geneids_study)\n",
    "    goea_results_sig = [r for r in goea_results_all if r.p_fdr_bh < 0.05]\n",
    "    out_dir = os.path.join(model_dir, 'SCCs', d_name)\n",
    "    #plot_results(os.path.join(out_dir, 'SCC_{}_goenrichment.png'.format(comp+1)), goea_results_sig)\n",
    "    goeaobj.wr_xlsx(os.path.join(out_dir, 'SCC_{}_goenrichment_0.01.xlsx'.format(comp+1)), goea_results_sig)"
   ]
  },
  {
   "cell_type": "markdown",
   "metadata": {},
   "source": [
    "## LRP Neighbor Contributions Introduce no New Interactions"
   ]
  },
  {
   "cell_type": "code",
   "execution_count": 11,
   "metadata": {},
   "outputs": [
    {
     "ename": "AttributeError",
     "evalue": "module 'tensorflow' has no attribute 'get_default_session'",
     "output_type": "error",
     "traceback": [
      "\u001b[0;31m---------------------------------------------------------------------------\u001b[0m",
      "\u001b[0;31mAttributeError\u001b[0m                            Traceback (most recent call last)",
      "\u001b[0;32m<ipython-input-11-2198281e7108>\u001b[0m in \u001b[0;36m<module>\u001b[0;34m\u001b[0m\n\u001b[0;32m----> 1\u001b[0;31m \u001b[0;32mimport\u001b[0m \u001b[0mlrp\u001b[0m\u001b[0;34m\u001b[0m\u001b[0;34m\u001b[0m\u001b[0m\n\u001b[0m",
      "\u001b[0;32m/project/gcn/diseasegcn/EMOGI/lrp.py\u001b[0m in \u001b[0;36m<module>\u001b[0;34m\u001b[0m\n\u001b[1;32m     13\u001b[0m \u001b[0;32mimport\u001b[0m \u001b[0mmath\u001b[0m\u001b[0;34m\u001b[0m\u001b[0;34m\u001b[0m\u001b[0m\n\u001b[1;32m     14\u001b[0m \u001b[0;32mfrom\u001b[0m \u001b[0mmultiprocessing\u001b[0m \u001b[0;32mimport\u001b[0m \u001b[0mProcess\u001b[0m\u001b[0;34m\u001b[0m\u001b[0;34m\u001b[0m\u001b[0m\n\u001b[0;32m---> 15\u001b[0;31m \u001b[0;32mfrom\u001b[0m \u001b[0mdeepexplain\u001b[0m\u001b[0;34m.\u001b[0m\u001b[0mtensorflow\u001b[0m \u001b[0;32mimport\u001b[0m \u001b[0mDeepExplain\u001b[0m\u001b[0;34m\u001b[0m\u001b[0;34m\u001b[0m\u001b[0m\n\u001b[0m\u001b[1;32m     16\u001b[0m \u001b[0;32mfrom\u001b[0m \u001b[0memogi\u001b[0m \u001b[0;32mimport\u001b[0m \u001b[0mEMOGI\u001b[0m\u001b[0;34m\u001b[0m\u001b[0;34m\u001b[0m\u001b[0m\n\u001b[1;32m     17\u001b[0m \u001b[0;32mimport\u001b[0m \u001b[0margparse\u001b[0m\u001b[0;34m\u001b[0m\u001b[0;34m\u001b[0m\u001b[0m\n",
      "\u001b[0;32m~/src/deepexplain/deepexplain/tensorflow/__init__.py\u001b[0m in \u001b[0;36m<module>\u001b[0;34m\u001b[0m\n\u001b[0;32m----> 1\u001b[0;31m \u001b[0;32mfrom\u001b[0m \u001b[0;34m.\u001b[0m\u001b[0mmethods\u001b[0m \u001b[0;32mimport\u001b[0m \u001b[0mDeepExplain\u001b[0m\u001b[0;34m\u001b[0m\u001b[0;34m\u001b[0m\u001b[0m\n\u001b[0m",
      "\u001b[0;32m~/src/deepexplain/deepexplain/tensorflow/methods.py\u001b[0m in \u001b[0;36m<module>\u001b[0;34m\u001b[0m\n\u001b[1;32m    555\u001b[0m \u001b[0;34m\u001b[0m\u001b[0m\n\u001b[1;32m    556\u001b[0m \u001b[0;34m\u001b[0m\u001b[0m\n\u001b[0;32m--> 557\u001b[0;31m \u001b[0;32mclass\u001b[0m \u001b[0mDeepExplain\u001b[0m\u001b[0;34m(\u001b[0m\u001b[0mobject\u001b[0m\u001b[0;34m)\u001b[0m\u001b[0;34m:\u001b[0m\u001b[0;34m\u001b[0m\u001b[0;34m\u001b[0m\u001b[0m\n\u001b[0m\u001b[1;32m    558\u001b[0m \u001b[0;34m\u001b[0m\u001b[0m\n\u001b[1;32m    559\u001b[0m     \u001b[0;32mdef\u001b[0m \u001b[0m__init__\u001b[0m\u001b[0;34m(\u001b[0m\u001b[0mself\u001b[0m\u001b[0;34m,\u001b[0m \u001b[0mgraph\u001b[0m\u001b[0;34m=\u001b[0m\u001b[0;32mNone\u001b[0m\u001b[0;34m,\u001b[0m \u001b[0msession\u001b[0m\u001b[0;34m=\u001b[0m\u001b[0mtf\u001b[0m\u001b[0;34m.\u001b[0m\u001b[0mget_default_session\u001b[0m\u001b[0;34m(\u001b[0m\u001b[0;34m)\u001b[0m\u001b[0;34m)\u001b[0m\u001b[0;34m:\u001b[0m\u001b[0;34m\u001b[0m\u001b[0;34m\u001b[0m\u001b[0m\n",
      "\u001b[0;32m~/src/deepexplain/deepexplain/tensorflow/methods.py\u001b[0m in \u001b[0;36mDeepExplain\u001b[0;34m()\u001b[0m\n\u001b[1;32m    557\u001b[0m \u001b[0;32mclass\u001b[0m \u001b[0mDeepExplain\u001b[0m\u001b[0;34m(\u001b[0m\u001b[0mobject\u001b[0m\u001b[0;34m)\u001b[0m\u001b[0;34m:\u001b[0m\u001b[0;34m\u001b[0m\u001b[0;34m\u001b[0m\u001b[0m\n\u001b[1;32m    558\u001b[0m \u001b[0;34m\u001b[0m\u001b[0m\n\u001b[0;32m--> 559\u001b[0;31m     \u001b[0;32mdef\u001b[0m \u001b[0m__init__\u001b[0m\u001b[0;34m(\u001b[0m\u001b[0mself\u001b[0m\u001b[0;34m,\u001b[0m \u001b[0mgraph\u001b[0m\u001b[0;34m=\u001b[0m\u001b[0;32mNone\u001b[0m\u001b[0;34m,\u001b[0m \u001b[0msession\u001b[0m\u001b[0;34m=\u001b[0m\u001b[0mtf\u001b[0m\u001b[0;34m.\u001b[0m\u001b[0mget_default_session\u001b[0m\u001b[0;34m(\u001b[0m\u001b[0;34m)\u001b[0m\u001b[0;34m)\u001b[0m\u001b[0;34m:\u001b[0m\u001b[0;34m\u001b[0m\u001b[0;34m\u001b[0m\u001b[0m\n\u001b[0m\u001b[1;32m    560\u001b[0m         \u001b[0mself\u001b[0m\u001b[0;34m.\u001b[0m\u001b[0mmethod\u001b[0m \u001b[0;34m=\u001b[0m \u001b[0;32mNone\u001b[0m\u001b[0;34m\u001b[0m\u001b[0;34m\u001b[0m\u001b[0m\n\u001b[1;32m    561\u001b[0m         \u001b[0mself\u001b[0m\u001b[0;34m.\u001b[0m\u001b[0mbatch_size\u001b[0m \u001b[0;34m=\u001b[0m \u001b[0;32mNone\u001b[0m\u001b[0;34m\u001b[0m\u001b[0;34m\u001b[0m\u001b[0m\n",
      "\u001b[0;31mAttributeError\u001b[0m: module 'tensorflow' has no attribute 'get_default_session'"
     ]
    }
   ],
   "source": [
    "import lrp"
   ]
  },
  {
   "cell_type": "code",
   "execution_count": 12,
   "metadata": {},
   "outputs": [
    {
     "ename": "NameError",
     "evalue": "name 'lrp' is not defined",
     "output_type": "error",
     "traceback": [
      "\u001b[0;31m---------------------------------------------------------------------------\u001b[0m",
      "\u001b[0;31mNameError\u001b[0m                                 Traceback (most recent call last)",
      "\u001b[0;32m<ipython-input-12-3f8666bdf794>\u001b[0m in \u001b[0;36m<module>\u001b[0;34m\u001b[0m\n\u001b[0;32m----> 1\u001b[0;31m \u001b[0minterpreter\u001b[0m \u001b[0;34m=\u001b[0m \u001b[0mlrp\u001b[0m\u001b[0;34m.\u001b[0m\u001b[0mLRP\u001b[0m\u001b[0;34m(\u001b[0m\u001b[0mmodel_dir\u001b[0m\u001b[0;34m=\u001b[0m\u001b[0mmodel_dir\u001b[0m\u001b[0;34m)\u001b[0m\u001b[0;34m\u001b[0m\u001b[0;34m\u001b[0m\u001b[0m\n\u001b[0m",
      "\u001b[0;31mNameError\u001b[0m: name 'lrp' is not defined"
     ]
    }
   ],
   "source": [
    "interpreter = lrp.LRP(model_dir=model_dir)"
   ]
  },
  {
   "cell_type": "code",
   "execution_count": null,
   "metadata": {},
   "outputs": [],
   "source": [
    "lrp_scores = interpreter.compute_lrp('APC')\n",
    "mean_feat, std_feat, mean_neighbors, std_neighbors = lrp_scores"
   ]
  },
  {
   "cell_type": "code",
   "execution_count": null,
   "metadata": {},
   "outputs": [],
   "source": [
    "nn_contrib_s0 = pd.DataFrame(mean_neighbors[1], index=node_names[:, 1], columns=node_names[:, 1])\n",
    "G = nx.from_pandas_adjacency(nn_contrib_s0)\n",
    "A = nx.from_pandas_adjacency(pd.DataFrame(adjacency, index=node_names[:, 1], columns=node_names[:, 1]))\n",
    "G.remove_edges_from(G.selfloop_edges())\n",
    "G.number_of_edges()"
   ]
  },
  {
   "cell_type": "code",
   "execution_count": null,
   "metadata": {},
   "outputs": [],
   "source": [
    "gene_name = 'APC'\n",
    "contributers_tp53 = list(G.neighbors(gene_name))\n",
    "same = 0\n",
    "for neighbor in A.neighbors(gene_name):\n",
    "    if not neighbor in contributers_tp53:\n",
    "        print (neighbor)\n",
    "    else:\n",
    "        same += 1\n",
    "same"
   ]
  },
  {
   "cell_type": "code",
   "execution_count": null,
   "metadata": {},
   "outputs": [],
   "source": [
    "A.number_of_edges(), G.number_of_edges()"
   ]
  },
  {
   "cell_type": "code",
   "execution_count": null,
   "metadata": {},
   "outputs": [],
   "source": [
    "len(list(contrib_all.neighbors('APC')))"
   ]
  },
  {
   "cell_type": "code",
   "execution_count": null,
   "metadata": {},
   "outputs": [],
   "source": [
    "\n",
    "def edge_exists(source, target):\n",
    "    if A.has_edge(source, target):"
   ]
  },
  {
   "cell_type": "code",
   "execution_count": null,
   "metadata": {},
   "outputs": [],
   "source": [
    "count = 0\n",
    "for (u, v) in A.edges():\n",
    "    count += 1\n",
    "    if not contrib_all.has_edge(u, v):\n",
    "        print (u, v)"
   ]
  },
  {
   "cell_type": "code",
   "execution_count": null,
   "metadata": {},
   "outputs": [],
   "source": [
    "A.number_of_edges(), G.number_of_edges(), contrib_all.number_of_edges()"
   ]
  },
  {
   "cell_type": "code",
   "execution_count": null,
   "metadata": {},
   "outputs": [],
   "source": [
    "A = nx.from_pandas_adjacency(pd.DataFrame(adjacency, index=node_names[:, 1], columns=node_names[:, 1]))\n",
    "len(list(A.neighbors('ZHX2')))"
   ]
  },
  {
   "cell_type": "code",
   "execution_count": null,
   "metadata": {},
   "outputs": [],
   "source": [
    "feat_contrib_df[feat_contrib_df.sum(axis=1).abs() > 2.5].shape"
   ]
  },
  {
   "cell_type": "code",
   "execution_count": null,
   "metadata": {},
   "outputs": [],
   "source": [
    "fig = plt.figure(figsize=(14, 8))\n",
    "_= plt.hist(feat_contrib_df.sum(axis=1), bins=np.linspace(-10, 10, 100))"
   ]
  },
  {
   "cell_type": "markdown",
   "metadata": {},
   "source": [
    "### Betweenness & LRP Edge Weight Correlation"
   ]
  },
  {
   "cell_type": "code",
   "execution_count": 12,
   "metadata": {},
   "outputs": [],
   "source": [
    "edge_betweenness = nx.edge_betweenness(C_abs)"
   ]
  },
  {
   "cell_type": "code",
   "execution_count": 14,
   "metadata": {},
   "outputs": [
    {
     "name": "stdout",
     "output_type": "stream",
     "text": [
      "Pearson Correlation: 0.07856634135213743\tP-value: 0.0\n"
     ]
    },
    {
     "ename": "NameError",
     "evalue": "name 'all_components' is not defined",
     "output_type": "error",
     "traceback": [
      "\u001b[0;31m---------------------------------------------------------------------------\u001b[0m",
      "\u001b[0;31mNameError\u001b[0m                                 Traceback (most recent call last)",
      "\u001b[0;32m<ipython-input-14-10a0b0b57b35>\u001b[0m in \u001b[0;36m<module>\u001b[0;34m\u001b[0m\n\u001b[1;32m     41\u001b[0m \u001b[0medge_bet_df\u001b[0m\u001b[0;34m.\u001b[0m\u001b[0msort_values\u001b[0m\u001b[0;34m(\u001b[0m\u001b[0mby\u001b[0m\u001b[0;34m=\u001b[0m\u001b[0;34m'Betweenness'\u001b[0m\u001b[0;34m)\u001b[0m\u001b[0;34m.\u001b[0m\u001b[0mhead\u001b[0m\u001b[0;34m(\u001b[0m\u001b[0;36m10\u001b[0m\u001b[0;34m)\u001b[0m\u001b[0;34m\u001b[0m\u001b[0;34m\u001b[0m\u001b[0m\n\u001b[1;32m     42\u001b[0m \u001b[0mpd\u001b[0m\u001b[0;34m.\u001b[0m\u001b[0mset_option\u001b[0m\u001b[0;34m(\u001b[0m\u001b[0;34m'float_format'\u001b[0m\u001b[0;34m,\u001b[0m \u001b[0;34m'{:f}'\u001b[0m\u001b[0;34m.\u001b[0m\u001b[0mformat\u001b[0m\u001b[0;34m)\u001b[0m\u001b[0;34m\u001b[0m\u001b[0;34m\u001b[0m\u001b[0m\n\u001b[0;32m---> 43\u001b[0;31m \u001b[0mtest\u001b[0m \u001b[0;34m=\u001b[0m \u001b[0medge_bet_df\u001b[0m\u001b[0;34m[\u001b[0m\u001b[0medge_bet_df\u001b[0m\u001b[0;34m.\u001b[0m\u001b[0mSource\u001b[0m\u001b[0;34m.\u001b[0m\u001b[0misin\u001b[0m\u001b[0;34m(\u001b[0m\u001b[0mall_components\u001b[0m\u001b[0;34m[\u001b[0m\u001b[0;36m0\u001b[0m\u001b[0;34m]\u001b[0m\u001b[0;34m)\u001b[0m \u001b[0;34m&\u001b[0m \u001b[0medge_bet_df\u001b[0m\u001b[0;34m.\u001b[0m\u001b[0mTarget\u001b[0m\u001b[0;34m.\u001b[0m\u001b[0misin\u001b[0m\u001b[0;34m(\u001b[0m\u001b[0mall_components\u001b[0m\u001b[0;34m[\u001b[0m\u001b[0;36m0\u001b[0m\u001b[0;34m]\u001b[0m\u001b[0;34m)\u001b[0m\u001b[0;34m]\u001b[0m\u001b[0;34m\u001b[0m\u001b[0;34m\u001b[0m\u001b[0m\n\u001b[0m\u001b[1;32m     44\u001b[0m \u001b[0mtest\u001b[0m \u001b[0;34m=\u001b[0m \u001b[0mtest\u001b[0m\u001b[0;34m[\u001b[0m\u001b[0mtest\u001b[0m\u001b[0;34m.\u001b[0m\u001b[0mBetweenness\u001b[0m \u001b[0;34m>\u001b[0m \u001b[0;36m0.00001\u001b[0m\u001b[0;34m]\u001b[0m\u001b[0;34m\u001b[0m\u001b[0;34m\u001b[0m\u001b[0m\n\u001b[1;32m     45\u001b[0m \u001b[0mtest\u001b[0m\u001b[0;34m.\u001b[0m\u001b[0msort_values\u001b[0m\u001b[0;34m(\u001b[0m\u001b[0mby\u001b[0m\u001b[0;34m=\u001b[0m\u001b[0;34m'Betweenness'\u001b[0m\u001b[0;34m,\u001b[0m \u001b[0mascending\u001b[0m\u001b[0;34m=\u001b[0m\u001b[0;32mFalse\u001b[0m\u001b[0;34m)\u001b[0m\u001b[0;34m\u001b[0m\u001b[0;34m\u001b[0m\u001b[0m\n",
      "\u001b[0;31mNameError\u001b[0m: name 'all_components' is not defined"
     ]
    },
    {
     "data": {
      "image/png": "[encoded data removed]",
      "text/plain": [
       "<Figure size 576x576 with 1 Axes>"
      ]
     },
     "metadata": {
      "needs_background": "light"
     },
     "output_type": "display_data"
    }
   ],
   "source": [
    "#edge_betweenness = nx.edge_betweenness(C_abs)\n",
    "\n",
    "sources = []\n",
    "targets = []\n",
    "betweenness = []\n",
    "for source, target in edge_betweenness:\n",
    "    sources.append(source)\n",
    "    targets.append(target)\n",
    "    betweenness.append(edge_betweenness[(source, target)])\n",
    "edge_bet_df = pd.DataFrame([sources, targets, betweenness]).T\n",
    "edge_bet_df.columns = ['Source', 'Target', 'Betweenness']\n",
    "edge_bet_df['Betweenness'] = edge_bet_df.Betweenness.astype('float')\n",
    "\n",
    "weights = []\n",
    "for index, row in edge_bet_df.iterrows():\n",
    "    edge_data = C_abs.get_edge_data(row.Source, row.Target)\n",
    "    if not edge_data is None:\n",
    "        weight = C_abs.get_edge_data(row.Source, row.Target)[0]['weight']\n",
    "    else:\n",
    "        weight = 0\n",
    "    weights.append(weight)\n",
    "edge_bet_df['weight'] = weights\n",
    "\n",
    "edge_bet_df_sub = edge_bet_df[edge_bet_df.weight != 0]\n",
    "\n",
    "fig = plt.figure(figsize=(8, 8))\n",
    "sns.kdeplot(edge_bet_df_sub.Betweenness.rank(ascending=False), edge_bet_df_sub.weight.rank(ascending=False), cmap='Reds',\n",
    "            shade=True, shade_lowest=False)\n",
    "#correlation = pred_with_interactions.Prob_pos.rank().corr(pred_with_interactions.Cancer_Gene_Interactions.rank())\n",
    "correlation, pvalue = scipy.stats.pearsonr(edge_bet_df_sub.Betweenness,\n",
    "                                           edge_bet_df_sub.weight\n",
    "                                          )\n",
    "print (\"Pearson Correlation: {}\\tP-value: {}\".format(correlation, pvalue))\n",
    "#plt.title('Correlation Output Probability & Cancer Gene Interactions(R = {0:.2f})'.format(correlation),\n",
    "#          fontsize=25)\n",
    "plt.xlabel('Edge Betweenness in CPDB PPI Network (Ranked)', fontsize=16)\n",
    "plt.ylabel('EMOGI Edge Weight (Ranked)', fontsize=16)\n",
    "plt.gca().tick_params(axis='both', labelsize=12)\n",
    "fig.savefig(os.path.join(model_dir, 'correlation_betweenness_lrp.svg'))\n",
    "\n",
    "edge_bet_df.sort_values(by='Betweenness').head(10)\n",
    "pd.set_option('float_format', '{:f}'.format)\n",
    "#test = edge_bet_df[edge_bet_df.Source.isin(all_components[0]) & edge_bet_df.Target.isin(all_components[0])]\n",
    "#test = test[test.Betweenness > 0.00001]\n",
    "#test.sort_values(by='Betweenness', ascending=False)\n",
    "#edge_bet_df.Betweenness.max()"
   ]
  },
  {
   "cell_type": "markdown",
   "metadata": {},
   "source": [
    "## Compare LRP contribution with old one"
   ]
  },
  {
   "cell_type": "code",
   "execution_count": 11,
   "metadata": {},
   "outputs": [
    {
     "name": "stdout",
     "output_type": "stream",
     "text": [
      "Loaded and added neighbor contributions with support 0\n",
      "Loaded and added neighbor contributions with support 1\n",
      "-78.10830990555824 72.98056168227582\n"
     ]
    }
   ],
   "source": [
    "model_dir_old = '../data/GCN/training/final_TCGA_all_networks/CPDB/multiomics/'\n",
    "lrp_neighbor_matrix_old = np.load(os.path.join(model_dir_old, 'lrp_sigmoid', 'support_0_mean_sum.npy'))\n",
    "count = 1\n",
    "for i in range(5):\n",
    "    p = os.path.join(model_dir_old, 'lrp_sigmoid', 'support_{}_mean_sum.npy'.format(i))\n",
    "    if os.path.isfile(p):\n",
    "        lrp_neighbor_matrix_old += np.load(p)\n",
    "        count += 1\n",
    "        print (\"Loaded and added neighbor contributions with support {}\".format(i))\n",
    "lrp_neighbor_matrix_old = lrp_neighbor_matrix_old / float(count)\n",
    "print (lrp_neighbor_matrix_old.min(), lrp_neighbor_matrix_old.max())\n",
    "\n",
    "lrp_neighbor_matrix_abs_old = lrp_neighbor_matrix_old.copy()\n",
    "#lrp_neighbor_matrix_abs = np.abs(lrp_neighbor_matrix_abs)\n",
    "lrp_neighbor_matrix_abs_old[lrp_neighbor_matrix_abs_old < 0] = 0\n",
    "\n",
    "args, _ = gcnIO.load_hyper_params(model_dir_old)\n",
    "with h5py.File(os.path.join(model_dir_old, args['data']), 'r') as f:\n",
    "    node_names_old = f['gene_names'][:]\n",
    "\n",
    "C_abs_old = nx.from_pandas_adjacency(pd.DataFrame(lrp_neighbor_matrix_abs_old, index=node_names_old[:, 1],\n",
    "                                              columns=node_names_old[:, 1]),\n",
    "                                 create_using=nx.MultiDiGraph)\n",
    "C_full_old = C_abs_old.copy()\n",
    "C_abs_old.remove_edges_from(list(nx.selfloop_edges(C_abs_old)))"
   ]
  },
  {
   "cell_type": "code",
   "execution_count": 12,
   "metadata": {},
   "outputs": [],
   "source": [
    "edge_weights = nx.get_edge_attributes(C_abs_old,'weight')\n",
    "C_abs_old.remove_edges_from((e for e, w in edge_weights.items() if w <= 0.19))"
   ]
  },
  {
   "cell_type": "code",
   "execution_count": 13,
   "metadata": {},
   "outputs": [
    {
     "data": {
      "text/plain": [
       "(8069, 290435)"
      ]
     },
     "execution_count": 13,
     "metadata": {},
     "output_type": "execute_result"
    }
   ],
   "source": [
    "nx.intersection(C_abs, C_abs_old).number_of_edges(), nx.symmetric_difference(C_abs, C_abs_old).number_of_edges()"
   ]
  },
  {
   "cell_type": "code",
   "execution_count": 16,
   "metadata": {
    "collapsed": true,
    "jupyter": {
     "outputs_hidden": true
    }
   },
   "outputs": [
    {
     "ename": "KeyboardInterrupt",
     "evalue": "",
     "output_type": "error",
     "traceback": [
      "\u001b[0;31m---------------------------------------------------------------------------\u001b[0m",
      "\u001b[0;31mKeyboardInterrupt\u001b[0m                         Traceback (most recent call last)",
      "\u001b[0;32m<ipython-input-16-467aa073c62b>\u001b[0m in \u001b[0;36m<module>\u001b[0;34m\u001b[0m\n\u001b[1;32m      2\u001b[0m \u001b[0;32mfor\u001b[0m \u001b[0mthr\u001b[0m \u001b[0;32min\u001b[0m \u001b[0mnp\u001b[0m\u001b[0;34m.\u001b[0m\u001b[0marange\u001b[0m\u001b[0;34m(\u001b[0m\u001b[0;36m0.3\u001b[0m\u001b[0;34m,\u001b[0m \u001b[0;36m0.41\u001b[0m\u001b[0;34m,\u001b[0m \u001b[0;36m0.01\u001b[0m\u001b[0;34m)\u001b[0m\u001b[0;34m:\u001b[0m\u001b[0;34m\u001b[0m\u001b[0;34m\u001b[0m\u001b[0m\n\u001b[1;32m      3\u001b[0m     \u001b[0medge_weights\u001b[0m \u001b[0;34m=\u001b[0m \u001b[0mnx\u001b[0m\u001b[0;34m.\u001b[0m\u001b[0mget_edge_attributes\u001b[0m\u001b[0;34m(\u001b[0m\u001b[0mC_abs\u001b[0m\u001b[0;34m,\u001b[0m\u001b[0;34m'weight'\u001b[0m\u001b[0;34m)\u001b[0m\u001b[0;34m\u001b[0m\u001b[0;34m\u001b[0m\u001b[0m\n\u001b[0;32m----> 4\u001b[0;31m     \u001b[0mG\u001b[0m \u001b[0;34m=\u001b[0m \u001b[0mC_abs\u001b[0m\u001b[0;34m.\u001b[0m\u001b[0mcopy\u001b[0m\u001b[0;34m(\u001b[0m\u001b[0;34m)\u001b[0m\u001b[0;34m\u001b[0m\u001b[0;34m\u001b[0m\u001b[0m\n\u001b[0m\u001b[1;32m      5\u001b[0m     \u001b[0mG\u001b[0m\u001b[0;34m.\u001b[0m\u001b[0mremove_edges_from\u001b[0m\u001b[0;34m(\u001b[0m\u001b[0;34m(\u001b[0m\u001b[0me\u001b[0m \u001b[0;32mfor\u001b[0m \u001b[0me\u001b[0m\u001b[0;34m,\u001b[0m \u001b[0mw\u001b[0m \u001b[0;32min\u001b[0m \u001b[0medge_weights\u001b[0m\u001b[0;34m.\u001b[0m\u001b[0mitems\u001b[0m\u001b[0;34m(\u001b[0m\u001b[0;34m)\u001b[0m \u001b[0;32mif\u001b[0m \u001b[0mw\u001b[0m \u001b[0;34m<=\u001b[0m \u001b[0mthr\u001b[0m\u001b[0;34m)\u001b[0m\u001b[0;34m)\u001b[0m\u001b[0;34m\u001b[0m\u001b[0;34m\u001b[0m\u001b[0m\n\u001b[1;32m      6\u001b[0m     \u001b[0mintersect\u001b[0m \u001b[0;34m=\u001b[0m \u001b[0mnx\u001b[0m\u001b[0;34m.\u001b[0m\u001b[0mintersection\u001b[0m\u001b[0;34m(\u001b[0m\u001b[0mG\u001b[0m\u001b[0;34m,\u001b[0m \u001b[0mC_abs_old\u001b[0m\u001b[0;34m)\u001b[0m\u001b[0;34m.\u001b[0m\u001b[0mnumber_of_edges\u001b[0m\u001b[0;34m(\u001b[0m\u001b[0;34m)\u001b[0m \u001b[0;34m/\u001b[0m \u001b[0mG\u001b[0m\u001b[0;34m.\u001b[0m\u001b[0mnumber_of_edges\u001b[0m\u001b[0;34m(\u001b[0m\u001b[0;34m)\u001b[0m\u001b[0;34m\u001b[0m\u001b[0;34m\u001b[0m\u001b[0m\n",
      "\u001b[0;32m/pkg/python-3.7.7-0/lib/python3.7/site-packages/networkx/classes/multigraph.py\u001b[0m in \u001b[0;36mcopy\u001b[0;34m(self, as_view)\u001b[0m\n\u001b[1;32m    970\u001b[0m         \u001b[0mG\u001b[0m\u001b[0;34m.\u001b[0m\u001b[0madd_nodes_from\u001b[0m\u001b[0;34m(\u001b[0m\u001b[0;34m(\u001b[0m\u001b[0mn\u001b[0m\u001b[0;34m,\u001b[0m \u001b[0md\u001b[0m\u001b[0;34m.\u001b[0m\u001b[0mcopy\u001b[0m\u001b[0;34m(\u001b[0m\u001b[0;34m)\u001b[0m\u001b[0;34m)\u001b[0m \u001b[0;32mfor\u001b[0m \u001b[0mn\u001b[0m\u001b[0;34m,\u001b[0m \u001b[0md\u001b[0m \u001b[0;32min\u001b[0m \u001b[0mself\u001b[0m\u001b[0;34m.\u001b[0m\u001b[0m_node\u001b[0m\u001b[0;34m.\u001b[0m\u001b[0mitems\u001b[0m\u001b[0;34m(\u001b[0m\u001b[0;34m)\u001b[0m\u001b[0;34m)\u001b[0m\u001b[0;34m\u001b[0m\u001b[0;34m\u001b[0m\u001b[0m\n\u001b[1;32m    971\u001b[0m         G.add_edges_from((u, v, key, datadict.copy())\n\u001b[0;32m--> 972\u001b[0;31m                          \u001b[0;32mfor\u001b[0m \u001b[0mu\u001b[0m\u001b[0;34m,\u001b[0m \u001b[0mnbrs\u001b[0m \u001b[0;32min\u001b[0m \u001b[0mself\u001b[0m\u001b[0;34m.\u001b[0m\u001b[0m_adj\u001b[0m\u001b[0;34m.\u001b[0m\u001b[0mitems\u001b[0m\u001b[0;34m(\u001b[0m\u001b[0;34m)\u001b[0m\u001b[0;34m\u001b[0m\u001b[0;34m\u001b[0m\u001b[0m\n\u001b[0m\u001b[1;32m    973\u001b[0m                          \u001b[0;32mfor\u001b[0m \u001b[0mv\u001b[0m\u001b[0;34m,\u001b[0m \u001b[0mkeydict\u001b[0m \u001b[0;32min\u001b[0m \u001b[0mnbrs\u001b[0m\u001b[0;34m.\u001b[0m\u001b[0mitems\u001b[0m\u001b[0;34m(\u001b[0m\u001b[0;34m)\u001b[0m\u001b[0;34m\u001b[0m\u001b[0;34m\u001b[0m\u001b[0m\n\u001b[1;32m    974\u001b[0m                          for key, datadict in keydict.items())\n",
      "\u001b[0;32m/pkg/python-3.7.7-0/lib/python3.7/site-packages/networkx/classes/multigraph.py\u001b[0m in \u001b[0;36madd_edges_from\u001b[0;34m(self, ebunch_to_add, **attr)\u001b[0m\n\u001b[1;32m    535\u001b[0m                     \u001b[0;32mraise\u001b[0m\u001b[0;34m\u001b[0m\u001b[0;34m\u001b[0m\u001b[0m\n\u001b[1;32m    536\u001b[0m                 \u001b[0mkey\u001b[0m \u001b[0;34m=\u001b[0m \u001b[0mdd\u001b[0m\u001b[0;34m\u001b[0m\u001b[0;34m\u001b[0m\u001b[0m\n\u001b[0;32m--> 537\u001b[0;31m             \u001b[0mkey\u001b[0m \u001b[0;34m=\u001b[0m \u001b[0mself\u001b[0m\u001b[0;34m.\u001b[0m\u001b[0madd_edge\u001b[0m\u001b[0;34m(\u001b[0m\u001b[0mu\u001b[0m\u001b[0;34m,\u001b[0m \u001b[0mv\u001b[0m\u001b[0;34m,\u001b[0m \u001b[0mkey\u001b[0m\u001b[0;34m)\u001b[0m\u001b[0;34m\u001b[0m\u001b[0;34m\u001b[0m\u001b[0m\n\u001b[0m\u001b[1;32m    538\u001b[0m             \u001b[0mself\u001b[0m\u001b[0;34m[\u001b[0m\u001b[0mu\u001b[0m\u001b[0;34m]\u001b[0m\u001b[0;34m[\u001b[0m\u001b[0mv\u001b[0m\u001b[0;34m]\u001b[0m\u001b[0;34m[\u001b[0m\u001b[0mkey\u001b[0m\u001b[0;34m]\u001b[0m\u001b[0;34m.\u001b[0m\u001b[0mupdate\u001b[0m\u001b[0;34m(\u001b[0m\u001b[0mddd\u001b[0m\u001b[0;34m)\u001b[0m\u001b[0;34m\u001b[0m\u001b[0;34m\u001b[0m\u001b[0m\n\u001b[1;32m    539\u001b[0m             \u001b[0mkeylist\u001b[0m\u001b[0;34m.\u001b[0m\u001b[0mappend\u001b[0m\u001b[0;34m(\u001b[0m\u001b[0mkey\u001b[0m\u001b[0;34m)\u001b[0m\u001b[0;34m\u001b[0m\u001b[0;34m\u001b[0m\u001b[0m\n",
      "\u001b[0;32m/pkg/python-3.7.7-0/lib/python3.7/site-packages/networkx/classes/multidigraph.py\u001b[0m in \u001b[0;36madd_edge\u001b[0;34m(self, u_for_edge, v_for_edge, key, **attr)\u001b[0m\n\u001b[1;32m    448\u001b[0m         \u001b[0;32melse\u001b[0m\u001b[0;34m:\u001b[0m\u001b[0;34m\u001b[0m\u001b[0;34m\u001b[0m\u001b[0m\n\u001b[1;32m    449\u001b[0m             \u001b[0;31m# selfloops work this way without special treatment\u001b[0m\u001b[0;34m\u001b[0m\u001b[0;34m\u001b[0m\u001b[0;34m\u001b[0m\u001b[0m\n\u001b[0;32m--> 450\u001b[0;31m             \u001b[0mdatadict\u001b[0m \u001b[0;34m=\u001b[0m \u001b[0mself\u001b[0m\u001b[0;34m.\u001b[0m\u001b[0medge_attr_dict_factory\u001b[0m\u001b[0;34m(\u001b[0m\u001b[0;34m)\u001b[0m\u001b[0;34m\u001b[0m\u001b[0;34m\u001b[0m\u001b[0m\n\u001b[0m\u001b[1;32m    451\u001b[0m             \u001b[0mdatadict\u001b[0m\u001b[0;34m.\u001b[0m\u001b[0mupdate\u001b[0m\u001b[0;34m(\u001b[0m\u001b[0mattr\u001b[0m\u001b[0;34m)\u001b[0m\u001b[0;34m\u001b[0m\u001b[0;34m\u001b[0m\u001b[0m\n\u001b[1;32m    452\u001b[0m             \u001b[0mkeydict\u001b[0m \u001b[0;34m=\u001b[0m \u001b[0mself\u001b[0m\u001b[0;34m.\u001b[0m\u001b[0medge_key_dict_factory\u001b[0m\u001b[0;34m(\u001b[0m\u001b[0;34m)\u001b[0m\u001b[0;34m\u001b[0m\u001b[0;34m\u001b[0m\u001b[0m\n",
      "\u001b[0;31mKeyboardInterrupt\u001b[0m: "
     ]
    }
   ],
   "source": [
    "res = []\n",
    "for thr in np.arange(0.3, 0.41, 0.01):\n",
    "    edge_weights = nx.get_edge_attributes(C_abs,'weight')\n",
    "    G = C_abs.copy()\n",
    "    G.remove_edges_from((e for e, w in edge_weights.items() if w <= thr))\n",
    "    intersect = nx.intersection(G, C_abs_old).number_of_edges() / G.number_of_edges()\n",
    "    res.append((thr, intersect))\n",
    "    #print (\"Thr: {0:.3f}\\tIntersection: {1:.2f}\".format(thr, intersect))"
   ]
  },
  {
   "cell_type": "code",
   "execution_count": 18,
   "metadata": {},
   "outputs": [
    {
     "data": {
      "text/plain": [
       "290435"
      ]
     },
     "execution_count": 18,
     "metadata": {},
     "output_type": "execute_result"
    }
   ],
   "source": [
    "C_abs.number_of_edges() + C_abs_old.number_of_edges() - nx.intersection(C_abs, C_abs_old).number_of_edges()*2"
   ]
  },
  {
   "cell_type": "code",
   "execution_count": 18,
   "metadata": {},
   "outputs": [
    {
     "data": {
      "text/plain": [
       "SpearmanrResult(correlation=0.18435714521685276, pvalue=1.285870517681202e-62)"
      ]
     },
     "execution_count": 18,
     "metadata": {},
     "output_type": "execute_result"
    }
   ],
   "source": [
    "G = C_abs.copy()\n",
    "#G.remove_edges_from((e for e, w in edge_weights.items() if w <= 0.1339))\n",
    "intersect = nx.intersection(G, C_abs_old)\n",
    "old_weights = []\n",
    "new_weights = []\n",
    "for src, tgt, w in intersect.edges:\n",
    "    old_weights.append(C_abs_old[src][tgt][0]['weight'])\n",
    "    new_weights.append(G[src][tgt][0]['weight'])\n",
    "scipy.stats.spearmanr(old_weights, new_weights)"
   ]
  },
  {
   "cell_type": "code",
   "execution_count": 14,
   "metadata": {},
   "outputs": [
    {
     "data": {
      "text/plain": [
       "CCNB1     4.991\n",
       "CCNB2     1.976\n",
       "CCNC      7.515\n",
       "CDK1     11.165\n",
       "CKS1B    12.706\n",
       "MED12L    2.993\n",
       "dtype: float64"
      ]
     },
     "execution_count": 14,
     "metadata": {},
     "output_type": "execute_result"
    }
   ],
   "source": [
    "lrp_sum_old = pd.DataFrame(lrp_neighbor_matrix_abs_old, index=node_names_old[:,1], columns=node_names_old[:, 1]).sum(axis=1)\n",
    "lrp_sum_old[['CCNB1', 'CCNB2', 'CCNC', 'CDK1', 'CKS1B', 'MED12L']]"
   ]
  },
  {
   "cell_type": "code",
   "execution_count": 15,
   "metadata": {},
   "outputs": [
    {
     "data": {
      "text/plain": [
       "CCNB1    2.505\n",
       "CCNB2    1.398\n",
       "CCNC     3.587\n",
       "CDK1     4.863\n",
       "CKS1B    0.197\n",
       "MED12L   0.721\n",
       "dtype: float64"
      ]
     },
     "execution_count": 15,
     "metadata": {},
     "output_type": "execute_result"
    }
   ],
   "source": [
    "lrp_sum = pd.DataFrame(lrp_neighbor_matrix_abs, index=node_names[:,1], columns=node_names[:,1]).sum(axis=1)\n",
    "lrp_sum[['CCNB1', 'CCNB2', 'CCNC', 'CDK1', 'CKS1B', 'MED12L']]"
   ]
  },
  {
   "cell_type": "code",
   "execution_count": 16,
   "metadata": {},
   "outputs": [
    {
     "data": {
      "text/plain": [
       "SpearmanrResult(correlation=0.06698264379409534, pvalue=4.985556359741616e-15)"
      ]
     },
     "execution_count": 16,
     "metadata": {},
     "output_type": "execute_result"
    }
   ],
   "source": [
    "vals = pd.DataFrame(lrp_sum - lrp_sum_old, columns=['Diff'])\n",
    "vals['LRP_interaction'] = lrp_sum\n",
    "vals['Diff_rank'] = vals.Diff.rank()\n",
    "feat_df = pd.DataFrame(np.abs(features), index=node_names[:, 1], columns=feature_names)\n",
    "vals['Diff_div'] = lrp_sum_old / (0.001+lrp_sum)\n",
    "\n",
    "cna_feat = feat_df[[i for i in feat_df.columns if i.startswith('CNA:')]]\n",
    "mut_feat = feat_df[[i for i in feat_df.columns if i.startswith('MF:')]]\n",
    "meth_feat = feat_df[[i for i in feat_df.columns if i.startswith('METH:')]]\n",
    "ge_feat = feat_df[[i for i in feat_df.columns if i.startswith('GE:')]]\n",
    "\n",
    "vals = vals.join(cna_feat.sum(axis=1).rename('CNA_Feat'))\n",
    "vals = vals.join(mut_feat.sum(axis=1).rename('Mut_Feat'))\n",
    "vals = vals.join(meth_feat.sum(axis=1).rename('Meth_Feat'))\n",
    "vals = vals.join(ge_feat.sum(axis=1).rename('GE_Feat'))\n",
    "\n",
    "feat_sum = feat_df.mean(axis=1)\n",
    "\n",
    "#vals['KCG'] = False\n",
    "#vals.loc[vals.index.isin(known_cancer_genes), 'KCG'] = True\n",
    "\n",
    "degrees = pd.DataFrame(adjacency, index=node_names[:, 1]).sum(axis=1)\n",
    "vals['Degree'] = degrees\n",
    "vals['Degree_rank'] = degrees.rank()\n",
    "vals['CNA_rank'] = vals.CNA_Feat.rank()\n",
    "vals = vals.join(feat_sum.rename('FeatureSum'))\n",
    "vals['Feat_rank'] = vals.FeatureSum.rank()\n",
    "#sns.kdeplot(vals.Diff.rank(), vals.Degree.rank(), cmap='Reds',\n",
    "#            shade=True, shade_lowest=False)\n",
    "#sns.boxplot(data=vals, x='KCG', y='LRP_interaction', showfliers=False)\n",
    "#sns.scatterplot(data=vals, x='Diff_rank', y='CNA_rank')\n",
    "scipy.stats.spearmanr(vals.Diff, vals.Degree)\n",
    "#sns.scatterplot(data=vals, x='Degree_rank', y='Diff_rank')"
   ]
  },
  {
   "cell_type": "code",
   "execution_count": 17,
   "metadata": {},
   "outputs": [
    {
     "data": {
      "text/html": [
       "<div>\n",
       "<style scoped>\n",
       "    .dataframe tbody tr th:only-of-type {\n",
       "        vertical-align: middle;\n",
       "    }\n",
       "\n",
       "    .dataframe tbody tr th {\n",
       "        vertical-align: top;\n",
       "    }\n",
       "\n",
       "    .dataframe thead th {\n",
       "        text-align: right;\n",
       "    }\n",
       "</style>\n",
       "<table border=\"1\" class=\"dataframe\">\n",
       "  <thead>\n",
       "    <tr style=\"text-align: right;\">\n",
       "      <th></th>\n",
       "      <th>Diff</th>\n",
       "      <th>LRP_interaction</th>\n",
       "      <th>Diff_rank</th>\n",
       "      <th>Diff_div</th>\n",
       "      <th>CNA_Feat</th>\n",
       "      <th>Mut_Feat</th>\n",
       "      <th>Meth_Feat</th>\n",
       "      <th>GE_Feat</th>\n",
       "      <th>Degree</th>\n",
       "      <th>Degree_rank</th>\n",
       "      <th>CNA_rank</th>\n",
       "      <th>FeatureSum</th>\n",
       "      <th>Feat_rank</th>\n",
       "    </tr>\n",
       "  </thead>\n",
       "  <tbody>\n",
       "    <tr>\n",
       "      <th>CLPS</th>\n",
       "      <td>-0.034</td>\n",
       "      <td>0.009</td>\n",
       "      <td>5758.000</td>\n",
       "      <td>4.504</td>\n",
       "      <td>0.000</td>\n",
       "      <td>0.018</td>\n",
       "      <td>1.393</td>\n",
       "      <td>0.536</td>\n",
       "      <td>2.000</td>\n",
       "      <td>1363.000</td>\n",
       "      <td>885.000</td>\n",
       "      <td>0.030</td>\n",
       "      <td>3923.000</td>\n",
       "    </tr>\n",
       "    <tr>\n",
       "      <th>PNLIP</th>\n",
       "      <td>-0.028</td>\n",
       "      <td>0.001</td>\n",
       "      <td>5829.000</td>\n",
       "      <td>12.175</td>\n",
       "      <td>1.048</td>\n",
       "      <td>0.336</td>\n",
       "      <td>4.666</td>\n",
       "      <td>0.190</td>\n",
       "      <td>3.000</td>\n",
       "      <td>2036.000</td>\n",
       "      <td>8454.000</td>\n",
       "      <td>0.098</td>\n",
       "      <td>11636.000</td>\n",
       "    </tr>\n",
       "    <tr>\n",
       "      <th>CNGB1</th>\n",
       "      <td>-0.451</td>\n",
       "      <td>0.006</td>\n",
       "      <td>3548.000</td>\n",
       "      <td>68.934</td>\n",
       "      <td>0.835</td>\n",
       "      <td>0.396</td>\n",
       "      <td>1.645</td>\n",
       "      <td>1.941</td>\n",
       "      <td>3.000</td>\n",
       "      <td>2036.000</td>\n",
       "      <td>7039.000</td>\n",
       "      <td>0.075</td>\n",
       "      <td>10061.000</td>\n",
       "    </tr>\n",
       "    <tr>\n",
       "      <th>XRCC4</th>\n",
       "      <td>-0.243</td>\n",
       "      <td>0.095</td>\n",
       "      <td>4432.000</td>\n",
       "      <td>3.528</td>\n",
       "      <td>1.365</td>\n",
       "      <td>0.115</td>\n",
       "      <td>0.289</td>\n",
       "      <td>0.670</td>\n",
       "      <td>45.000</td>\n",
       "      <td>10479.500</td>\n",
       "      <td>9734.500</td>\n",
       "      <td>0.038</td>\n",
       "      <td>5293.000</td>\n",
       "    </tr>\n",
       "    <tr>\n",
       "      <th>CLP1</th>\n",
       "      <td>0.087</td>\n",
       "      <td>0.090</td>\n",
       "      <td>7229.000</td>\n",
       "      <td>0.032</td>\n",
       "      <td>0.000</td>\n",
       "      <td>0.130</td>\n",
       "      <td>0.978</td>\n",
       "      <td>0.272</td>\n",
       "      <td>19.000</td>\n",
       "      <td>7311.000</td>\n",
       "      <td>885.000</td>\n",
       "      <td>0.022</td>\n",
       "      <td>2248.000</td>\n",
       "    </tr>\n",
       "    <tr>\n",
       "      <th>...</th>\n",
       "      <td>...</td>\n",
       "      <td>...</td>\n",
       "      <td>...</td>\n",
       "      <td>...</td>\n",
       "      <td>...</td>\n",
       "      <td>...</td>\n",
       "      <td>...</td>\n",
       "      <td>...</td>\n",
       "      <td>...</td>\n",
       "      <td>...</td>\n",
       "      <td>...</td>\n",
       "      <td>...</td>\n",
       "      <td>...</td>\n",
       "    </tr>\n",
       "    <tr>\n",
       "      <th>BPIFB1</th>\n",
       "      <td>-0.031</td>\n",
       "      <td>0.000</td>\n",
       "      <td>5798.000</td>\n",
       "      <td>30.819</td>\n",
       "      <td>0.993</td>\n",
       "      <td>0.163</td>\n",
       "      <td>4.981</td>\n",
       "      <td>2.355</td>\n",
       "      <td>1.000</td>\n",
       "      <td>498.000</td>\n",
       "      <td>8056.000</td>\n",
       "      <td>0.133</td>\n",
       "      <td>12992.000</td>\n",
       "    </tr>\n",
       "    <tr>\n",
       "      <th>SPRR2E</th>\n",
       "      <td>-0.508</td>\n",
       "      <td>0.058</td>\n",
       "      <td>3336.000</td>\n",
       "      <td>9.632</td>\n",
       "      <td>2.368</td>\n",
       "      <td>0.051</td>\n",
       "      <td>0.000</td>\n",
       "      <td>1.529</td>\n",
       "      <td>1.000</td>\n",
       "      <td>498.000</td>\n",
       "      <td>12188.000</td>\n",
       "      <td>0.062</td>\n",
       "      <td>8667.000</td>\n",
       "    </tr>\n",
       "    <tr>\n",
       "      <th>KRTAP1-3</th>\n",
       "      <td>-1.967</td>\n",
       "      <td>0.056</td>\n",
       "      <td>940.000</td>\n",
       "      <td>35.296</td>\n",
       "      <td>0.000</td>\n",
       "      <td>0.055</td>\n",
       "      <td>0.000</td>\n",
       "      <td>0.000</td>\n",
       "      <td>2.000</td>\n",
       "      <td>1363.000</td>\n",
       "      <td>885.000</td>\n",
       "      <td>0.001</td>\n",
       "      <td>214.000</td>\n",
       "    </tr>\n",
       "    <tr>\n",
       "      <th>KIAA1549L</th>\n",
       "      <td>-0.088</td>\n",
       "      <td>0.007</td>\n",
       "      <td>5346.000</td>\n",
       "      <td>12.283</td>\n",
       "      <td>0.868</td>\n",
       "      <td>0.572</td>\n",
       "      <td>4.531</td>\n",
       "      <td>1.901</td>\n",
       "      <td>4.000</td>\n",
       "      <td>2632.500</td>\n",
       "      <td>7340.500</td>\n",
       "      <td>0.123</td>\n",
       "      <td>12746.000</td>\n",
       "    </tr>\n",
       "    <tr>\n",
       "      <th>BHLHE22</th>\n",
       "      <td>-0.288</td>\n",
       "      <td>0.000</td>\n",
       "      <td>4216.000</td>\n",
       "      <td>287.554</td>\n",
       "      <td>0.727</td>\n",
       "      <td>0.157</td>\n",
       "      <td>2.973</td>\n",
       "      <td>1.368</td>\n",
       "      <td>1.000</td>\n",
       "      <td>498.000</td>\n",
       "      <td>6470.000</td>\n",
       "      <td>0.082</td>\n",
       "      <td>10603.000</td>\n",
       "    </tr>\n",
       "  </tbody>\n",
       "</table>\n",
       "<p>1112 rows × 13 columns</p>\n",
       "</div>"
      ],
      "text/plain": [
       "            Diff  LRP_interaction  Diff_rank  Diff_div  CNA_Feat  Mut_Feat  \\\n",
       "CLPS      -0.034            0.009   5758.000     4.504     0.000     0.018   \n",
       "PNLIP     -0.028            0.001   5829.000    12.175     1.048     0.336   \n",
       "CNGB1     -0.451            0.006   3548.000    68.934     0.835     0.396   \n",
       "XRCC4     -0.243            0.095   4432.000     3.528     1.365     0.115   \n",
       "CLP1       0.087            0.090   7229.000     0.032     0.000     0.130   \n",
       "...          ...              ...        ...       ...       ...       ...   \n",
       "BPIFB1    -0.031            0.000   5798.000    30.819     0.993     0.163   \n",
       "SPRR2E    -0.508            0.058   3336.000     9.632     2.368     0.051   \n",
       "KRTAP1-3  -1.967            0.056    940.000    35.296     0.000     0.055   \n",
       "KIAA1549L -0.088            0.007   5346.000    12.283     0.868     0.572   \n",
       "BHLHE22   -0.288            0.000   4216.000   287.554     0.727     0.157   \n",
       "\n",
       "           Meth_Feat  GE_Feat  Degree  Degree_rank  CNA_rank  FeatureSum  \\\n",
       "CLPS           1.393    0.536   2.000     1363.000   885.000       0.030   \n",
       "PNLIP          4.666    0.190   3.000     2036.000  8454.000       0.098   \n",
       "CNGB1          1.645    1.941   3.000     2036.000  7039.000       0.075   \n",
       "XRCC4          0.289    0.670  45.000    10479.500  9734.500       0.038   \n",
       "CLP1           0.978    0.272  19.000     7311.000   885.000       0.022   \n",
       "...              ...      ...     ...          ...       ...         ...   \n",
       "BPIFB1         4.981    2.355   1.000      498.000  8056.000       0.133   \n",
       "SPRR2E         0.000    1.529   1.000      498.000 12188.000       0.062   \n",
       "KRTAP1-3       0.000    0.000   2.000     1363.000   885.000       0.001   \n",
       "KIAA1549L      4.531    1.901   4.000     2632.500  7340.500       0.123   \n",
       "BHLHE22        2.973    1.368   1.000      498.000  6470.000       0.082   \n",
       "\n",
       "           Feat_rank  \n",
       "CLPS        3923.000  \n",
       "PNLIP      11636.000  \n",
       "CNGB1      10061.000  \n",
       "XRCC4       5293.000  \n",
       "CLP1        2248.000  \n",
       "...              ...  \n",
       "BPIFB1     12992.000  \n",
       "SPRR2E      8667.000  \n",
       "KRTAP1-3     214.000  \n",
       "KIAA1549L  12746.000  \n",
       "BHLHE22    10603.000  \n",
       "\n",
       "[1112 rows x 13 columns]"
      ]
     },
     "execution_count": 17,
     "metadata": {},
     "output_type": "execute_result"
    }
   ],
   "source": [
    "vals[~np.isclose(vals.Diff_div*lrp_sum, lrp_sum_old, rtol=0.01)]"
   ]
  },
  {
   "cell_type": "code",
   "execution_count": 1,
   "metadata": {},
   "outputs": [
    {
     "ename": "NameError",
     "evalue": "name 'pd' is not defined",
     "output_type": "error",
     "traceback": [
      "\u001b[0;31m---------------------------------------------------------------------------\u001b[0m",
      "\u001b[0;31mNameError\u001b[0m                                 Traceback (most recent call last)",
      "\u001b[0;32m<ipython-input-1-f45616c360b3>\u001b[0m in \u001b[0;36m<module>\u001b[0;34m\u001b[0m\n\u001b[0;32m----> 1\u001b[0;31m \u001b[0mlrp_old_df\u001b[0m \u001b[0;34m=\u001b[0m \u001b[0mpd\u001b[0m\u001b[0;34m.\u001b[0m\u001b[0mDataFrame\u001b[0m\u001b[0;34m(\u001b[0m\u001b[0mlrp_neighbor_matrix_abs_old\u001b[0m\u001b[0;34m,\u001b[0m \u001b[0mindex\u001b[0m\u001b[0;34m=\u001b[0m\u001b[0mnode_names_old\u001b[0m\u001b[0;34m[\u001b[0m\u001b[0;34m:\u001b[0m\u001b[0;34m,\u001b[0m \u001b[0;36m1\u001b[0m\u001b[0;34m]\u001b[0m\u001b[0;34m,\u001b[0m \u001b[0mcolumns\u001b[0m\u001b[0;34m=\u001b[0m\u001b[0mnode_names_old\u001b[0m\u001b[0;34m[\u001b[0m\u001b[0;34m:\u001b[0m\u001b[0;34m,\u001b[0m \u001b[0;36m1\u001b[0m\u001b[0;34m]\u001b[0m\u001b[0;34m)\u001b[0m\u001b[0;34m\u001b[0m\u001b[0;34m\u001b[0m\u001b[0m\n\u001b[0m\u001b[1;32m      2\u001b[0m \u001b[0mranked_lrp_old\u001b[0m \u001b[0;34m=\u001b[0m \u001b[0;34m(\u001b[0m\u001b[0mlrp_old_df\u001b[0m\u001b[0;34m.\u001b[0m\u001b[0mrank\u001b[0m\u001b[0;34m(\u001b[0m\u001b[0maxis\u001b[0m\u001b[0;34m=\u001b[0m\u001b[0;36m0\u001b[0m\u001b[0;34m,\u001b[0m \u001b[0mmethod\u001b[0m\u001b[0;34m=\u001b[0m\u001b[0;34m'dense'\u001b[0m\u001b[0;34m)\u001b[0m \u001b[0;34m+\u001b[0m \u001b[0mlrp_old_df\u001b[0m\u001b[0;34m.\u001b[0m\u001b[0mrank\u001b[0m\u001b[0;34m(\u001b[0m\u001b[0maxis\u001b[0m\u001b[0;34m=\u001b[0m\u001b[0;36m1\u001b[0m\u001b[0;34m,\u001b[0m \u001b[0mmethod\u001b[0m\u001b[0;34m=\u001b[0m\u001b[0;34m'dense'\u001b[0m\u001b[0;34m)\u001b[0m\u001b[0;34m)\u001b[0m \u001b[0;34m/\u001b[0m \u001b[0;36m2.\u001b[0m\u001b[0;34m\u001b[0m\u001b[0;34m\u001b[0m\u001b[0m\n\u001b[1;32m      3\u001b[0m \u001b[0mlrp_new_df\u001b[0m \u001b[0;34m=\u001b[0m \u001b[0mpd\u001b[0m\u001b[0;34m.\u001b[0m\u001b[0mDataFrame\u001b[0m\u001b[0;34m(\u001b[0m\u001b[0mlrp_neighbor_matrix_abs\u001b[0m\u001b[0;34m,\u001b[0m \u001b[0mindex\u001b[0m\u001b[0;34m=\u001b[0m\u001b[0mnode_names\u001b[0m\u001b[0;34m[\u001b[0m\u001b[0;34m:\u001b[0m\u001b[0;34m,\u001b[0m \u001b[0;36m1\u001b[0m\u001b[0;34m]\u001b[0m\u001b[0;34m,\u001b[0m \u001b[0mcolumns\u001b[0m\u001b[0;34m=\u001b[0m\u001b[0mnode_names\u001b[0m\u001b[0;34m[\u001b[0m\u001b[0;34m:\u001b[0m\u001b[0;34m,\u001b[0m \u001b[0;36m1\u001b[0m\u001b[0;34m]\u001b[0m\u001b[0;34m)\u001b[0m\u001b[0;34m\u001b[0m\u001b[0;34m\u001b[0m\u001b[0m\n\u001b[1;32m      4\u001b[0m \u001b[0mranked_lrp_new\u001b[0m \u001b[0;34m=\u001b[0m \u001b[0mlrp_new_df\u001b[0m\u001b[0;34m.\u001b[0m\u001b[0mrank\u001b[0m\u001b[0;34m(\u001b[0m\u001b[0maxis\u001b[0m\u001b[0;34m=\u001b[0m\u001b[0;36m0\u001b[0m\u001b[0;34m,\u001b[0m \u001b[0mmethod\u001b[0m\u001b[0;34m=\u001b[0m\u001b[0;34m'dense'\u001b[0m\u001b[0;34m)\u001b[0m \u001b[0;31m#+ lrp_new_df.rank(axis=1, method='dense')) / 2.\u001b[0m\u001b[0;34m\u001b[0m\u001b[0;34m\u001b[0m\u001b[0m\n",
      "\u001b[0;31mNameError\u001b[0m: name 'pd' is not defined"
     ]
    }
   ],
   "source": [
    "lrp_old_df = pd.DataFrame(lrp_neighbor_matrix_abs_old, index=node_names_old[:, 1], columns=node_names_old[:, 1])\n",
    "ranked_lrp_old = (lrp_old_df.rank(axis=0, method='dense') + lrp_old_df.rank(axis=1, method='dense')) / 2.\n",
    "lrp_new_df = pd.DataFrame(lrp_neighbor_matrix_abs, index=node_names[:, 1], columns=node_names[:, 1])\n",
    "ranked_lrp_new = lrp_new_df.rank(axis=0, method='dense') #+ lrp_new_df.rank(axis=1, method='dense')) / 2."
   ]
  },
  {
   "cell_type": "code",
   "execution_count": 256,
   "metadata": {},
   "outputs": [],
   "source": [
    "degrees = pd.DataFrame(adjacency, index=node_names[:, 1]).sum(axis=1) * lrp_sum\n",
    "#D = np.power(np.diag(degrees), -0.5)\n",
    "#D[np.isinf(D)] = 0.\n",
    "#ranked_lrp_new_test = pd.DataFrame(D.dot(ranked_lrp_new - 1).dot(D), index=node_names[:, 1], columns=node_names[:, 1]) * lrp_sum\n",
    "ranked_lrp_new_test = pd.DataFrame(D.dot(lrp_neighbor_matrix_abs).dot(D), index=node_names[:, 1], columns=node_names[:, 1])\n",
    "\n",
    "# substract 1 to have fewer edges and faster compute times\n",
    "C_abs_new = nx.from_pandas_adjacency(ranked_lrp_new_test, create_using=nx.MultiDiGraph)\n",
    "C_abs_full_new = C_abs_new.copy()\n",
    "C_abs_full_new.remove_edges_from(list(nx.selfloop_edges(C_abs_full_new)))"
   ]
  },
  {
   "cell_type": "code",
   "execution_count": 37,
   "metadata": {},
   "outputs": [],
   "source": [
    "scaled_df = pd.DataFrame(lrp_neighbor_matrix_abs, index=node_names[:, 1], columns=node_names[:, 1])*vals.Diff_div\n",
    "\n",
    "C_abs_new = nx.from_pandas_adjacency(scaled_df, create_using=nx.MultiDiGraph)\n",
    "C_abs_full_new = C_abs_new.copy()\n",
    "C_abs_full_new.remove_edges_from(list(nx.selfloop_edges(C_abs_full_new)))\n",
    "\n"
   ]
  },
  {
   "cell_type": "code",
   "execution_count": 38,
   "metadata": {},
   "outputs": [
    {
     "name": "stdout",
     "output_type": "stream",
     "text": [
      "[2000, 5, 4, 3, 3, 3, 3, 3, 3, 3, 3, 3, 3, 3, 3, 3, 3, 3, 2, 2, 2, 2, 2, 2, 2, 2, 2, 2, 2, 2, 2, 2, 2, 2, 2, 2, 2, 2, 2, 2, 2, 2, 2, 2, 2, 2, 2, 2, 2, 2, 2, 2, 2, 2, 2, 2, 2, 2, 2, 2, 2, 2, 2, 2, 2, 2, 2, 2, 2, 2, 2, 2, 2, 2, 2, 2, 2, 2, 2, 2, 2, 2, 2, 2, 2, 2, 2, 2, 2, 2, 2, 2, 2, 2, 2, 2, 2, 2, 2, 2, 2, 2, 2, 2, 2, 2, 2, 2, 2, 2, 2, 2, 2, 2, 2]\n",
      "2000\n",
      "2\n"
     ]
    }
   ],
   "source": [
    "C_abs_test = C_abs_full_new.copy()\n",
    "\n",
    "# sparsen the network\n",
    "edge_weights = nx.get_edge_attributes(C_abs_test,'weight')\n",
    "C_abs_test.remove_edges_from((e for e, w in edge_weights.items() if w <= .165)) #0.165\n",
    "\n",
    "# call SCCs\n",
    "print ([len(c) for c in sorted(nx.strongly_connected_components(C_abs_test), key=len, reverse=True) if len(c) > 1])\n",
    "print (len(max(nx.strongly_connected_components(C_abs_test), key=len)))\n",
    "nodes_component = list(max(nx.strongly_connected_components(C_abs_test), key=len))\n",
    "x = pd.DataFrame(nodes_component, columns=['Name'])\n",
    "all_components = [list(c) for c in sorted(nx.strongly_connected_components(C_abs_test), key=len, reverse=True) if len(c) > 1]\n",
    "all_components_larger5 = [list(c) for c in sorted(nx.strongly_connected_components(C_abs_test), key=len, reverse=True) if len(c) >= 5]\n",
    "print (len(all_components_larger5))"
   ]
  },
  {
   "cell_type": "code",
   "execution_count": 34,
   "metadata": {},
   "outputs": [
    {
     "name": "stdout",
     "output_type": "stream",
     "text": [
      "Module lrp_neighbors_new_comp_10_thr_0.19.gml: Overlap: 0\n",
      "Module lrp_neighbors_new_comp_9_thr_0.19.gml: Overlap: 0\n",
      "Module lrp_neighbors_new_comp_8_thr_0.19.gml: Overlap: 1\n",
      "Module lrp_neighbors_new_comp_7_thr_0.19.gml: Overlap: 0\n",
      "Module lrp_neighbors_new_comp_6_thr_0.19.gml: Overlap: 0\n",
      "Module lrp_neighbors_new_comp_1_thr_0.19.gml: Overlap: 2\n",
      "Module lrp_neighbors_new_comp_2_thr_0.19.gml: Overlap: 8\n",
      "Module lrp_neighbors_new_comp_3_thr_0.19.gml: Overlap: 4\n",
      "Module lrp_neighbors_new_comp_4_thr_0.19.gml: Overlap: 3\n",
      "Module lrp_neighbors_new_comp_5_thr_0.19.gml: Overlap: 1\n"
     ]
    },
    {
     "data": {
      "text/plain": [
       "19"
      ]
     },
     "execution_count": 34,
     "metadata": {},
     "output_type": "execute_result"
    }
   ],
   "source": [
    "flat_list = [gene for scc in all_components for gene in scc if len(scc) > 4]\n",
    "old_modules_dir = '../data/GCN/training/final_TCGA_all_networks/CPDB/multiomics/SCCs/thr_019_noneg/'\n",
    "all_genes_in_modules = []\n",
    "for gml in os.listdir(old_modules_dir):\n",
    "    if gml.endswith('.gml') and not 'nonzero' in gml:\n",
    "        module = nx.read_gml(os.path.join(old_modules_dir, gml))\n",
    "        print (\"Module {}: Overlap: {}\".format(gml, len([n for n in module.nodes() if n in flat_list])))\n",
    "        all_genes_in_modules += [n for n in module.nodes() if n in flat_list]\n",
    "len(all_genes_in_modules)"
   ]
  },
  {
   "cell_type": "code",
   "execution_count": 35,
   "metadata": {},
   "outputs": [
    {
     "name": "stdout",
     "output_type": "stream",
     "text": [
      "['IGFBP5', 'IGF1', 'ADAMTSL5', 'FBN2', 'IGFBP2', 'FBN1', 'LTBP1', 'EFEMP2', 'ODAPH', 'GPC3', 'IGFBP1', 'HIVEP1', 'LTBP4', 'MFAP2', 'IGFBP6', 'CLK1', 'GSDMB', 'IGF2', 'MATN2', 'HAPLN3']\n",
      "['FBN2', 'LTBP4', 'ADAMTSL5', 'FBN1', 'EFEMP2', 'MATN2', 'LTBP1']\n",
      "0\n",
      "['NELL1', 'MMP2', 'CCL7', 'CSN1S1', 'MMP1', 'TIMP3']\n",
      "['CSN1S1']\n",
      "8\n",
      "['NELL2', 'C4orf48']\n",
      "['NELL2', 'C4orf48']\n",
      "132\n",
      "['CSH1', 'LOX']\n",
      "['LOX']\n",
      "196\n"
     ]
    }
   ],
   "source": [
    "module = nx.read_gml(os.path.join(old_modules_dir, 'lrp_neighbors_new_comp_2_thr_0.19.gml'))\n",
    "n = 0\n",
    "for c in all_components:\n",
    "    overlap = [n for n in module.nodes() if n in c]\n",
    "    if len(overlap) > 0:\n",
    "        print (c)\n",
    "        print (overlap)\n",
    "        print (n)\n",
    "    n += 1"
   ]
  },
  {
   "cell_type": "code",
   "execution_count": 32,
   "metadata": {},
   "outputs": [
    {
     "data": {
      "image/png": "[encoded data removed]",
      "text/plain": [
       "<Figure size 1008x1008 with 1 Axes>"
      ]
     },
     "metadata": {},
     "output_type": "display_data"
    }
   ],
   "source": [
    "M = C_abs_test.subgraph(all_components[2])\n",
    "fig = plt.figure(figsize=(14, 14))\n",
    "nx.draw(M, with_labels=True, node_color='gray', alpha=.8, node_size=1, font_size=12)\n",
    "#_ = nx.draw_networkx_labels(M, pos=nx.spring_layout(M))"
   ]
  },
  {
   "cell_type": "code",
   "execution_count": 84,
   "metadata": {},
   "outputs": [
    {
     "data": {
      "text/html": [
       "<div>\n",
       "<style scoped>\n",
       "    .dataframe tbody tr th:only-of-type {\n",
       "        vertical-align: middle;\n",
       "    }\n",
       "\n",
       "    .dataframe tbody tr th {\n",
       "        vertical-align: top;\n",
       "    }\n",
       "\n",
       "    .dataframe thead th {\n",
       "        text-align: right;\n",
       "    }\n",
       "</style>\n",
       "<table border=\"1\" class=\"dataframe\">\n",
       "  <thead>\n",
       "    <tr style=\"text-align: right;\">\n",
       "      <th></th>\n",
       "      <th>Diff</th>\n",
       "      <th>LRP_interaction</th>\n",
       "      <th>Diff_rank</th>\n",
       "      <th>Diff_div</th>\n",
       "      <th>CNA_Feat</th>\n",
       "      <th>Mut_Feat</th>\n",
       "      <th>Meth_Feat</th>\n",
       "      <th>GE_Feat</th>\n",
       "      <th>KCG</th>\n",
       "      <th>Degree</th>\n",
       "      <th>Degree_rank</th>\n",
       "      <th>CNA_rank</th>\n",
       "      <th>FeatureSum</th>\n",
       "      <th>Feat_rank</th>\n",
       "    </tr>\n",
       "  </thead>\n",
       "  <tbody>\n",
       "    <tr>\n",
       "      <th>STIM1</th>\n",
       "      <td>0.942</td>\n",
       "      <td>1.029</td>\n",
       "      <td>9793.000</td>\n",
       "      <td>0.084</td>\n",
       "      <td>0.878</td>\n",
       "      <td>0.142</td>\n",
       "      <td>1.340</td>\n",
       "      <td>0.908</td>\n",
       "      <td>False</td>\n",
       "      <td>40.000</td>\n",
       "      <td>10086.000</td>\n",
       "      <td>7357.500</td>\n",
       "      <td>0.051</td>\n",
       "      <td>7350.000</td>\n",
       "    </tr>\n",
       "    <tr>\n",
       "      <th>TRPC1</th>\n",
       "      <td>6.092</td>\n",
       "      <td>6.684</td>\n",
       "      <td>12952.000</td>\n",
       "      <td>0.089</td>\n",
       "      <td>0.346</td>\n",
       "      <td>0.318</td>\n",
       "      <td>0.913</td>\n",
       "      <td>1.785</td>\n",
       "      <td>False</td>\n",
       "      <td>17.000</td>\n",
       "      <td>6863.000</td>\n",
       "      <td>4547.000</td>\n",
       "      <td>0.053</td>\n",
       "      <td>7545.000</td>\n",
       "    </tr>\n",
       "    <tr>\n",
       "      <th>NOS1</th>\n",
       "      <td>-0.716</td>\n",
       "      <td>1.019</td>\n",
       "      <td>2759.000</td>\n",
       "      <td>1.701</td>\n",
       "      <td>0.831</td>\n",
       "      <td>0.729</td>\n",
       "      <td>2.977</td>\n",
       "      <td>4.771</td>\n",
       "      <td>False</td>\n",
       "      <td>39.000</td>\n",
       "      <td>9997.500</td>\n",
       "      <td>6966.000</td>\n",
       "      <td>0.145</td>\n",
       "      <td>13243.000</td>\n",
       "    </tr>\n",
       "    <tr>\n",
       "      <th>ATP2B4</th>\n",
       "      <td>1.100</td>\n",
       "      <td>1.219</td>\n",
       "      <td>10164.000</td>\n",
       "      <td>0.098</td>\n",
       "      <td>1.077</td>\n",
       "      <td>0.508</td>\n",
       "      <td>0.789</td>\n",
       "      <td>1.619</td>\n",
       "      <td>False</td>\n",
       "      <td>42.000</td>\n",
       "      <td>10244.500</td>\n",
       "      <td>8766.000</td>\n",
       "      <td>0.062</td>\n",
       "      <td>8745.000</td>\n",
       "    </tr>\n",
       "    <tr>\n",
       "      <th>ABCC9</th>\n",
       "      <td>0.634</td>\n",
       "      <td>2.123</td>\n",
       "      <td>8869.000</td>\n",
       "      <td>0.701</td>\n",
       "      <td>0.136</td>\n",
       "      <td>0.821</td>\n",
       "      <td>0.000</td>\n",
       "      <td>2.740</td>\n",
       "      <td>False</td>\n",
       "      <td>3.000</td>\n",
       "      <td>2036.000</td>\n",
       "      <td>2779.000</td>\n",
       "      <td>0.058</td>\n",
       "      <td>8206.000</td>\n",
       "    </tr>\n",
       "    <tr>\n",
       "      <th>...</th>\n",
       "      <td>...</td>\n",
       "      <td>...</td>\n",
       "      <td>...</td>\n",
       "      <td>...</td>\n",
       "      <td>...</td>\n",
       "      <td>...</td>\n",
       "      <td>...</td>\n",
       "      <td>...</td>\n",
       "      <td>...</td>\n",
       "      <td>...</td>\n",
       "      <td>...</td>\n",
       "      <td>...</td>\n",
       "      <td>...</td>\n",
       "      <td>...</td>\n",
       "    </tr>\n",
       "    <tr>\n",
       "      <th>GPR153</th>\n",
       "      <td>-0.174</td>\n",
       "      <td>0.681</td>\n",
       "      <td>4583.000</td>\n",
       "      <td>1.254</td>\n",
       "      <td>2.846</td>\n",
       "      <td>0.047</td>\n",
       "      <td>0.491</td>\n",
       "      <td>0.887</td>\n",
       "      <td>False</td>\n",
       "      <td>1.000</td>\n",
       "      <td>498.000</td>\n",
       "      <td>12770.000</td>\n",
       "      <td>0.067</td>\n",
       "      <td>9202.000</td>\n",
       "    </tr>\n",
       "    <tr>\n",
       "      <th>HDC</th>\n",
       "      <td>-0.261</td>\n",
       "      <td>0.087</td>\n",
       "      <td>4174.000</td>\n",
       "      <td>3.943</td>\n",
       "      <td>1.022</td>\n",
       "      <td>0.192</td>\n",
       "      <td>2.457</td>\n",
       "      <td>2.661</td>\n",
       "      <td>False</td>\n",
       "      <td>1.000</td>\n",
       "      <td>498.000</td>\n",
       "      <td>8240.000</td>\n",
       "      <td>0.099</td>\n",
       "      <td>11733.000</td>\n",
       "    </tr>\n",
       "    <tr>\n",
       "      <th>CSMD1</th>\n",
       "      <td>3.461</td>\n",
       "      <td>3.875</td>\n",
       "      <td>12350.000</td>\n",
       "      <td>0.107</td>\n",
       "      <td>3.280</td>\n",
       "      <td>2.408</td>\n",
       "      <td>0.000</td>\n",
       "      <td>3.007</td>\n",
       "      <td>False</td>\n",
       "      <td>1.000</td>\n",
       "      <td>498.000</td>\n",
       "      <td>13161.000</td>\n",
       "      <td>0.136</td>\n",
       "      <td>13084.000</td>\n",
       "    </tr>\n",
       "    <tr>\n",
       "      <th>BHLHE22</th>\n",
       "      <td>-0.274</td>\n",
       "      <td>0.014</td>\n",
       "      <td>4131.000</td>\n",
       "      <td>19.704</td>\n",
       "      <td>0.727</td>\n",
       "      <td>0.157</td>\n",
       "      <td>2.973</td>\n",
       "      <td>1.368</td>\n",
       "      <td>False</td>\n",
       "      <td>1.000</td>\n",
       "      <td>498.000</td>\n",
       "      <td>6470.000</td>\n",
       "      <td>0.082</td>\n",
       "      <td>10603.000</td>\n",
       "    </tr>\n",
       "    <tr>\n",
       "      <th>PROKR1</th>\n",
       "      <td>-0.505</td>\n",
       "      <td>0.304</td>\n",
       "      <td>3337.000</td>\n",
       "      <td>2.653</td>\n",
       "      <td>0.129</td>\n",
       "      <td>0.196</td>\n",
       "      <td>1.129</td>\n",
       "      <td>1.732</td>\n",
       "      <td>False</td>\n",
       "      <td>2.000</td>\n",
       "      <td>1363.000</td>\n",
       "      <td>2578.000</td>\n",
       "      <td>0.050</td>\n",
       "      <td>7143.000</td>\n",
       "    </tr>\n",
       "  </tbody>\n",
       "</table>\n",
       "<p>13627 rows × 14 columns</p>\n",
       "</div>"
      ],
      "text/plain": [
       "          Diff  LRP_interaction  Diff_rank  Diff_div  CNA_Feat  Mut_Feat  \\\n",
       "STIM1    0.942            1.029   9793.000     0.084     0.878     0.142   \n",
       "TRPC1    6.092            6.684  12952.000     0.089     0.346     0.318   \n",
       "NOS1    -0.716            1.019   2759.000     1.701     0.831     0.729   \n",
       "ATP2B4   1.100            1.219  10164.000     0.098     1.077     0.508   \n",
       "ABCC9    0.634            2.123   8869.000     0.701     0.136     0.821   \n",
       "...        ...              ...        ...       ...       ...       ...   \n",
       "GPR153  -0.174            0.681   4583.000     1.254     2.846     0.047   \n",
       "HDC     -0.261            0.087   4174.000     3.943     1.022     0.192   \n",
       "CSMD1    3.461            3.875  12350.000     0.107     3.280     2.408   \n",
       "BHLHE22 -0.274            0.014   4131.000    19.704     0.727     0.157   \n",
       "PROKR1  -0.505            0.304   3337.000     2.653     0.129     0.196   \n",
       "\n",
       "         Meth_Feat  GE_Feat    KCG  Degree  Degree_rank  CNA_rank  FeatureSum  \\\n",
       "STIM1        1.340    0.908  False  40.000    10086.000  7357.500       0.051   \n",
       "TRPC1        0.913    1.785  False  17.000     6863.000  4547.000       0.053   \n",
       "NOS1         2.977    4.771  False  39.000     9997.500  6966.000       0.145   \n",
       "ATP2B4       0.789    1.619  False  42.000    10244.500  8766.000       0.062   \n",
       "ABCC9        0.000    2.740  False   3.000     2036.000  2779.000       0.058   \n",
       "...            ...      ...    ...     ...          ...       ...         ...   \n",
       "GPR153       0.491    0.887  False   1.000      498.000 12770.000       0.067   \n",
       "HDC          2.457    2.661  False   1.000      498.000  8240.000       0.099   \n",
       "CSMD1        0.000    3.007  False   1.000      498.000 13161.000       0.136   \n",
       "BHLHE22      2.973    1.368  False   1.000      498.000  6470.000       0.082   \n",
       "PROKR1       1.129    1.732  False   2.000     1363.000  2578.000       0.050   \n",
       "\n",
       "         Feat_rank  \n",
       "STIM1     7350.000  \n",
       "TRPC1     7545.000  \n",
       "NOS1     13243.000  \n",
       "ATP2B4    8745.000  \n",
       "ABCC9     8206.000  \n",
       "...            ...  \n",
       "GPR153    9202.000  \n",
       "HDC      11733.000  \n",
       "CSMD1    13084.000  \n",
       "BHLHE22  10603.000  \n",
       "PROKR1    7143.000  \n",
       "\n",
       "[13627 rows x 14 columns]"
      ]
     },
     "execution_count": 84,
     "metadata": {},
     "output_type": "execute_result"
    }
   ],
   "source": [
    "vals"
   ]
  },
  {
   "cell_type": "code",
   "execution_count": 85,
   "metadata": {},
   "outputs": [],
   "source": [
    "feature_contributions = np.load(os.path.join(model_dir, 'lrp_sigmoid', 'feat_mean_all.npy'))\n",
    "# replace 0 values with small random ones to prevent numerical issues\n",
    "feat_contrib_df = pd.DataFrame(feature_contributions, index=node_names[:feature_contributions.shape[0], 1], columns=feature_names)\n",
    "zero_rows = feat_contrib_df[(feat_contrib_df == 0).all(axis=1)]\n",
    "feat_contrib_df.loc[(feat_contrib_df == 0).all(axis=1)] = np.random.randn(*zero_rows.shape)*0.00001"
   ]
  },
  {
   "cell_type": "code",
   "execution_count": 86,
   "metadata": {},
   "outputs": [
    {
     "data": {
      "text/html": [
       "<div>\n",
       "<style scoped>\n",
       "    .dataframe tbody tr th:only-of-type {\n",
       "        vertical-align: middle;\n",
       "    }\n",
       "\n",
       "    .dataframe tbody tr th {\n",
       "        vertical-align: top;\n",
       "    }\n",
       "\n",
       "    .dataframe thead th {\n",
       "        text-align: right;\n",
       "    }\n",
       "</style>\n",
       "<table border=\"1\" class=\"dataframe\">\n",
       "  <thead>\n",
       "    <tr style=\"text-align: right;\">\n",
       "      <th></th>\n",
       "      <th>Diff</th>\n",
       "      <th>LRP_interaction</th>\n",
       "      <th>Diff_rank</th>\n",
       "      <th>Diff_div</th>\n",
       "      <th>CNA_Feat</th>\n",
       "      <th>Mut_Feat</th>\n",
       "      <th>Meth_Feat</th>\n",
       "      <th>GE_Feat</th>\n",
       "      <th>KCG</th>\n",
       "      <th>Degree</th>\n",
       "      <th>Degree_rank</th>\n",
       "      <th>CNA_rank</th>\n",
       "      <th>FeatureSum</th>\n",
       "      <th>Feat_rank</th>\n",
       "      <th>MF_contrib</th>\n",
       "      <th>CNA_contrib</th>\n",
       "      <th>METH_contrib</th>\n",
       "      <th>GE_contrib</th>\n",
       "    </tr>\n",
       "  </thead>\n",
       "  <tbody>\n",
       "    <tr>\n",
       "      <th>STIM1</th>\n",
       "      <td>0.942</td>\n",
       "      <td>1.029</td>\n",
       "      <td>9793.000</td>\n",
       "      <td>0.084</td>\n",
       "      <td>0.878</td>\n",
       "      <td>0.142</td>\n",
       "      <td>1.340</td>\n",
       "      <td>0.908</td>\n",
       "      <td>False</td>\n",
       "      <td>40.000</td>\n",
       "      <td>10086.000</td>\n",
       "      <td>7357.500</td>\n",
       "      <td>0.051</td>\n",
       "      <td>7350.000</td>\n",
       "      <td>-0.006</td>\n",
       "      <td>0.002</td>\n",
       "      <td>0.038</td>\n",
       "      <td>-0.002</td>\n",
       "    </tr>\n",
       "    <tr>\n",
       "      <th>TRPC1</th>\n",
       "      <td>6.092</td>\n",
       "      <td>6.684</td>\n",
       "      <td>12952.000</td>\n",
       "      <td>0.089</td>\n",
       "      <td>0.346</td>\n",
       "      <td>0.318</td>\n",
       "      <td>0.913</td>\n",
       "      <td>1.785</td>\n",
       "      <td>False</td>\n",
       "      <td>17.000</td>\n",
       "      <td>6863.000</td>\n",
       "      <td>4547.000</td>\n",
       "      <td>0.053</td>\n",
       "      <td>7545.000</td>\n",
       "      <td>0.205</td>\n",
       "      <td>0.080</td>\n",
       "      <td>0.148</td>\n",
       "      <td>-0.236</td>\n",
       "    </tr>\n",
       "    <tr>\n",
       "      <th>NOS1</th>\n",
       "      <td>-0.716</td>\n",
       "      <td>1.019</td>\n",
       "      <td>2759.000</td>\n",
       "      <td>1.701</td>\n",
       "      <td>0.831</td>\n",
       "      <td>0.729</td>\n",
       "      <td>2.977</td>\n",
       "      <td>4.771</td>\n",
       "      <td>False</td>\n",
       "      <td>39.000</td>\n",
       "      <td>9997.500</td>\n",
       "      <td>6966.000</td>\n",
       "      <td>0.145</td>\n",
       "      <td>13243.000</td>\n",
       "      <td>0.164</td>\n",
       "      <td>0.068</td>\n",
       "      <td>0.045</td>\n",
       "      <td>-0.353</td>\n",
       "    </tr>\n",
       "    <tr>\n",
       "      <th>ATP2B4</th>\n",
       "      <td>1.100</td>\n",
       "      <td>1.219</td>\n",
       "      <td>10164.000</td>\n",
       "      <td>0.098</td>\n",
       "      <td>1.077</td>\n",
       "      <td>0.508</td>\n",
       "      <td>0.789</td>\n",
       "      <td>1.619</td>\n",
       "      <td>False</td>\n",
       "      <td>42.000</td>\n",
       "      <td>10244.500</td>\n",
       "      <td>8766.000</td>\n",
       "      <td>0.062</td>\n",
       "      <td>8745.000</td>\n",
       "      <td>0.256</td>\n",
       "      <td>-0.443</td>\n",
       "      <td>-0.050</td>\n",
       "      <td>-0.138</td>\n",
       "    </tr>\n",
       "    <tr>\n",
       "      <th>ABCC9</th>\n",
       "      <td>0.634</td>\n",
       "      <td>2.123</td>\n",
       "      <td>8869.000</td>\n",
       "      <td>0.701</td>\n",
       "      <td>0.136</td>\n",
       "      <td>0.821</td>\n",
       "      <td>0.000</td>\n",
       "      <td>2.740</td>\n",
       "      <td>False</td>\n",
       "      <td>3.000</td>\n",
       "      <td>2036.000</td>\n",
       "      <td>2779.000</td>\n",
       "      <td>0.058</td>\n",
       "      <td>8206.000</td>\n",
       "      <td>-2.385</td>\n",
       "      <td>-0.259</td>\n",
       "      <td>0.000</td>\n",
       "      <td>2.820</td>\n",
       "    </tr>\n",
       "  </tbody>\n",
       "</table>\n",
       "</div>"
      ],
      "text/plain": [
       "         Diff  LRP_interaction  Diff_rank  Diff_div  CNA_Feat  Mut_Feat  \\\n",
       "STIM1   0.942            1.029   9793.000     0.084     0.878     0.142   \n",
       "TRPC1   6.092            6.684  12952.000     0.089     0.346     0.318   \n",
       "NOS1   -0.716            1.019   2759.000     1.701     0.831     0.729   \n",
       "ATP2B4  1.100            1.219  10164.000     0.098     1.077     0.508   \n",
       "ABCC9   0.634            2.123   8869.000     0.701     0.136     0.821   \n",
       "\n",
       "        Meth_Feat  GE_Feat    KCG  Degree  Degree_rank  CNA_rank  FeatureSum  \\\n",
       "STIM1       1.340    0.908  False  40.000    10086.000  7357.500       0.051   \n",
       "TRPC1       0.913    1.785  False  17.000     6863.000  4547.000       0.053   \n",
       "NOS1        2.977    4.771  False  39.000     9997.500  6966.000       0.145   \n",
       "ATP2B4      0.789    1.619  False  42.000    10244.500  8766.000       0.062   \n",
       "ABCC9       0.000    2.740  False   3.000     2036.000  2779.000       0.058   \n",
       "\n",
       "        Feat_rank  MF_contrib  CNA_contrib  METH_contrib  GE_contrib  \n",
       "STIM1    7350.000      -0.006        0.002         0.038      -0.002  \n",
       "TRPC1    7545.000       0.205        0.080         0.148      -0.236  \n",
       "NOS1    13243.000       0.164        0.068         0.045      -0.353  \n",
       "ATP2B4   8745.000       0.256       -0.443        -0.050      -0.138  \n",
       "ABCC9    8206.000      -2.385       -0.259         0.000       2.820  "
      ]
     },
     "execution_count": 86,
     "metadata": {},
     "output_type": "execute_result"
    }
   ],
   "source": [
    "for omics in ['MF:', 'CNA:', 'METH:', 'GE:']:\n",
    "    omics_con = feat_contrib_df[[i for i in feat_contrib_df.columns if i.startswith(omics)]]\n",
    "    vals['{}_contrib'.format(omics.split(':')[0])] = omics_con.sum(axis=1)\n",
    "vals.head()"
   ]
  },
  {
   "cell_type": "code",
   "execution_count": 87,
   "metadata": {},
   "outputs": [
    {
     "data": {
      "text/plain": [
       "SpearmanrResult(correlation=0.05047372926687531, pvalue=3.7410372241963734e-09)"
      ]
     },
     "execution_count": 87,
     "metadata": {},
     "output_type": "execute_result"
    }
   ],
   "source": [
    "scipy.stats.spearmanr(vals.Diff, vals.CNA_contrib)"
   ]
  },
  {
   "cell_type": "code",
   "execution_count": 88,
   "metadata": {},
   "outputs": [],
   "source": [
    "vals = pred.join(vals, on='Name')\n",
    "vals.set_index('Name', inplace=True)"
   ]
  },
  {
   "cell_type": "code",
   "execution_count": 91,
   "metadata": {},
   "outputs": [
    {
     "data": {
      "text/plain": [
       "label                       -0.009\n",
       "Num_Pos                     -0.049\n",
       "Prob_pos                    -0.031\n",
       "Std_Pred                    -0.179\n",
       "NCG_Known_Cancer_Gene       -0.007\n",
       "NCG_Candidate_Cancer_Gene   -0.027\n",
       "OncoKB_Cancer_Gene           0.007\n",
       "Bailey_et_al_Cancer_Gene    -0.005\n",
       "ONGene_Oncogene              0.022\n",
       "Diff                        -0.872\n",
       "LRP_interaction             -0.477\n",
       "Diff_rank                   -0.872\n",
       "Diff_div                     1.000\n",
       "CNA_Feat                    -0.015\n",
       "Mut_Feat                    -0.100\n",
       "Meth_Feat                   -0.202\n",
       "GE_Feat                     -0.076\n",
       "KCG                         -0.007\n",
       "Degree                      -0.052\n",
       "Degree_rank                 -0.052\n",
       "CNA_rank                    -0.015\n",
       "FeatureSum                  -0.188\n",
       "Feat_rank                   -0.188\n",
       "MF_contrib                   0.005\n",
       "CNA_contrib                 -0.028\n",
       "METH_contrib                -0.024\n",
       "GE_contrib                  -0.007\n",
       "Name: Diff_div, dtype: float64"
      ]
     },
     "execution_count": 91,
     "metadata": {},
     "output_type": "execute_result"
    }
   ],
   "source": [
    "vals.corr(method='spearman')['Diff_div']"
   ]
  },
  {
   "cell_type": "code",
   "execution_count": 29,
   "metadata": {},
   "outputs": [
    {
     "data": {
      "text/html": [
       "<div>\n",
       "<style scoped>\n",
       "    .dataframe tbody tr th:only-of-type {\n",
       "        vertical-align: middle;\n",
       "    }\n",
       "\n",
       "    .dataframe tbody tr th {\n",
       "        vertical-align: top;\n",
       "    }\n",
       "\n",
       "    .dataframe thead th {\n",
       "        text-align: right;\n",
       "    }\n",
       "</style>\n",
       "<table border=\"1\" class=\"dataframe\">\n",
       "  <thead>\n",
       "    <tr style=\"text-align: right;\">\n",
       "      <th></th>\n",
       "      <th>label</th>\n",
       "      <th>Num_Pos</th>\n",
       "      <th>Prob_pos</th>\n",
       "      <th>Std_Pred</th>\n",
       "      <th>NCG_Known_Cancer_Gene</th>\n",
       "      <th>NCG_Candidate_Cancer_Gene</th>\n",
       "      <th>OncoKB_Cancer_Gene</th>\n",
       "      <th>Bailey_et_al_Cancer_Gene</th>\n",
       "      <th>ONGene_Oncogene</th>\n",
       "      <th>DatabaseKnowledge</th>\n",
       "      <th>...</th>\n",
       "      <th>KCG</th>\n",
       "      <th>Degree</th>\n",
       "      <th>Degree_rank</th>\n",
       "      <th>CNA_rank</th>\n",
       "      <th>FeatureSum</th>\n",
       "      <th>Feat_rank</th>\n",
       "      <th>MF_contrib</th>\n",
       "      <th>CNA_contrib</th>\n",
       "      <th>METH_contrib</th>\n",
       "      <th>GE_contrib</th>\n",
       "    </tr>\n",
       "    <tr>\n",
       "      <th>Name</th>\n",
       "      <th></th>\n",
       "      <th></th>\n",
       "      <th></th>\n",
       "      <th></th>\n",
       "      <th></th>\n",
       "      <th></th>\n",
       "      <th></th>\n",
       "      <th></th>\n",
       "      <th></th>\n",
       "      <th></th>\n",
       "      <th></th>\n",
       "      <th></th>\n",
       "      <th></th>\n",
       "      <th></th>\n",
       "      <th></th>\n",
       "      <th></th>\n",
       "      <th></th>\n",
       "      <th></th>\n",
       "      <th></th>\n",
       "      <th></th>\n",
       "      <th></th>\n",
       "    </tr>\n",
       "  </thead>\n",
       "  <tbody>\n",
       "    <tr>\n",
       "      <th>CDK1</th>\n",
       "      <td>False</td>\n",
       "      <td>10</td>\n",
       "      <td>1.000</td>\n",
       "      <td>0.000</td>\n",
       "      <td>False</td>\n",
       "      <td>False</td>\n",
       "      <td>False</td>\n",
       "      <td>False</td>\n",
       "      <td>True</td>\n",
       "      <td>ONGeneTSGene</td>\n",
       "      <td>...</td>\n",
       "      <td>False</td>\n",
       "      <td>293.000</td>\n",
       "      <td>13482.500</td>\n",
       "      <td>6054.500</td>\n",
       "      <td>0.062</td>\n",
       "      <td>8712.000</td>\n",
       "      <td>0.022</td>\n",
       "      <td>-0.014</td>\n",
       "      <td>-0.024</td>\n",
       "      <td>0.006</td>\n",
       "    </tr>\n",
       "    <tr>\n",
       "      <th>CCNB1</th>\n",
       "      <td>False</td>\n",
       "      <td>10</td>\n",
       "      <td>0.999</td>\n",
       "      <td>0.001</td>\n",
       "      <td>False</td>\n",
       "      <td>False</td>\n",
       "      <td>False</td>\n",
       "      <td>False</td>\n",
       "      <td>True</td>\n",
       "      <td>ONGeneTSGene</td>\n",
       "      <td>...</td>\n",
       "      <td>False</td>\n",
       "      <td>148.000</td>\n",
       "      <td>13021.000</td>\n",
       "      <td>10248.000</td>\n",
       "      <td>0.078</td>\n",
       "      <td>10300.000</td>\n",
       "      <td>0.023</td>\n",
       "      <td>-0.048</td>\n",
       "      <td>-0.057</td>\n",
       "      <td>0.101</td>\n",
       "    </tr>\n",
       "    <tr>\n",
       "      <th>CCNC</th>\n",
       "      <td>True</td>\n",
       "      <td>10</td>\n",
       "      <td>0.982</td>\n",
       "      <td>0.030</td>\n",
       "      <td>True</td>\n",
       "      <td>False</td>\n",
       "      <td>False</td>\n",
       "      <td>False</td>\n",
       "      <td>False</td>\n",
       "      <td>CGC</td>\n",
       "      <td>...</td>\n",
       "      <td>True</td>\n",
       "      <td>93.000</td>\n",
       "      <td>12377.500</td>\n",
       "      <td>11673.000</td>\n",
       "      <td>0.044</td>\n",
       "      <td>6310.000</td>\n",
       "      <td>0.182</td>\n",
       "      <td>0.000</td>\n",
       "      <td>-0.116</td>\n",
       "      <td>-0.025</td>\n",
       "    </tr>\n",
       "    <tr>\n",
       "      <th>MED12L</th>\n",
       "      <td>False</td>\n",
       "      <td>9</td>\n",
       "      <td>0.841</td>\n",
       "      <td>0.196</td>\n",
       "      <td>False</td>\n",
       "      <td>True</td>\n",
       "      <td>False</td>\n",
       "      <td>False</td>\n",
       "      <td>False</td>\n",
       "      <td>NCGCandidates</td>\n",
       "      <td>...</td>\n",
       "      <td>False</td>\n",
       "      <td>15.000</td>\n",
       "      <td>6434.000</td>\n",
       "      <td>7248.500</td>\n",
       "      <td>0.078</td>\n",
       "      <td>10305.000</td>\n",
       "      <td>0.840</td>\n",
       "      <td>-0.128</td>\n",
       "      <td>0.288</td>\n",
       "      <td>-0.959</td>\n",
       "    </tr>\n",
       "    <tr>\n",
       "      <th>CKS1B</th>\n",
       "      <td>False</td>\n",
       "      <td>4</td>\n",
       "      <td>0.398</td>\n",
       "      <td>0.346</td>\n",
       "      <td>False</td>\n",
       "      <td>False</td>\n",
       "      <td>False</td>\n",
       "      <td>False</td>\n",
       "      <td>True</td>\n",
       "      <td>ONGeneTSGene</td>\n",
       "      <td>...</td>\n",
       "      <td>False</td>\n",
       "      <td>59.000</td>\n",
       "      <td>11335.500</td>\n",
       "      <td>11932.000</td>\n",
       "      <td>0.092</td>\n",
       "      <td>11315.000</td>\n",
       "      <td>0.016</td>\n",
       "      <td>-1.094</td>\n",
       "      <td>0.063</td>\n",
       "      <td>0.097</td>\n",
       "    </tr>\n",
       "    <tr>\n",
       "      <th>CCNB2</th>\n",
       "      <td>False</td>\n",
       "      <td>2</td>\n",
       "      <td>0.344</td>\n",
       "      <td>0.261</td>\n",
       "      <td>False</td>\n",
       "      <td>True</td>\n",
       "      <td>False</td>\n",
       "      <td>False</td>\n",
       "      <td>True</td>\n",
       "      <td>ONGeneTSGene</td>\n",
       "      <td>...</td>\n",
       "      <td>False</td>\n",
       "      <td>26.000</td>\n",
       "      <td>8512.500</td>\n",
       "      <td>6442.500</td>\n",
       "      <td>0.079</td>\n",
       "      <td>10402.000</td>\n",
       "      <td>-0.900</td>\n",
       "      <td>1.443</td>\n",
       "      <td>0.415</td>\n",
       "      <td>8.387</td>\n",
       "    </tr>\n",
       "  </tbody>\n",
       "</table>\n",
       "<p>6 rows × 28 columns</p>\n",
       "</div>"
      ],
      "text/plain": [
       "        label  Num_Pos  Prob_pos  Std_Pred  NCG_Known_Cancer_Gene  \\\n",
       "Name                                                                \n",
       "CDK1    False       10     1.000     0.000                  False   \n",
       "CCNB1   False       10     0.999     0.001                  False   \n",
       "CCNC     True       10     0.982     0.030                   True   \n",
       "MED12L  False        9     0.841     0.196                  False   \n",
       "CKS1B   False        4     0.398     0.346                  False   \n",
       "CCNB2   False        2     0.344     0.261                  False   \n",
       "\n",
       "        NCG_Candidate_Cancer_Gene  OncoKB_Cancer_Gene  \\\n",
       "Name                                                    \n",
       "CDK1                        False               False   \n",
       "CCNB1                       False               False   \n",
       "CCNC                        False               False   \n",
       "MED12L                       True               False   \n",
       "CKS1B                       False               False   \n",
       "CCNB2                        True               False   \n",
       "\n",
       "        Bailey_et_al_Cancer_Gene  ONGene_Oncogene DatabaseKnowledge  ...  \\\n",
       "Name                                                                 ...   \n",
       "CDK1                       False             True      ONGeneTSGene  ...   \n",
       "CCNB1                      False             True      ONGeneTSGene  ...   \n",
       "CCNC                       False            False               CGC  ...   \n",
       "MED12L                     False            False     NCGCandidates  ...   \n",
       "CKS1B                      False             True      ONGeneTSGene  ...   \n",
       "CCNB2                      False             True      ONGeneTSGene  ...   \n",
       "\n",
       "          KCG  Degree  Degree_rank  CNA_rank  FeatureSum  Feat_rank  \\\n",
       "Name                                                                  \n",
       "CDK1    False 293.000    13482.500  6054.500       0.062   8712.000   \n",
       "CCNB1   False 148.000    13021.000 10248.000       0.078  10300.000   \n",
       "CCNC     True  93.000    12377.500 11673.000       0.044   6310.000   \n",
       "MED12L  False  15.000     6434.000  7248.500       0.078  10305.000   \n",
       "CKS1B   False  59.000    11335.500 11932.000       0.092  11315.000   \n",
       "CCNB2   False  26.000     8512.500  6442.500       0.079  10402.000   \n",
       "\n",
       "        MF_contrib  CNA_contrib  METH_contrib  GE_contrib  \n",
       "Name                                                       \n",
       "CDK1         0.022       -0.014        -0.024       0.006  \n",
       "CCNB1        0.023       -0.048        -0.057       0.101  \n",
       "CCNC         0.182        0.000        -0.116      -0.025  \n",
       "MED12L       0.840       -0.128         0.288      -0.959  \n",
       "CKS1B        0.016       -1.094         0.063       0.097  \n",
       "CCNB2       -0.900        1.443         0.415       8.387  \n",
       "\n",
       "[6 rows x 28 columns]"
      ]
     },
     "execution_count": 29,
     "metadata": {},
     "output_type": "execute_result"
    }
   ],
   "source": [
    "vals[vals.index.isin(['CCNB1', 'CCNB2', 'CCNC', 'CDK1', 'CKS1B', 'MED12L'])]"
   ]
  },
  {
   "cell_type": "code",
   "execution_count": 30,
   "metadata": {},
   "outputs": [
    {
     "data": {
      "text/plain": [
       "SpearmanrResult(correlation=0.2559104073779038, pvalue=1.0689807272132565e-202)"
      ]
     },
     "execution_count": 30,
     "metadata": {},
     "output_type": "execute_result"
    }
   ],
   "source": [
    "scipy.stats.spearmanr(lrp_sum_old, vals.Prob_pos)"
   ]
  },
  {
   "cell_type": "code",
   "execution_count": 143,
   "metadata": {},
   "outputs": [
    {
     "data": {
      "text/plain": [
       "SpearmanrResult(correlation=0.25970464002948423, pvalue=6.642167845956568e-209)"
      ]
     },
     "execution_count": 143,
     "metadata": {},
     "output_type": "execute_result"
    },
    {
     "data": {
      "image/png": "[encoded data removed]",
      "text/plain": [
       "<Figure size 432x288 with 1 Axes>"
      ]
     },
     "metadata": {
      "needs_background": "light"
     },
     "output_type": "display_data"
    }
   ],
   "source": [
    "sns.kdeplot(vals['Prob_pos'].rank(), np.abs(vals['Diff']).rank(), cmap='Reds', shade=True, shade_lowest=False)\n",
    "scipy.stats.spearmanr(vals.Prob_pos, np.abs(vals.Diff))"
   ]
  },
  {
   "cell_type": "code",
   "execution_count": 31,
   "metadata": {},
   "outputs": [
    {
     "data": {
      "image/png": "[encoded data removed]",
      "text/plain": [
       "<Figure size 1008x576 with 1 Axes>"
      ]
     },
     "metadata": {
      "needs_background": "light"
     },
     "output_type": "display_data"
    }
   ],
   "source": [
    "# ['CCNB1', 'CCNB2', 'CCNC', 'CDK1', 'CKS1B', 'MED12L']\n",
    "vals['old_modules'] = False\n",
    "vals.loc[vals.index.isin(all_genes_in_modules), 'old_modules'] = True\n",
    "fig = plt.figure(figsize=(14, 8))\n",
    "#sns.boxplot(data=vals.melt(id_vars=['old_modules']), x='variable', y='value', hue='old_modules', showfliers=False)\n",
    "sns.boxplot(data=vals, x='old_modules', y='Prob_pos', showfliers=False)\n",
    "plt.gca().tick_params(axis='x', rotation=90)"
   ]
  },
  {
   "cell_type": "code",
   "execution_count": 80,
   "metadata": {},
   "outputs": [
    {
     "name": "stderr",
     "output_type": "stream",
     "text": [
      "/pkg/python-3.7.7-0/lib/python3.7/site-packages/scipy/stats/stats.py:3508: PearsonRConstantInputWarning: An input array is constant; the correlation coefficent is not defined.\n",
      "  warnings.warn(PearsonRConstantInputWarning())\n"
     ]
    },
    {
     "data": {
      "text/plain": [
       "<AxesSubplot:>"
      ]
     },
     "execution_count": 80,
     "metadata": {},
     "output_type": "execute_result"
    },
    {
     "data": {
      "image/png": "[encoded data removed]",
      "text/plain": [
       "<Figure size 432x288 with 1 Axes>"
      ]
     },
     "metadata": {
      "needs_background": "light"
     },
     "output_type": "display_data"
    }
   ],
   "source": [
    "c = 0\n",
    "#lrp_old_df = pd.DataFrame(lrp_neighbor_matrix_old, index=node_names_old[:, 1], columns=node_names_old[:, 1])\n",
    "#lrp_new_df = pd.DataFrame(lrp_neighbor_matrix, index=node_names[:, 1], columns=node_names[:, 1])\n",
    "\n",
    "all_rs = []\n",
    "all_genes = []\n",
    "for gene in pred.Name:\n",
    "    r, p = scipy.stats.pearsonr(ranked_lrp_new[gene], ranked_lrp_old[gene])\n",
    "    all_rs.append(r)\n",
    "    all_genes.append(gene)\n",
    "sns.boxplot(all_rs, orient='v', showfliers=False)"
   ]
  },
  {
   "cell_type": "code",
   "execution_count": 85,
   "metadata": {},
   "outputs": [
    {
     "name": "stdout",
     "output_type": "stream",
     "text": [
      "(13627, 1)\n"
     ]
    },
    {
     "data": {
      "text/plain": [
       "<AxesSubplot:xlabel='old_modules', ylabel='R'>"
      ]
     },
     "execution_count": 85,
     "metadata": {},
     "output_type": "execute_result"
    },
    {
     "data": {
      "image/png": "[encoded data removed]",
      "text/plain": [
       "<Figure size 432x288 with 1 Axes>"
      ]
     },
     "metadata": {
      "needs_background": "light"
     },
     "output_type": "display_data"
    }
   ],
   "source": [
    "t = pd.DataFrame(all_rs, index=all_genes, columns=['R'])\n",
    "print (t.shape)\n",
    "t['top1000'] = False\n",
    "t['old_modules'] = False\n",
    "t.loc[t.index.isin(all_genes_in_modules), 'old_modules'] = True\n",
    "t.loc[t.index.isin(pred.head(1000).Name), 'top1000'] = True\n",
    "sns.boxplot(data=t, x='old_modules', y='R')"
   ]
  },
  {
   "cell_type": "code",
   "execution_count": 97,
   "metadata": {},
   "outputs": [
    {
     "data": {
      "text/plain": [
       "SpearmanrResult(correlation=0.9606981694861306, pvalue=0.0)"
      ]
     },
     "execution_count": 97,
     "metadata": {},
     "output_type": "execute_result"
    },
    {
     "data": {
      "image/png": "[encoded data removed]",
      "text/plain": [
       "<Figure size 432x288 with 1 Axes>"
      ]
     },
     "metadata": {
      "needs_background": "light"
     },
     "output_type": "display_data"
    }
   ],
   "source": [
    "g = 'CCNB2'\n",
    "sns.scatterplot(ranked_lrp_new[g], ranked_lrp_old[g])\n",
    "scipy.stats.spearmanr(ranked_lrp_new[g], ranked_lrp_old[g])"
   ]
  },
  {
   "cell_type": "code",
   "execution_count": 98,
   "metadata": {},
   "outputs": [
    {
     "name": "stdout",
     "output_type": "stream",
     "text": [
      "112\n"
     ]
    },
    {
     "data": {
      "text/plain": [
       "[('CCNB1', 'CKS1B', {'weight': 1.0867682909403233}),\n",
       " ('CCNB1', 'CDC6', {'weight': 0.6196500395443987}),\n",
       " ('CCNB1', 'CDC20', {'weight': 0.3205357668236031}),\n",
       " ('CCNB1', 'MEF2C', {'weight': 0.3016759791438442}),\n",
       " ('CCNB1', 'ESPL1', {'weight': 0.24917720214524458}),\n",
       " ('CCNB1', 'CDK1', {'weight': 0.22068644790509706}),\n",
       " ('CCNB1', 'NDC80', {'weight': 0.19221118840844284}),\n",
       " ('CCNB1', 'FOXM1', {'weight': 0.1883010262832804}),\n",
       " ('CCNB1', 'ANAPC11', {'weight': 0.17412894944278345}),\n",
       " ('CCNB1', 'PKMYT1', {'weight': 0.1696912720894421}),\n",
       " ('CCNB1', 'CDC25C', {'weight': 0.15290283294673193}),\n",
       " ('CCNB1', 'KAT6A', {'weight': 0.12325017989005316}),\n",
       " ('CCNB1', 'PLK1', {'weight': 0.12073102159851164}),\n",
       " ('CCNB1', 'GADD45B', {'weight': 0.1108602250037671}),\n",
       " ('CCNB1', 'ALKBH8', {'weight': 0.11028994961883934}),\n",
       " ('CCNB1', 'DEDD', {'weight': 0.10633630429360691}),\n",
       " ('CCNB1', 'MAP4', {'weight': 0.10099645866356764}),\n",
       " ('CCNB1', 'PRC1', {'weight': 0.09112302150072106}),\n",
       " ('CCNB1', 'KLC3', {'weight': 0.08879586253549077}),\n",
       " ('CCNB1', 'MYT1', {'weight': 0.08815271097333631})]"
      ]
     },
     "execution_count": 98,
     "metadata": {},
     "output_type": "execute_result"
    }
   ],
   "source": [
    "ips = [i for i in C_abs_full_new.out_edges('CCNB1', data=True)]\n",
    "print (len(ips))\n",
    "sorted([i for i in ips], key=lambda x: x[2]['weight'], reverse=True)[:20]#i[1].startswith('CC')]"
   ]
  },
  {
   "cell_type": "code",
   "execution_count": 99,
   "metadata": {},
   "outputs": [
    {
     "name": "stdout",
     "output_type": "stream",
     "text": [
      "113\n"
     ]
    },
    {
     "data": {
      "text/plain": [
       "[('CCNB1', 'CCNB1', {'weight': 1.0473802853787744}),\n",
       " ('CCNB1', 'CCNB2', {'weight': 0.21785909191866606}),\n",
       " ('CCNB1', 'PKMYT1', {'weight': 0.15113282736737865}),\n",
       " ('CCNB1', 'KAT6A', {'weight': 0.15043067220300052}),\n",
       " ('CCNB1', 'ESPL1', {'weight': 0.14373280859820384}),\n",
       " ('CCNB1', 'FOXM1', {'weight': 0.1382376619419695}),\n",
       " ('CCNB1', 'MYT1', {'weight': 0.13322410286753136}),\n",
       " ('CCNB1', 'CCNF', {'weight': 0.12662709424080199}),\n",
       " ('CCNB1', 'CDC6', {'weight': 0.12532488380605253}),\n",
       " ('CCNB1', 'NDC80', {'weight': 0.11854026751095005}),\n",
       " ('CCNB1', 'NGB', {'weight': 0.11623261041868649}),\n",
       " ('CCNB1', 'GADD45B', {'weight': 0.11099287167934424}),\n",
       " ('CCNB1', 'CDC25C', {'weight': 0.11089868735741}),\n",
       " ('CCNB1', 'GADD45G', {'weight': 0.10186146842533633}),\n",
       " ('CCNB1', 'MEF2C', {'weight': 0.09697047201192947}),\n",
       " ('CCNB1', 'CDC20', {'weight': 0.09434283013980806}),\n",
       " ('CCNB1', 'PRC1', {'weight': 0.09286235645054919}),\n",
       " ('CCNB1', 'ALKBH8', {'weight': 0.08827416961513986}),\n",
       " ('CCNB1', 'CCNA2', {'weight': 0.07083152401354044}),\n",
       " ('CCNB1', 'CDC25A', {'weight': 0.07015113006358001})]"
      ]
     },
     "execution_count": 99,
     "metadata": {},
     "output_type": "execute_result"
    }
   ],
   "source": [
    "ips = [i for i in C_full_old.out_edges('CCNB1', data=True)]\n",
    "print (len(ips))\n",
    "sorted([i for i in ips], key=lambda x: x[2]['weight'], reverse=True)[:20]#i[1].startswith('CC')]"
   ]
  },
  {
   "cell_type": "code",
   "execution_count": 37,
   "metadata": {},
   "outputs": [],
   "source": [
    "scaling_factor = vals.Diff_div / (lrp_neighbor_matrix != 0).sum(axis=0)"
   ]
  },
  {
   "cell_type": "code",
   "execution_count": 41,
   "metadata": {},
   "outputs": [
    {
     "data": {
      "text/plain": [
       "inf"
      ]
     },
     "execution_count": 41,
     "metadata": {},
     "output_type": "execute_result"
    }
   ],
   "source": [
    "vals.Diff_div.max()"
   ]
  },
  {
   "cell_type": "code",
   "execution_count": null,
   "metadata": {},
   "outputs": [],
   "source": []
  }
 ],
 "metadata": {
  "kernelspec": {
   "display_name": "Python 3",
   "language": "python",
   "name": "python3"
  },
  "language_info": {
   "codemirror_mode": {
    "name": "ipython",
    "version": 3
   },
   "file_extension": ".py",
   "mimetype": "text/x-python",
   "name": "python",
   "nbconvert_exporter": "python",
   "pygments_lexer": "ipython3",
   "version": "3.7.7"
  }
 },
 "nbformat": 4,
 "nbformat_minor": 4
}
